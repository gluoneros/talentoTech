{
  "nbformat": 4,
  "nbformat_minor": 0,
  "metadata": {
    "colab": {
      "provenance": [],
      "authorship_tag": "ABX9TyO+dLcdVD2C8E35/7hLEgVp",
      "include_colab_link": true
    },
    "kernelspec": {
      "name": "python3",
      "display_name": "Python 3"
    },
    "language_info": {
      "name": "python"
    }
  },
  "cells": [
    {
      "cell_type": "markdown",
      "metadata": {
        "id": "view-in-github",
        "colab_type": "text"
      },
      "source": [
        "<a href=\"https://colab.research.google.com/github/gluoneros/talentoTech/blob/main/proyectofinal.ipynb\" target=\"_parent\"><img src=\"https://colab.research.google.com/assets/colab-badge.svg\" alt=\"Open In Colab\"/></a>"
      ]
    },
    {
      "cell_type": "markdown",
      "source": [
        "# **TALENTO TECH**\n",
        "# **Proyecto Final**\n",
        "## Grupo 2\n",
        "\n",
        "\n",
        "<img src=\"https://cdn.simpleicons.org/python/000/fff\" alt=\"Python\" align=left width=24 height=24>\n",
        "\n",
        "<img src=\"https://cdn.simpleicons.org/jupyter/000/fff\" alt=\"jupyter\" align=left width=24 height=24>\n",
        "---\n",
        "\n",
        "\n",
        "- Monica ...\n",
        "- Juan Pablo ....\n",
        "- Juan Pablo ....\n",
        "- Hildebrando Vargas\n",
        "\n",
        "## Tareas\n",
        "1. Cargar los Datos\n",
        "2. Exploración de Datos del Dataframe\n",
        "3. Generación de Estadísticas Descriptivas\n",
        "4. Visualización de datos utilizando gráficos de barras, histogramas y gráficos de dispersión\n",
        "5. Identificación y manejo de valores atípicos y tendencias en los datos\n",
        "6. Uso de técnicas como imputación de la media, mediana y regresión para completar datos faltantes.\n",
        "7. Eliminación de registros con datos faltantes o imputación de valores categóricos.\n",
        "8. Aplicación de técnicas de One-hot encoding, Label encoding, y Ordinal encoding.\n",
        "9. Cálculo y visualización de matrices de correlación.\n",
        "10. Aplicación de PCA para reducir la dimensionalidad de datasets"
      ],
      "metadata": {
        "id": "pzs2WLe_ASpS"
      }
    },
    {
      "cell_type": "code",
      "execution_count": null,
      "metadata": {
        "id": "NPIY7DE4AG4i"
      },
      "outputs": [],
      "source": []
    }
  ]
}