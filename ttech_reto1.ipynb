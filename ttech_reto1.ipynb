{
  "nbformat": 4,
  "nbformat_minor": 0,
  "metadata": {
    "colab": {
      "provenance": []
    },
    "kernelspec": {
      "name": "python3",
      "display_name": "Python 3"
    },
    "language_info": {
      "name": "python"
    }
  },
  "cells": [
    {
      "cell_type": "markdown",
      "source": [
        "# Cargar los Datos"
      ],
      "metadata": {
        "id": "xUhJBJEM-tRE"
      }
    },
    {
      "cell_type": "markdown",
      "source": [
        "# Exploración de Datos del Dataframe"
      ],
      "metadata": {
        "id": "bbcFJQBc-tOA"
      }
    },
    {
      "cell_type": "markdown",
      "source": [
        "# Generación de Estadísticas Descriptivas"
      ],
      "metadata": {
        "id": "Gz4Mmo4r-tK_"
      }
    },
    {
      "cell_type": "markdown",
      "source": [
        "# Visualización de datos utilizando gráficos de barras, histogramas y gráficos de dispersión"
      ],
      "metadata": {
        "id": "puy0BLPt-tIU"
      }
    },
    {
      "cell_type": "markdown",
      "source": [
        "# Identificación y manejo de valores atípicos y tendencias en los datos"
      ],
      "metadata": {
        "id": "f3BiwAuE-tCf"
      }
    },
    {
      "cell_type": "markdown",
      "source": [
        "# Uso de técnicas como imputación de la media, mediana y regresión para completar datos faltantes."
      ],
      "metadata": {
        "id": "tfA0xB12-s_f"
      }
    },
    {
      "cell_type": "markdown",
      "source": [
        "# Eliminación de registros con datos faltantes o imputación de valores categóricos."
      ],
      "metadata": {
        "id": "uZ0-UhTa-s7h"
      }
    },
    {
      "cell_type": "markdown",
      "source": [
        "# Aplicación de técnicas de One-hot encoding, Label encoding, y Ordinal encoding."
      ],
      "metadata": {
        "id": "WE9cRInf-s0g"
      }
    },
    {
      "cell_type": "markdown",
      "source": [
        "# Cálculo y visualización de matrices de correlación."
      ],
      "metadata": {
        "id": "Pbfx_-Uw_d0r"
      }
    },
    {
      "cell_type": "markdown",
      "source": [
        "# Aplicación de PCA para reducir la dimensionalidad de datasets"
      ],
      "metadata": {
        "id": "bq0QS0lZ_ijk"
      }
    }
  ]
}