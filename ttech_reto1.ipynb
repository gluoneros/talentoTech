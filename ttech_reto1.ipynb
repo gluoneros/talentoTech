{
  "cells": [
    {
      "cell_type": "markdown",
      "metadata": {
        "id": "xUhJBJEM-tRE"
      },
      "source": [
        "# Cargar los Datos"
      ]
    },
    {
      "cell_type": "markdown",
      "metadata": {
        "id": "bbcFJQBc-tOA"
      },
      "source": [
        "# Exploración de Datos del Dataframe"
      ]
    },
    {
      "cell_type": "markdown",
      "metadata": {
        "id": "Gz4Mmo4r-tK_"
      },
      "source": [
        "# Generación de Estadísticas Descriptivas"
      ]
    },
    {
      "cell_type": "markdown",
      "metadata": {
        "id": "puy0BLPt-tIU"
      },
      "source": [
        "# Visualización de datos utilizando gráficos de barras, histogramas y gráficos de dispersión"
      ]
    },
    {
      "cell_type": "markdown",
      "metadata": {
        "id": "f3BiwAuE-tCf"
      },
      "source": [
        "# Identificación y manejo de valores atípicos y tendencias en los datos"
      ]
    },
    {
      "cell_type": "markdown",
      "metadata": {
        "id": "tfA0xB12-s_f"
      },
      "source": [
        "# Uso de técnicas como imputación de la media, mediana y regresión para completar datos faltantes."
      ]
    },
    {
      "cell_type": "markdown",
      "metadata": {
        "id": "uZ0-UhTa-s7h"
      },
      "source": [
        "# Eliminación de registros con datos faltantes o imputación de valores categóricos."
      ]
    },
    {
      "cell_type": "markdown",
      "metadata": {
        "id": "WE9cRInf-s0g"
      },
      "source": [
        "# Aplicación de técnicas de One-hot encoding, Label encoding, y Ordinal encoding."
      ]
    },
    {
      "cell_type": "markdown",
      "metadata": {
        "id": "Pbfx_-Uw_d0r"
      },
      "source": [
        "# Cálculo y visualización de matrices de correlación."
      ]
    },
    {
      "cell_type": "markdown",
      "metadata": {
        "id": "bq0QS0lZ_ijk"
      },
      "source": [
        "# Aplicación de PCA para reducir la dimensionalidad de datasets"
      ]
    },
    {
      "cell_type": "markdown",
      "metadata": {},
      "source": [
        "# Cargar los Datos\n",
        "# Exploración de Datos del Dataframe\n",
        "# Generación de Estadísticas Descriptivas\n",
        "# Visualización de datos utilizando gráficos de barras, histogramas y gráficos de dispersión\n",
        "# Identificación y manejo de valores atípicos y tendencias en los datos\n",
        "# Uso de técnicas como imputación de la media, mediana y regresión para completar datos faltantes.\n",
        "# Eliminación de registros con datos faltantes o imputación de valores categóricos.\n",
        "# Aplicación de técnicas de One-hot encoding, Label encoding, y Ordinal encoding.\n",
        "# Cálculo y visualización de matrices de correlación.\n",
        "# Aplicación de PCA para reducir la dimensionalidad de datasets"
      ]
    }
  ],
  "metadata": {
    "colab": {
      "provenance": []
    },
    "kernelspec": {
      "display_name": "Python 3",
      "name": "python3"
    },
    "language_info": {
      "name": "python"
    }
  },
  "nbformat": 4,
  "nbformat_minor": 0
}
