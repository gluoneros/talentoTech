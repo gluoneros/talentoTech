{
  "cells": [
    {
      "cell_type": "markdown",
      "metadata": {
        "id": "bzkEQu9ekB44"
      },
      "source": [
        "---\n",
        "# **Clase 04/10/24**\n",
        "---"
      ]
    },
    {
      "cell_type": "markdown",
      "metadata": {
        "id": "brJjSGASkO2D"
      },
      "source": [
        "# NLP (Natural Language Processing)"
      ]
    },
    {
      "cell_type": "code",
      "execution_count": 1,
      "metadata": {
        "colab": {
          "base_uri": "https://localhost:8080/"
        },
        "id": "wkDUeffnjtBz",
        "outputId": "d2f76333-e133-4266-e9a7-fef695ede8e1"
      },
      "outputs": [
        {
          "name": "stderr",
          "output_type": "stream",
          "text": [
            "[nltk_data] Downloading package punkt to /home/usuario/nltk_data...\n",
            "[nltk_data]   Package punkt is already up-to-date!\n"
          ]
        }
      ],
      "source": [
        "import nltk\n",
        "nltk.download('punkt')\n",
        "from nltk.tokenize import word_tokenize\n",
        "import re\n",
        "import spacy\n",
        "from nltk.stem import PorterStemmer\n",
        "from nltk.stem import SnowballStemmer  # Import SnowballStemmer\n",
        "from nltk.tokenize import word_tokenize # Import word_tokenize\n",
        "from nltk.corpus import stopwords\n"
      ]
    },
    {
      "cell_type": "markdown",
      "metadata": {
        "id": "SwiIAeo-omCp"
      },
      "source": [
        "## Tokenizacion"
      ]
    },
    {
      "cell_type": "code",
      "execution_count": 2,
      "metadata": {},
      "outputs": [
        {
          "name": "stderr",
          "output_type": "stream",
          "text": [
            "[nltk_data] Downloading package punkt to /home/usuario/nltk_data...\n",
            "[nltk_data]   Package punkt is already up-to-date!\n"
          ]
        },
        {
          "data": {
            "text/plain": [
              "True"
            ]
          },
          "execution_count": 2,
          "metadata": {},
          "output_type": "execute_result"
        }
      ],
      "source": [
        "nltk.download('punkt')"
      ]
    },
    {
      "cell_type": "code",
      "execution_count": 4,
      "metadata": {},
      "outputs": [
        {
          "name": "stdout",
          "output_type": "stream",
          "text": [
            "['el', 'perro', 'corre', 'rápido', 'y', 'es', 'un', 'perro']\n"
          ]
        }
      ],
      "source": [
        "texto1 = 'el perro corre rápido y es un perro'\n",
        "tokens = word_tokenize(texto1)\n",
        "print(tokens)"
      ]
    },
    {
      "cell_type": "markdown",
      "metadata": {
        "id": "Zr_0Hg8eorGs"
      },
      "source": [
        "## Normalizacion"
      ]
    },
    {
      "cell_type": "code",
      "execution_count": 5,
      "metadata": {
        "colab": {
          "base_uri": "https://localhost:8080/"
        },
        "id": "iMUZEEPum9eg",
        "outputId": "1a7ace57-44e0-46a3-8a16-34df797314be"
      },
      "outputs": [
        {
          "name": "stdout",
          "output_type": "stream",
          "text": [
            "el perro corre mas rapido que el gato\n"
          ]
        }
      ],
      "source": [
        "texto2 = 'EL PERRO corre mas rapido que el gato!!!'\n",
        "texto2_normalizado = re.sub(r'[^\\w\\s]', '', texto2.lower())\n",
        "print(texto2_normalizado)\n"
      ]
    },
    {
      "cell_type": "code",
      "execution_count": 15,
      "metadata": {},
      "outputs": [],
      "source": [
        "texto2 = 'EL PERRO corre mas rapido que el gato!!!'"
      ]
    },
    {
      "cell_type": "code",
      "execution_count": 16,
      "metadata": {},
      "outputs": [
        {
          "name": "stdout",
          "output_type": "stream",
          "text": [
            "el perro corre mas rapido que el gato\n"
          ]
        }
      ],
      "source": [
        "\n",
        "texto2_normalizado = re.sub(r'[^\\w\\s]', '', texto2.lower())\n",
        "print(texto2_normalizado)\n"
      ]
    },
    {
      "cell_type": "markdown",
      "metadata": {
        "id": "vezijWPFowCR"
      },
      "source": [
        "## Lematizacion"
      ]
    },
    {
      "cell_type": "markdown",
      "metadata": {
        "id": "q6lq510DpQtz"
      },
      "source": [
        "### Ejemplo sin lemtizacion: 'El perro esta corriendo rapido '\n",
        "### Ejemplo con lema: ['el', 'perro', 'estar', 'correr', 'rapido']"
      ]
    },
    {
      "cell_type": "code",
      "execution_count": 10,
      "metadata": {
        "colab": {
          "base_uri": "https://localhost:8080/"
        },
        "id": "ot_2ebjNrg3s",
        "outputId": "239aef1b-3f56-4cc0-d7f2-f9f144fdc985"
      },
      "outputs": [
        {
          "name": "stdout",
          "output_type": "stream",
          "text": [
            "Collecting es-core-news-sm==3.8.0\n",
            "  Downloading https://github.com/explosion/spacy-models/releases/download/es_core_news_sm-3.8.0/es_core_news_sm-3.8.0-py3-none-any.whl (12.9 MB)\n",
            "\u001b[2K     \u001b[90m━━━━━━━━━━━━━━━━━━━━━━━━━━━━━━━━━━━━━━━━\u001b[0m \u001b[32m12.9/12.9 MB\u001b[0m \u001b[31m6.3 MB/s\u001b[0m eta \u001b[36m0:00:00\u001b[0m00:01\u001b[0m00:01\u001b[0m\n",
            "\u001b[?25hInstalling collected packages: es-core-news-sm\n",
            "Successfully installed es-core-news-sm-3.8.0\n",
            "\u001b[38;5;2m✔ Download and installation successful\u001b[0m\n",
            "You can now load the package via spacy.load('es_core_news_sm')\n"
          ]
        }
      ],
      "source": [
        "!python -m spacy download es_core_news_sm"
      ]
    },
    {
      "cell_type": "code",
      "execution_count": 6,
      "metadata": {
        "colab": {
          "base_uri": "https://localhost:8080/"
        },
        "id": "UzH1SD9uoNr1",
        "outputId": "d400c6dc-4475-4ed7-fe55-da200bf12db4"
      },
      "outputs": [
        {
          "name": "stdout",
          "output_type": "stream",
          "text": [
            "El perro esta corriendo rapido\n",
            "['el', 'perro', 'este', 'correr', 'rapido']\n"
          ]
        }
      ],
      "source": [
        "nlp = spacy.load('es_core_news_sm')\n",
        "\n",
        "texto3 = 'El perro esta corriendo rapido'\n",
        "doc = nlp(texto3)\n",
        "tokens = [token.lemma_ for token in doc]\n",
        "print(doc)\n",
        "print(tokens)"
      ]
    },
    {
      "cell_type": "markdown",
      "metadata": {
        "id": "i1R3cjfur1hl"
      },
      "source": [
        "## 4. Streamming"
      ]
    },
    {
      "cell_type": "code",
      "execution_count": 7,
      "metadata": {
        "id": "AQbdbgBWrv60"
      },
      "outputs": [],
      "source": [
        "import nltk\n",
        "from nltk.stem import PorterStemmer\n",
        "\n",
        "stemmer = PorterStemmer()"
      ]
    },
    {
      "cell_type": "code",
      "execution_count": 8,
      "metadata": {
        "colab": {
          "base_uri": "https://localhost:8080/"
        },
        "id": "AeU86DdKsb3_",
        "outputId": "3379150f-e207-42ee-9ffc-2d15705f8f69"
      },
      "outputs": [
        {
          "name": "stdout",
          "output_type": "stream",
          "text": [
            "['los', 'niñ', 'estan', 'nad', 'en', 'la', 'piscin']\n"
          ]
        }
      ],
      "source": [
        "stemmer = SnowballStemmer('spanish') # Initialize Spanish stemmer\n",
        "texto4 = 'Los niños estan nadando en la piscina'\n",
        "tokens = word_tokenize(texto4.lower())\n",
        "tokens = [stemmer.stem(token) for token in tokens] # Use the correct stemmer variable\n",
        "print(tokens)"
      ]
    },
    {
      "cell_type": "markdown",
      "metadata": {
        "id": "sxEN7QdMtcpx"
      },
      "source": [
        "## 5. Eliminacion de stop-words"
      ]
    },
    {
      "cell_type": "code",
      "execution_count": 9,
      "metadata": {
        "colab": {
          "base_uri": "https://localhost:8080/"
        },
        "id": "b_CJVnXhtpI0",
        "outputId": "50dfdd68-27d4-4397-ff7c-979821e68d0a"
      },
      "outputs": [
        {
          "name": "stdout",
          "output_type": "stream",
          "text": [
            "['niños', 'estan', 'nadando', 'piscina']\n"
          ]
        },
        {
          "name": "stderr",
          "output_type": "stream",
          "text": [
            "[nltk_data] Downloading package stopwords to\n",
            "[nltk_data]     /home/usuario/nltk_data...\n",
            "[nltk_data]   Package stopwords is already up-to-date!\n"
          ]
        }
      ],
      "source": [
        "nltk.download('stopwords')\n",
        "stop_words = set(stopwords.words('spanish'))\n",
        "texto5 = 'Los niños estan nadando en la piscina'\n",
        "tokens = word_tokenize(texto5.lower())\n",
        "tokens = [token for token in tokens if token not in stop_words]\n",
        "print(tokens)"
      ]
    },
    {
      "cell_type": "code",
      "execution_count": null,
      "metadata": {},
      "outputs": [],
      "source": []
    },
    {
      "cell_type": "markdown",
      "metadata": {
        "id": "CgvS68Ljv23x"
      },
      "source": [
        "# **Representacion de texto - Encoding**"
      ]
    },
    {
      "cell_type": "code",
      "execution_count": 10,
      "metadata": {
        "id": "bXtev9fgwCyq"
      },
      "outputs": [],
      "source": [
        "from sklearn.feature_extraction.text import CountVectorizer"
      ]
    },
    {
      "cell_type": "markdown",
      "metadata": {
        "id": "eNgOEubBwH-v"
      },
      "source": [
        "## Bolsa de palabras"
      ]
    },
    {
      "cell_type": "code",
      "execution_count": 11,
      "metadata": {
        "colab": {
          "base_uri": "https://localhost:8080/"
        },
        "id": "LuA3wlLGwmUO",
        "outputId": "d90eccfe-817b-4a58-d455-a4f9d48cd976"
      },
      "outputs": [
        {
          "name": "stdout",
          "output_type": "stream",
          "text": [
            "['corre' 'el' 'gato' 'perro' 'rapido']\n",
            "[[1 1 0 2 1]\n",
            " [1 1 1 0 1]]\n"
          ]
        }
      ],
      "source": [
        "texto6 = ['El perro corre rapido perro', 'El gato corre rapido']\n",
        "vectorizer = CountVectorizer()\n",
        "X = vectorizer.fit_transform(texto6)\n",
        "print(vectorizer.get_feature_names_out())\n",
        "print(X.toarray())"
      ]
    },
    {
      "cell_type": "code",
      "execution_count": null,
      "metadata": {
        "id": "BaXKzf44vfbF"
      },
      "outputs": [],
      "source": [
        "from sklearn.feature_extraction.text import CountVectorizer"
      ]
    },
    {
      "cell_type": "code",
      "execution_count": null,
      "metadata": {
        "id": "pwcq_1ICsuog"
      },
      "outputs": [],
      "source": [
        "df = pd.read_csv('/content/spam.csv', encoding='latin-1')"
      ]
    },
    {
      "cell_type": "code",
      "execution_count": null,
      "metadata": {
        "colab": {
          "base_uri": "https://localhost:8080/"
        },
        "id": "QI58_F_qtfsL",
        "outputId": "8b847da0-d189-41ef-d3ad-4b8f7cf09011"
      },
      "outputs": [
        {
          "name": "stdout",
          "output_type": "stream",
          "text": [
            "Variable 'result' not found, using default encoding 'latin1'\n"
          ]
        }
      ],
      "source": [
        "new_spam = pd.DataFrame"
      ]
    },
    {
      "cell_type": "code",
      "execution_count": null,
      "metadata": {
        "id": "zMn28DNovulF"
      },
      "outputs": [],
      "source": [
        "vectorizer"
      ]
    }
  ],
  "metadata": {
    "colab": {
      "provenance": []
    },
    "kernelspec": {
      "display_name": "venv",
      "language": "python",
      "name": "python3"
    },
    "language_info": {
      "codemirror_mode": {
        "name": "ipython",
        "version": 3
      },
      "file_extension": ".py",
      "mimetype": "text/x-python",
      "name": "python",
      "nbconvert_exporter": "python",
      "pygments_lexer": "ipython3",
      "version": "3.12.3"
    }
  },
  "nbformat": 4,
  "nbformat_minor": 0
}
