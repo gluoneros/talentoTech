{
 "cells": [
  {
   "cell_type": "code",
   "execution_count": 25,
   "metadata": {},
   "outputs": [],
   "source": [
    "import pandas as pd\n",
    "import numpy as np\n",
    "import matplotlib.pyplot as plt\n",
    "import seaborn as sns\n"
   ]
  },
  {
   "cell_type": "code",
   "execution_count": 26,
   "metadata": {},
   "outputs": [],
   "source": [
    "df = pd.read_csv('./smart_home_energy_usage_dataset.csv')\n"
   ]
  },
  {
   "cell_type": "code",
   "execution_count": 40,
   "metadata": {},
   "outputs": [
    {
     "data": {
      "text/plain": [
       "<seaborn.axisgrid.FacetGrid at 0x7794ed0d4c20>"
      ]
     },
     "execution_count": 40,
     "metadata": {},
     "output_type": "execute_result"
    },
    {
     "data": {
      "image/png": "[encoded data removed]",
      "text/plain": [
       "<Figure size 512.222x500 with 1 Axes>"
      ]
     },
     "metadata": {},
     "output_type": "display_data"
    }
   ],
   "source": [
    "sns.set_theme()\n",
    "sns.catplot(data=df, x=\"appliance\", y=\"energy_consumption_kWh\", kind=\"bar\")\n"
   ]
  },
  {
   "cell_type": "markdown",
   "metadata": {},
   "source": [
    "---\n",
    "===\n",
    "---\n",
    "\n",
    "# **Clase 17/09**"
   ]
  },
  {
   "cell_type": "code",
   "execution_count": 1,
   "metadata": {},
   "outputs": [],
   "source": [
    "import pandas as pd\n",
    "import numpy as np\n",
    "import matplotlib.pyplot as plt\n",
    "import seaborn as sns\n"
   ]
  },
  {
   "cell_type": "code",
   "execution_count": 5,
   "metadata": {},
   "outputs": [
    {
     "data": {
      "text/html": [
       "<div>\n",
       "<style scoped>\n",
       "    .dataframe tbody tr th:only-of-type {\n",
       "        vertical-align: middle;\n",
       "    }\n",
       "\n",
       "    .dataframe tbody tr th {\n",
       "        vertical-align: top;\n",
       "    }\n",
       "\n",
       "    .dataframe thead th {\n",
       "        text-align: right;\n",
       "    }\n",
       "</style>\n",
       "<table border=\"1\" class=\"dataframe\">\n",
       "  <thead>\n",
       "    <tr style=\"text-align: right;\">\n",
       "      <th></th>\n",
       "      <th>Producción (MW)</th>\n",
       "      <th>Temperatura (°C)</th>\n",
       "      <th>Luz Solar (Horas)</th>\n",
       "      <th>Velocidad del Viento (m/s)</th>\n",
       "      <th>Humedad (%)</th>\n",
       "      <th>Costo de Producción ($/MW)</th>\n",
       "      <th>Año de Instalación</th>\n",
       "      <th>Supervivencia (Rentable en 10 años)</th>\n",
       "    </tr>\n",
       "  </thead>\n",
       "  <tbody>\n",
       "    <tr>\n",
       "      <th>count</th>\n",
       "      <td>456.000000</td>\n",
       "      <td>408.000000</td>\n",
       "      <td>438.000000</td>\n",
       "      <td>476.000000</td>\n",
       "      <td>416.000000</td>\n",
       "      <td>453.000000</td>\n",
       "      <td>457.000000</td>\n",
       "      <td>475.000000</td>\n",
       "    </tr>\n",
       "    <tr>\n",
       "      <th>mean</th>\n",
       "      <td>521.932018</td>\n",
       "      <td>25.023284</td>\n",
       "      <td>10.063014</td>\n",
       "      <td>14.053151</td>\n",
       "      <td>59.787981</td>\n",
       "      <td>2300.973510</td>\n",
       "      <td>2012.921225</td>\n",
       "      <td>0.581053</td>\n",
       "    </tr>\n",
       "    <tr>\n",
       "      <th>std</th>\n",
       "      <td>285.320537</td>\n",
       "      <td>8.668811</td>\n",
       "      <td>2.902623</td>\n",
       "      <td>6.348365</td>\n",
       "      <td>23.617587</td>\n",
       "      <td>1025.234918</td>\n",
       "      <td>5.555771</td>\n",
       "      <td>0.493907</td>\n",
       "    </tr>\n",
       "    <tr>\n",
       "      <th>min</th>\n",
       "      <td>50.000000</td>\n",
       "      <td>10.100000</td>\n",
       "      <td>5.100000</td>\n",
       "      <td>3.000000</td>\n",
       "      <td>20.000000</td>\n",
       "      <td>502.000000</td>\n",
       "      <td>2005.000000</td>\n",
       "      <td>0.000000</td>\n",
       "    </tr>\n",
       "    <tr>\n",
       "      <th>25%</th>\n",
       "      <td>266.500000</td>\n",
       "      <td>17.375000</td>\n",
       "      <td>7.500000</td>\n",
       "      <td>9.100000</td>\n",
       "      <td>40.650000</td>\n",
       "      <td>1374.000000</td>\n",
       "      <td>2010.000000</td>\n",
       "      <td>0.000000</td>\n",
       "    </tr>\n",
       "    <tr>\n",
       "      <th>50%</th>\n",
       "      <td>549.500000</td>\n",
       "      <td>24.900000</td>\n",
       "      <td>10.200000</td>\n",
       "      <td>13.950000</td>\n",
       "      <td>59.550000</td>\n",
       "      <td>2373.000000</td>\n",
       "      <td>2015.000000</td>\n",
       "      <td>1.000000</td>\n",
       "    </tr>\n",
       "    <tr>\n",
       "      <th>75%</th>\n",
       "      <td>765.000000</td>\n",
       "      <td>32.350000</td>\n",
       "      <td>12.600000</td>\n",
       "      <td>19.600000</td>\n",
       "      <td>80.400000</td>\n",
       "      <td>3177.000000</td>\n",
       "      <td>2020.000000</td>\n",
       "      <td>1.000000</td>\n",
       "    </tr>\n",
       "    <tr>\n",
       "      <th>max</th>\n",
       "      <td>999.000000</td>\n",
       "      <td>40.000000</td>\n",
       "      <td>15.000000</td>\n",
       "      <td>25.000000</td>\n",
       "      <td>99.600000</td>\n",
       "      <td>3997.000000</td>\n",
       "      <td>2020.000000</td>\n",
       "      <td>1.000000</td>\n",
       "    </tr>\n",
       "  </tbody>\n",
       "</table>\n",
       "</div>"
      ],
      "text/plain": [
       "       Producción (MW)  Temperatura (°C)  Luz Solar (Horas)  \\\n",
       "count       456.000000        408.000000         438.000000   \n",
       "mean        521.932018         25.023284          10.063014   \n",
       "std         285.320537          8.668811           2.902623   \n",
       "min          50.000000         10.100000           5.100000   \n",
       "25%         266.500000         17.375000           7.500000   \n",
       "50%         549.500000         24.900000          10.200000   \n",
       "75%         765.000000         32.350000          12.600000   \n",
       "max         999.000000         40.000000          15.000000   \n",
       "\n",
       "       Velocidad del Viento (m/s)  Humedad (%)  Costo de Producción ($/MW)  \\\n",
       "count                  476.000000   416.000000                  453.000000   \n",
       "mean                    14.053151    59.787981                 2300.973510   \n",
       "std                      6.348365    23.617587                 1025.234918   \n",
       "min                      3.000000    20.000000                  502.000000   \n",
       "25%                      9.100000    40.650000                 1374.000000   \n",
       "50%                     13.950000    59.550000                 2373.000000   \n",
       "75%                     19.600000    80.400000                 3177.000000   \n",
       "max                     25.000000    99.600000                 3997.000000   \n",
       "\n",
       "       Año de Instalación  Supervivencia (Rentable en 10 años)  \n",
       "count          457.000000                           475.000000  \n",
       "mean          2012.921225                             0.581053  \n",
       "std              5.555771                             0.493907  \n",
       "min           2005.000000                             0.000000  \n",
       "25%           2010.000000                             0.000000  \n",
       "50%           2015.000000                             1.000000  \n",
       "75%           2020.000000                             1.000000  \n",
       "max           2020.000000                             1.000000  "
      ]
     },
     "execution_count": 5,
     "metadata": {},
     "output_type": "execute_result"
    }
   ],
   "source": [
    "df = pd.read_csv('./dataset_renovables_sintetico.csv')\n",
    "df.describe()"
   ]
  }
 ],
 "metadata": {
  "kernelspec": {
   "display_name": "venv",
   "language": "python",
   "name": "python3"
  },
  "language_info": {
   "codemirror_mode": {
    "name": "ipython",
    "version": 3
   },
   "file_extension": ".py",
   "mimetype": "text/x-python",
   "name": "python",
   "nbconvert_exporter": "python",
   "pygments_lexer": "ipython3",
   "version": "3.12.3"
  }
 },
 "nbformat": 4,
 "nbformat_minor": 2
}
