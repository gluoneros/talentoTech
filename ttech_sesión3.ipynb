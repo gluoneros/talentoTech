{
  "cells": [
    {
      "cell_type": "markdown",
      "metadata": {
        "id": "E3Hrx3uHpaBv"
      },
      "source": [
        "# Sesión 3"
      ]
    },
    {
      "cell_type": "markdown",
      "metadata": {
        "id": "KQwU2bUHpihg"
      },
      "source": [
        "## Tipos de datos"
      ]
    },
    {
      "cell_type": "code",
      "execution_count": 1,
      "metadata": {
        "colab": {
          "base_uri": "https://localhost:8080/",
          "height": 441
        },
        "id": "NI3wrr3ZBG3g",
        "outputId": "3da56d34-3267-47fa-ea52-c1c59ffdd3f2"
      },
      "outputs": [
        {
          "data": {
            "text/html": [
              "<div>\n",
              "<style scoped>\n",
              "    .dataframe tbody tr th:only-of-type {\n",
              "        vertical-align: middle;\n",
              "    }\n",
              "\n",
              "    .dataframe tbody tr th {\n",
              "        vertical-align: top;\n",
              "    }\n",
              "\n",
              "    .dataframe thead th {\n",
              "        text-align: right;\n",
              "    }\n",
              "</style>\n",
              "<table border=\"1\" class=\"dataframe\">\n",
              "  <thead>\n",
              "    <tr style=\"text-align: right;\">\n",
              "      <th></th>\n",
              "      <th>Fuente de energía</th>\n",
              "      <th>Mineral estratégico</th>\n",
              "      <th>Nivel de democratización energética</th>\n",
              "      <th>Número de comunidades energéticas</th>\n",
              "      <th>Número de proyectos en marcha</th>\n",
              "      <th>Capacidad generada (MW)</th>\n",
              "      <th>Reducción de CO2 (toneladas)</th>\n",
              "    </tr>\n",
              "  </thead>\n",
              "  <tbody>\n",
              "    <tr>\n",
              "      <th>0</th>\n",
              "      <td>Hidráulica</td>\n",
              "      <td>Cobre</td>\n",
              "      <td>Alto</td>\n",
              "      <td>27</td>\n",
              "      <td>16</td>\n",
              "      <td>371.15</td>\n",
              "      <td>14251.36</td>\n",
              "    </tr>\n",
              "    <tr>\n",
              "      <th>1</th>\n",
              "      <td>Geotérmica</td>\n",
              "      <td>Litio</td>\n",
              "      <td>Medio</td>\n",
              "      <td>6</td>\n",
              "      <td>7</td>\n",
              "      <td>277.50</td>\n",
              "      <td>2353.52</td>\n",
              "    </tr>\n",
              "    <tr>\n",
              "      <th>2</th>\n",
              "      <td>Hidrógeno verde</td>\n",
              "      <td>Cobre</td>\n",
              "      <td>Alto</td>\n",
              "      <td>31</td>\n",
              "      <td>4</td>\n",
              "      <td>355.86</td>\n",
              "      <td>8460.55</td>\n",
              "    </tr>\n",
              "    <tr>\n",
              "      <th>3</th>\n",
              "      <td>Geotérmica</td>\n",
              "      <td>Cobalto</td>\n",
              "      <td>Alto</td>\n",
              "      <td>46</td>\n",
              "      <td>1</td>\n",
              "      <td>484.64</td>\n",
              "      <td>69479.73</td>\n",
              "    </tr>\n",
              "    <tr>\n",
              "      <th>4</th>\n",
              "      <td>Geotérmica</td>\n",
              "      <td>Litio</td>\n",
              "      <td>Bajo</td>\n",
              "      <td>6</td>\n",
              "      <td>5</td>\n",
              "      <td>347.13</td>\n",
              "      <td>53900.28</td>\n",
              "    </tr>\n",
              "    <tr>\n",
              "      <th>...</th>\n",
              "      <td>...</td>\n",
              "      <td>...</td>\n",
              "      <td>...</td>\n",
              "      <td>...</td>\n",
              "      <td>...</td>\n",
              "      <td>...</td>\n",
              "      <td>...</td>\n",
              "    </tr>\n",
              "    <tr>\n",
              "      <th>95</th>\n",
              "      <td>Hidrógeno verde</td>\n",
              "      <td>Níquel</td>\n",
              "      <td>Alto</td>\n",
              "      <td>9</td>\n",
              "      <td>13</td>\n",
              "      <td>202.56</td>\n",
              "      <td>54122.47</td>\n",
              "    </tr>\n",
              "    <tr>\n",
              "      <th>96</th>\n",
              "      <td>Geotérmica</td>\n",
              "      <td>Níquel</td>\n",
              "      <td>Alto</td>\n",
              "      <td>16</td>\n",
              "      <td>10</td>\n",
              "      <td>416.29</td>\n",
              "      <td>92480.13</td>\n",
              "    </tr>\n",
              "    <tr>\n",
              "      <th>97</th>\n",
              "      <td>Eólica</td>\n",
              "      <td>Litio</td>\n",
              "      <td>Bajo</td>\n",
              "      <td>20</td>\n",
              "      <td>7</td>\n",
              "      <td>288.85</td>\n",
              "      <td>24375.54</td>\n",
              "    </tr>\n",
              "    <tr>\n",
              "      <th>98</th>\n",
              "      <td>Eólica</td>\n",
              "      <td>Manganeso</td>\n",
              "      <td>Bajo</td>\n",
              "      <td>30</td>\n",
              "      <td>14</td>\n",
              "      <td>41.12</td>\n",
              "      <td>76235.59</td>\n",
              "    </tr>\n",
              "    <tr>\n",
              "      <th>99</th>\n",
              "      <td>Solar</td>\n",
              "      <td>Cobre</td>\n",
              "      <td>Medio</td>\n",
              "      <td>30</td>\n",
              "      <td>5</td>\n",
              "      <td>28.04</td>\n",
              "      <td>53595.31</td>\n",
              "    </tr>\n",
              "  </tbody>\n",
              "</table>\n",
              "<p>100 rows × 7 columns</p>\n",
              "</div>"
            ],
            "text/plain": [
              "   Fuente de energía Mineral estratégico Nivel de democratización energética  \\\n",
              "0         Hidráulica               Cobre                                Alto   \n",
              "1         Geotérmica               Litio                               Medio   \n",
              "2    Hidrógeno verde               Cobre                                Alto   \n",
              "3         Geotérmica             Cobalto                                Alto   \n",
              "4         Geotérmica               Litio                                Bajo   \n",
              "..               ...                 ...                                 ...   \n",
              "95   Hidrógeno verde              Níquel                                Alto   \n",
              "96        Geotérmica              Níquel                                Alto   \n",
              "97            Eólica               Litio                                Bajo   \n",
              "98            Eólica           Manganeso                                Bajo   \n",
              "99             Solar               Cobre                               Medio   \n",
              "\n",
              "    Número de comunidades energéticas  Número de proyectos en marcha  \\\n",
              "0                                  27                             16   \n",
              "1                                   6                              7   \n",
              "2                                  31                              4   \n",
              "3                                  46                              1   \n",
              "4                                   6                              5   \n",
              "..                                ...                            ...   \n",
              "95                                  9                             13   \n",
              "96                                 16                             10   \n",
              "97                                 20                              7   \n",
              "98                                 30                             14   \n",
              "99                                 30                              5   \n",
              "\n",
              "    Capacidad generada (MW)  Reducción de CO2 (toneladas)  \n",
              "0                    371.15                      14251.36  \n",
              "1                    277.50                       2353.52  \n",
              "2                    355.86                       8460.55  \n",
              "3                    484.64                      69479.73  \n",
              "4                    347.13                      53900.28  \n",
              "..                      ...                           ...  \n",
              "95                   202.56                      54122.47  \n",
              "96                   416.29                      92480.13  \n",
              "97                   288.85                      24375.54  \n",
              "98                    41.12                      76235.59  \n",
              "99                    28.04                      53595.31  \n",
              "\n",
              "[100 rows x 7 columns]"
            ]
          },
          "execution_count": 1,
          "metadata": {},
          "output_type": "execute_result"
        }
      ],
      "source": [
        "import pandas as pd\n",
        "\n",
        "data = pd.read_csv('datos_simulados.csv')\n",
        "\n",
        "data"
      ]
    },
    {
      "cell_type": "markdown",
      "metadata": {
        "id": "8DRfTUZupmE0"
      },
      "source": [
        "## Conceptos Estadísticos Básicos"
      ]
    },
    {
      "cell_type": "code",
      "execution_count": 2,
      "metadata": {
        "id": "N1EQciPZcYLg"
      },
      "outputs": [
        {
          "data": {
            "text/plain": [
              "np.float64(27.26)"
            ]
          },
          "execution_count": 2,
          "metadata": {},
          "output_type": "execute_result"
        }
      ],
      "source": [
        "import numpy as np\n",
        "import matplotlib.pyplot as plt\n",
        "\n",
        "np.mean(data['Número de comunidades energéticas'])"
      ]
    },
    {
      "cell_type": "code",
      "execution_count": 3,
      "metadata": {
        "colab": {
          "base_uri": "https://localhost:8080/"
        },
        "id": "6bQCsoYJqI1U",
        "outputId": "7c2c21f8-6249-4c04-f501-96cd6c61c795"
      },
      "outputs": [
        {
          "data": {
            "text/plain": [
              "np.float64(28.5)"
            ]
          },
          "execution_count": 3,
          "metadata": {},
          "output_type": "execute_result"
        }
      ],
      "source": [
        "nce = list(data['Número de comunidades energéticas'])\n",
        "np.median(nce)"
      ]
    },
    {
      "cell_type": "code",
      "execution_count": 4,
      "metadata": {
        "colab": {
          "base_uri": "https://localhost:8080/",
          "height": 430
        },
        "id": "6QW3SM-RcqCk",
        "outputId": "3a1db1cb-855b-46d1-9208-4347bbaedf91"
      },
      "outputs": [
        {
          "data": {
            "image/png": "[encoded data removed]",
            "text/plain": [
              "<Figure size 640x480 with 1 Axes>"
            ]
          },
          "metadata": {},
          "output_type": "display_data"
        }
      ],
      "source": [
        "plt.hist(nce, 50)\n",
        "plt.show()"
      ]
    },
    {
      "cell_type": "code",
      "execution_count": 5,
      "metadata": {
        "colab": {
          "base_uri": "https://localhost:8080/"
        },
        "id": "bvQ6wDqLdegu",
        "outputId": "3d8af06a-afdc-4fc7-b61c-b8c8dd5cc8d9"
      },
      "outputs": [
        {
          "data": {
            "text/plain": [
              "np.float64(1227374.4368365966)"
            ]
          },
          "execution_count": 5,
          "metadata": {},
          "output_type": "execute_result"
        }
      ],
      "source": [
        "salario = np.random.normal(1250000,500000,1000)\n",
        "np.mean(salario)"
      ]
    },
    {
      "cell_type": "code",
      "execution_count": 6,
      "metadata": {
        "colab": {
          "base_uri": "https://localhost:8080/"
        },
        "id": "b91OYKj-ezIO",
        "outputId": "7080e930-9d97-4e93-d72c-abc31a167ff8"
      },
      "outputs": [
        {
          "data": {
            "text/plain": [
              "np.float64(1217179.7013164305)"
            ]
          },
          "execution_count": 6,
          "metadata": {},
          "output_type": "execute_result"
        }
      ],
      "source": [
        "np.median(salario)"
      ]
    },
    {
      "cell_type": "code",
      "execution_count": 8,
      "metadata": {
        "colab": {
          "base_uri": "https://localhost:8080/",
          "height": 448
        },
        "id": "7WglyYIafF0i",
        "outputId": "9639d3ea-13e2-4139-a243-9d51f82bf708"
      },
      "outputs": [
        {
          "data": {
            "image/png": "[encoded data removed]",
            "text/plain": [
              "<Figure size 640x480 with 1 Axes>"
            ]
          },
          "metadata": {},
          "output_type": "display_data"
        }
      ],
      "source": [
        "plt.hist(salario, 20)\n",
        "plt.show()"
      ]
    },
    {
      "cell_type": "code",
      "execution_count": 9,
      "metadata": {
        "colab": {
          "base_uri": "https://localhost:8080/"
        },
        "id": "2Tbd6pYngt06",
        "outputId": "6c45ce68-6a0a-4314-cd10-a3e4b1594dc7"
      },
      "outputs": [
        {
          "data": {
            "text/plain": [
              "np.float64(241544826830.1173)"
            ]
          },
          "execution_count": 9,
          "metadata": {},
          "output_type": "execute_result"
        }
      ],
      "source": [
        "salario.var()"
      ]
    },
    {
      "cell_type": "code",
      "execution_count": 10,
      "metadata": {
        "colab": {
          "base_uri": "https://localhost:8080/"
        },
        "id": "6g6R3wopjtV9",
        "outputId": "2193cf58-8a0f-45f2-8ee1-0861462ced1b"
      },
      "outputs": [
        {
          "data": {
            "text/plain": [
              "np.float64(491472.1017821025)"
            ]
          },
          "execution_count": 10,
          "metadata": {},
          "output_type": "execute_result"
        }
      ],
      "source": [
        "salario.std()"
      ]
    },
    {
      "cell_type": "code",
      "execution_count": 11,
      "metadata": {
        "id": "nzaFvcLTjz-y"
      },
      "outputs": [],
      "source": [
        "salario = np.append(salario, [10000000000])"
      ]
    },
    {
      "cell_type": "code",
      "execution_count": 12,
      "metadata": {
        "colab": {
          "base_uri": "https://localhost:8080/"
        },
        "id": "lxdkcM9WkAx9",
        "outputId": "5973f756-1f72-4fb0-c8d3-e5e54cf4f16e"
      },
      "outputs": [
        {
          "data": {
            "text/plain": [
              "np.float64(11216158.27855804)"
            ]
          },
          "execution_count": 12,
          "metadata": {},
          "output_type": "execute_result"
        }
      ],
      "source": [
        "np.mean(salario)"
      ]
    },
    {
      "cell_type": "code",
      "execution_count": 13,
      "metadata": {
        "colab": {
          "base_uri": "https://localhost:8080/"
        },
        "id": "8LdNZncUkEbN",
        "outputId": "d796e730-065c-43f7-ebab-8a703688ca3a"
      },
      "outputs": [
        {
          "data": {
            "text/plain": [
              "np.float64(1217313.432726743)"
            ]
          },
          "execution_count": 13,
          "metadata": {},
          "output_type": "execute_result"
        }
      ],
      "source": [
        "np.median(salario)"
      ]
    }
  ],
  "metadata": {
    "colab": {
      "provenance": []
    },
    "kernelspec": {
      "display_name": "Python 3",
      "name": "python3"
    },
    "language_info": {
      "codemirror_mode": {
        "name": "ipython",
        "version": 3
      },
      "file_extension": ".py",
      "mimetype": "text/x-python",
      "name": "python",
      "nbconvert_exporter": "python",
      "pygments_lexer": "ipython3",
      "version": "3.12.3"
    }
  },
  "nbformat": 4,
  "nbformat_minor": 0
}
