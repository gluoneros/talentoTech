{
  "cells": [
    {
      "cell_type": "markdown",
      "metadata": {
        "id": "Z3zDAeiRQsr7"
      },
      "source": [
        "# **TALENTO TECH**\n",
        "# **RETO 1**"
      ]
    },
    {
      "cell_type": "code",
      "execution_count": 1,
      "metadata": {
        "id": "_47u5F0sOuum"
      },
      "outputs": [],
      "source": [
        "import pandas as pd\n",
        "import numpy as np\n",
        "import matplotlib.pyplot as plt\n",
        "from sklearn.preprocessing import StandardScaler\n",
        "from sklearn.linear_model import LinearRegression\n",
        "import seaborn as sns\n"
      ]
    },
    {
      "cell_type": "markdown",
      "metadata": {
        "id": "-grpuCfHcP_p"
      },
      "source": []
    },
    {
      "cell_type": "markdown",
      "metadata": {
        "id": "ka8vdf6JQjul"
      },
      "source": [
        "## 1) Cargar Datos"
      ]
    },
    {
      "cell_type": "code",
      "execution_count": 3,
      "metadata": {
        "colab": {
          "base_uri": "https://localhost:8080/",
          "height": 493
        },
        "id": "QEMLUgc5PCBX",
        "outputId": "f30caa9e-7c29-4d9a-c9e1-527f15d4c134"
      },
      "outputs": [
        {
          "data": {
            "text/html": [
              "<div>\n",
              "<style scoped>\n",
              "    .dataframe tbody tr th:only-of-type {\n",
              "        vertical-align: middle;\n",
              "    }\n",
              "\n",
              "    .dataframe tbody tr th {\n",
              "        vertical-align: top;\n",
              "    }\n",
              "\n",
              "    .dataframe thead th {\n",
              "        text-align: right;\n",
              "    }\n",
              "</style>\n",
              "<table border=\"1\" class=\"dataframe\">\n",
              "  <thead>\n",
              "    <tr style=\"text-align: right;\">\n",
              "      <th></th>\n",
              "      <th>Planta Energética</th>\n",
              "      <th>Tipo de Energía</th>\n",
              "      <th>Nivel de Democratización Energética</th>\n",
              "      <th>Número de Comunidades Energéticas</th>\n",
              "      <th>Número de Proyectos en Marcha</th>\n",
              "      <th>Capacidad Generada (MW)</th>\n",
              "      <th>Reducción de CO2 (toneladas)</th>\n",
              "      <th>Región</th>\n",
              "      <th>Costo de Producción ($/MW)</th>\n",
              "      <th>Año de Instalación</th>\n",
              "      <th>Rentabilidad en 10 años (Rentable=1, No Rentable=0)</th>\n",
              "    </tr>\n",
              "  </thead>\n",
              "  <tbody>\n",
              "    <tr>\n",
              "      <th>0</th>\n",
              "      <td>SolarFlow</td>\n",
              "      <td>Solar</td>\n",
              "      <td>Alto</td>\n",
              "      <td>42</td>\n",
              "      <td>1.0</td>\n",
              "      <td>100.46</td>\n",
              "      <td>48910.59373127165</td>\n",
              "      <td>Sur</td>\n",
              "      <td>1893.656170</td>\n",
              "      <td>2005</td>\n",
              "      <td>1</td>\n",
              "    </tr>\n",
              "    <tr>\n",
              "      <th>1</th>\n",
              "      <td>SunWave</td>\n",
              "      <td>Solar</td>\n",
              "      <td>Bajo</td>\n",
              "      <td>12</td>\n",
              "      <td>17.0</td>\n",
              "      <td>NaN</td>\n",
              "      <td>156615.16814130466</td>\n",
              "      <td>Oeste</td>\n",
              "      <td>3398.187477</td>\n",
              "      <td>2015</td>\n",
              "      <td>0</td>\n",
              "    </tr>\n",
              "    <tr>\n",
              "      <th>2</th>\n",
              "      <td>EcoWind</td>\n",
              "      <td>NaN</td>\n",
              "      <td>Bajo</td>\n",
              "      <td>47</td>\n",
              "      <td>NaN</td>\n",
              "      <td>52.62</td>\n",
              "      <td>25618.907447138306</td>\n",
              "      <td>Sur</td>\n",
              "      <td>1642.900952</td>\n",
              "      <td>2010</td>\n",
              "      <td>0</td>\n",
              "    </tr>\n",
              "    <tr>\n",
              "      <th>3</th>\n",
              "      <td>SolarFlow</td>\n",
              "      <td>Geotérmica</td>\n",
              "      <td>NaN</td>\n",
              "      <td>24</td>\n",
              "      <td>11.0</td>\n",
              "      <td>NaN</td>\n",
              "      <td>381289.3836417021</td>\n",
              "      <td>Este</td>\n",
              "      <td>2796.374954</td>\n",
              "      <td>2010</td>\n",
              "      <td>1</td>\n",
              "    </tr>\n",
              "    <tr>\n",
              "      <th>4</th>\n",
              "      <td>HydroFlux</td>\n",
              "      <td>Hidrógeno verde</td>\n",
              "      <td>Medio</td>\n",
              "      <td>37</td>\n",
              "      <td>5.0</td>\n",
              "      <td>404.25</td>\n",
              "      <td>196815.72283363095</td>\n",
              "      <td>Norte</td>\n",
              "      <td>2144.411388</td>\n",
              "      <td>2020</td>\n",
              "      <td>1</td>\n",
              "    </tr>\n",
              "    <tr>\n",
              "      <th>...</th>\n",
              "      <td>...</td>\n",
              "      <td>...</td>\n",
              "      <td>...</td>\n",
              "      <td>...</td>\n",
              "      <td>...</td>\n",
              "      <td>...</td>\n",
              "      <td>...</td>\n",
              "      <td>...</td>\n",
              "      <td>...</td>\n",
              "      <td>...</td>\n",
              "      <td>...</td>\n",
              "    </tr>\n",
              "    <tr>\n",
              "      <th>995</th>\n",
              "      <td>EcoWind</td>\n",
              "      <td>Hidrógeno verde</td>\n",
              "      <td>Bajo</td>\n",
              "      <td>20</td>\n",
              "      <td>NaN</td>\n",
              "      <td>522.12</td>\n",
              "      <td>254202.65975484328</td>\n",
              "      <td>Norte</td>\n",
              "      <td>2996.979129</td>\n",
              "      <td>2020</td>\n",
              "      <td>1</td>\n",
              "    </tr>\n",
              "    <tr>\n",
              "      <th>996</th>\n",
              "      <td>Solaris</td>\n",
              "      <td>Eólica</td>\n",
              "      <td>Medio</td>\n",
              "      <td>23</td>\n",
              "      <td>7.0</td>\n",
              "      <td>NaN</td>\n",
              "      <td>203987.26419996214</td>\n",
              "      <td>Este</td>\n",
              "      <td>2846.525998</td>\n",
              "      <td>2010</td>\n",
              "      <td>1</td>\n",
              "    </tr>\n",
              "    <tr>\n",
              "      <th>997</th>\n",
              "      <td>SunWave</td>\n",
              "      <td>Eólica</td>\n",
              "      <td>Bajo</td>\n",
              "      <td>22</td>\n",
              "      <td>NaN</td>\n",
              "      <td>207.35</td>\n",
              "      <td>100951.73810650186</td>\n",
              "      <td>Norte</td>\n",
              "      <td>2896.677042</td>\n",
              "      <td>2005</td>\n",
              "      <td>0</td>\n",
              "    </tr>\n",
              "    <tr>\n",
              "      <th>998</th>\n",
              "      <td>VientoVerde</td>\n",
              "      <td>Eólica</td>\n",
              "      <td>Bajo</td>\n",
              "      <td>20</td>\n",
              "      <td>16.0</td>\n",
              "      <td>418.24</td>\n",
              "      <td>NaN</td>\n",
              "      <td>Este</td>\n",
              "      <td>2996.979129</td>\n",
              "      <td>2015</td>\n",
              "      <td>1</td>\n",
              "    </tr>\n",
              "    <tr>\n",
              "      <th>999</th>\n",
              "      <td>HydroFlux</td>\n",
              "      <td>Eólica</td>\n",
              "      <td>Medio</td>\n",
              "      <td>12</td>\n",
              "      <td>3.0</td>\n",
              "      <td>@#$</td>\n",
              "      <td>39703.95101319135</td>\n",
              "      <td>Sur</td>\n",
              "      <td>3398.187477</td>\n",
              "      <td>2005</td>\n",
              "      <td>1</td>\n",
              "    </tr>\n",
              "  </tbody>\n",
              "</table>\n",
              "<p>1000 rows × 11 columns</p>\n",
              "</div>"
            ],
            "text/plain": [
              "    Planta Energética  Tipo de Energía Nivel de Democratización Energética  \\\n",
              "0           SolarFlow            Solar                                Alto   \n",
              "1             SunWave            Solar                                Bajo   \n",
              "2             EcoWind              NaN                                Bajo   \n",
              "3           SolarFlow       Geotérmica                                 NaN   \n",
              "4           HydroFlux  Hidrógeno verde                               Medio   \n",
              "..                ...              ...                                 ...   \n",
              "995           EcoWind  Hidrógeno verde                                Bajo   \n",
              "996           Solaris           Eólica                               Medio   \n",
              "997           SunWave           Eólica                                Bajo   \n",
              "998       VientoVerde           Eólica                                Bajo   \n",
              "999         HydroFlux           Eólica                               Medio   \n",
              "\n",
              "    Número de Comunidades Energéticas  Número de Proyectos en Marcha  \\\n",
              "0                                  42                            1.0   \n",
              "1                                  12                           17.0   \n",
              "2                                  47                            NaN   \n",
              "3                                  24                           11.0   \n",
              "4                                  37                            5.0   \n",
              "..                                ...                            ...   \n",
              "995                                20                            NaN   \n",
              "996                                23                            7.0   \n",
              "997                                22                            NaN   \n",
              "998                                20                           16.0   \n",
              "999                                12                            3.0   \n",
              "\n",
              "    Capacidad Generada (MW) Reducción de CO2 (toneladas) Región  \\\n",
              "0                    100.46            48910.59373127165    Sur   \n",
              "1                       NaN           156615.16814130466  Oeste   \n",
              "2                     52.62           25618.907447138306    Sur   \n",
              "3                       NaN            381289.3836417021   Este   \n",
              "4                    404.25           196815.72283363095  Norte   \n",
              "..                      ...                          ...    ...   \n",
              "995                  522.12           254202.65975484328  Norte   \n",
              "996                     NaN           203987.26419996214   Este   \n",
              "997                  207.35           100951.73810650186  Norte   \n",
              "998                  418.24                          NaN   Este   \n",
              "999                     @#$            39703.95101319135    Sur   \n",
              "\n",
              "     Costo de Producción ($/MW)  Año de Instalación  \\\n",
              "0                   1893.656170                2005   \n",
              "1                   3398.187477                2015   \n",
              "2                   1642.900952                2010   \n",
              "3                   2796.374954                2010   \n",
              "4                   2144.411388                2020   \n",
              "..                          ...                 ...   \n",
              "995                 2996.979129                2020   \n",
              "996                 2846.525998                2010   \n",
              "997                 2896.677042                2005   \n",
              "998                 2996.979129                2015   \n",
              "999                 3398.187477                2005   \n",
              "\n",
              "     Rentabilidad en 10 años (Rentable=1, No Rentable=0)  \n",
              "0                                                    1    \n",
              "1                                                    0    \n",
              "2                                                    0    \n",
              "3                                                    1    \n",
              "4                                                    1    \n",
              "..                                                 ...    \n",
              "995                                                  1    \n",
              "996                                                  1    \n",
              "997                                                  0    \n",
              "998                                                  1    \n",
              "999                                                  1    \n",
              "\n",
              "[1000 rows x 11 columns]"
            ]
          },
          "execution_count": 3,
          "metadata": {},
          "output_type": "execute_result"
        }
      ],
      "source": [
        "df = pd.read_csv('./dataset_renovables_con_errores.csv')\n",
        "df"
      ]
    },
    {
      "cell_type": "markdown",
      "metadata": {
        "id": "KC8JfjKzQr79"
      },
      "source": []
    },
    {
      "cell_type": "markdown",
      "metadata": {
        "id": "JgnHikykRPB_"
      },
      "source": [
        "## 2) Explorar datos"
      ]
    },
    {
      "cell_type": "code",
      "execution_count": 4,
      "metadata": {
        "colab": {
          "base_uri": "https://localhost:8080/",
          "height": 300
        },
        "id": "C5Ue4TdtRAjH",
        "outputId": "f543eea1-ddc9-4302-aa95-aa02e6085a5d"
      },
      "outputs": [
        {
          "data": {
            "text/html": [
              "<div>\n",
              "<style scoped>\n",
              "    .dataframe tbody tr th:only-of-type {\n",
              "        vertical-align: middle;\n",
              "    }\n",
              "\n",
              "    .dataframe tbody tr th {\n",
              "        vertical-align: top;\n",
              "    }\n",
              "\n",
              "    .dataframe thead th {\n",
              "        text-align: right;\n",
              "    }\n",
              "</style>\n",
              "<table border=\"1\" class=\"dataframe\">\n",
              "  <thead>\n",
              "    <tr style=\"text-align: right;\">\n",
              "      <th></th>\n",
              "      <th>Número de Proyectos en Marcha</th>\n",
              "      <th>Costo de Producción ($/MW)</th>\n",
              "      <th>Año de Instalación</th>\n",
              "      <th>Rentabilidad en 10 años (Rentable=1, No Rentable=0)</th>\n",
              "    </tr>\n",
              "  </thead>\n",
              "  <tbody>\n",
              "    <tr>\n",
              "      <th>count</th>\n",
              "      <td>810.000000</td>\n",
              "      <td>1000.000000</td>\n",
              "      <td>1000.000000</td>\n",
              "      <td>1000.00000</td>\n",
              "    </tr>\n",
              "    <tr>\n",
              "      <th>mean</th>\n",
              "      <td>10.262963</td>\n",
              "      <td>2620.846302</td>\n",
              "      <td>2012.175000</td>\n",
              "      <td>0.58400</td>\n",
              "    </tr>\n",
              "    <tr>\n",
              "      <th>std</th>\n",
              "      <td>5.447467</td>\n",
              "      <td>653.454384</td>\n",
              "      <td>5.605872</td>\n",
              "      <td>0.49314</td>\n",
              "    </tr>\n",
              "    <tr>\n",
              "      <th>min</th>\n",
              "      <td>1.000000</td>\n",
              "      <td>1542.598865</td>\n",
              "      <td>2005.000000</td>\n",
              "      <td>0.00000</td>\n",
              "    </tr>\n",
              "    <tr>\n",
              "      <th>25%</th>\n",
              "      <td>6.000000</td>\n",
              "      <td>2044.109301</td>\n",
              "      <td>2005.000000</td>\n",
              "      <td>0.00000</td>\n",
              "    </tr>\n",
              "    <tr>\n",
              "      <th>50%</th>\n",
              "      <td>10.000000</td>\n",
              "      <td>2620.846302</td>\n",
              "      <td>2010.000000</td>\n",
              "      <td>1.00000</td>\n",
              "    </tr>\n",
              "    <tr>\n",
              "      <th>75%</th>\n",
              "      <td>15.000000</td>\n",
              "      <td>3197.583303</td>\n",
              "      <td>2015.000000</td>\n",
              "      <td>1.00000</td>\n",
              "    </tr>\n",
              "    <tr>\n",
              "      <th>max</th>\n",
              "      <td>19.000000</td>\n",
              "      <td>3749.244782</td>\n",
              "      <td>2020.000000</td>\n",
              "      <td>1.00000</td>\n",
              "    </tr>\n",
              "  </tbody>\n",
              "</table>\n",
              "</div>"
            ],
            "text/plain": [
              "       Número de Proyectos en Marcha  Costo de Producción ($/MW)  \\\n",
              "count                     810.000000                 1000.000000   \n",
              "mean                       10.262963                 2620.846302   \n",
              "std                         5.447467                  653.454384   \n",
              "min                         1.000000                 1542.598865   \n",
              "25%                         6.000000                 2044.109301   \n",
              "50%                        10.000000                 2620.846302   \n",
              "75%                        15.000000                 3197.583303   \n",
              "max                        19.000000                 3749.244782   \n",
              "\n",
              "       Año de Instalación  Rentabilidad en 10 años (Rentable=1, No Rentable=0)  \n",
              "count         1000.000000                                         1000.00000    \n",
              "mean          2012.175000                                            0.58400    \n",
              "std              5.605872                                            0.49314    \n",
              "min           2005.000000                                            0.00000    \n",
              "25%           2005.000000                                            0.00000    \n",
              "50%           2010.000000                                            1.00000    \n",
              "75%           2015.000000                                            1.00000    \n",
              "max           2020.000000                                            1.00000    "
            ]
          },
          "execution_count": 4,
          "metadata": {},
          "output_type": "execute_result"
        }
      ],
      "source": [
        "df.describe()"
      ]
    },
    {
      "cell_type": "markdown",
      "metadata": {
        "id": "v6acCqqzPWoL"
      },
      "source": [
        "\n",
        "Filas\n",
        "\n"
      ]
    },
    {
      "cell_type": "code",
      "execution_count": 5,
      "metadata": {
        "colab": {
          "base_uri": "https://localhost:8080/"
        },
        "id": "5SBBH7k8Pe8L",
        "outputId": "69200a12-cb61-4f94-d3aa-f088d885aa2b"
      },
      "outputs": [
        {
          "data": {
            "text/plain": [
              "11000"
            ]
          },
          "execution_count": 5,
          "metadata": {},
          "output_type": "execute_result"
        }
      ],
      "source": [
        "df.shape[1]*df.shape[0]"
      ]
    },
    {
      "cell_type": "markdown",
      "metadata": {
        "id": "efTcE0AWRJDZ"
      },
      "source": [
        "Columnas"
      ]
    },
    {
      "cell_type": "code",
      "execution_count": 6,
      "metadata": {
        "colab": {
          "base_uri": "https://localhost:8080/"
        },
        "id": "WBNsmoeeP2oI",
        "outputId": "9bd9bb5d-2e72-4fcd-fae4-777b94ecade1"
      },
      "outputs": [
        {
          "data": {
            "text/plain": [
              "Index(['Planta Energética', 'Tipo de Energía',\n",
              "       'Nivel de Democratización Energética',\n",
              "       'Número de Comunidades Energéticas', 'Número de Proyectos en Marcha',\n",
              "       'Capacidad Generada (MW)', 'Reducción de CO2 (toneladas)', 'Región',\n",
              "       'Costo de Producción ($/MW)', 'Año de Instalación',\n",
              "       'Rentabilidad en 10 años (Rentable=1, No Rentable=0)'],\n",
              "      dtype='object')"
            ]
          },
          "execution_count": 6,
          "metadata": {},
          "output_type": "execute_result"
        }
      ],
      "source": [
        "df.columns"
      ]
    },
    {
      "cell_type": "markdown",
      "metadata": {
        "id": "Rs-BWv-IR6hL"
      },
      "source": [
        "Tipo de datos"
      ]
    },
    {
      "cell_type": "code",
      "execution_count": 7,
      "metadata": {
        "colab": {
          "base_uri": "https://localhost:8080/",
          "height": 429
        },
        "id": "fVfYydVuRxXo",
        "outputId": "99404091-d237-4da8-b7a3-a0c268465042"
      },
      "outputs": [
        {
          "data": {
            "text/plain": [
              "Planta Energética                                       object\n",
              "Tipo de Energía                                         object\n",
              "Nivel de Democratización Energética                     object\n",
              "Número de Comunidades Energéticas                       object\n",
              "Número de Proyectos en Marcha                          float64\n",
              "Capacidad Generada (MW)                                 object\n",
              "Reducción de CO2 (toneladas)                            object\n",
              "Región                                                  object\n",
              "Costo de Producción ($/MW)                             float64\n",
              "Año de Instalación                                       int64\n",
              "Rentabilidad en 10 años (Rentable=1, No Rentable=0)      int64\n",
              "dtype: object"
            ]
          },
          "execution_count": 7,
          "metadata": {},
          "output_type": "execute_result"
        }
      ],
      "source": [
        "df.dtypes"
      ]
    },
    {
      "cell_type": "markdown",
      "metadata": {
        "id": "ZtVn7P-_TnGh"
      },
      "source": [
        "* Cualitativo Nominal"
      ]
    },
    {
      "cell_type": "code",
      "execution_count": 8,
      "metadata": {
        "colab": {
          "base_uri": "https://localhost:8080/",
          "height": 398
        },
        "id": "vCtEYwY9TJWm",
        "outputId": "1867f1ca-7440-4cac-baf5-84e1812f8c3c"
      },
      "outputs": [
        {
          "data": {
            "text/plain": [
              "Planta Energética\n",
              "SunWave        145\n",
              "VientoVerde    134\n",
              "Solaris        133\n",
              "EcoWind        124\n",
              "SolarFlow      119\n",
              "WindStream     116\n",
              "HydroFlux      112\n",
              "AquaPower      112\n",
              "error            5\n",
              "Name: count, dtype: int64"
            ]
          },
          "execution_count": 8,
          "metadata": {},
          "output_type": "execute_result"
        }
      ],
      "source": [
        "df['Planta Energética'].value_counts()"
      ]
    },
    {
      "cell_type": "code",
      "execution_count": 9,
      "metadata": {
        "colab": {
          "base_uri": "https://localhost:8080/",
          "height": 303
        },
        "id": "sI3RC9leTbtd",
        "outputId": "95496998-5744-4e30-aa15-c38c3088c38c"
      },
      "outputs": [
        {
          "data": {
            "text/plain": [
              "Tipo de Energía\n",
              "Solar              194\n",
              "Hidráulica         193\n",
              "Geotérmica         188\n",
              "Eólica             188\n",
              "Hidrógeno verde    159\n",
              "error                7\n",
              "Name: count, dtype: int64"
            ]
          },
          "execution_count": 9,
          "metadata": {},
          "output_type": "execute_result"
        }
      ],
      "source": [
        "df['Tipo de Energía'].value_counts()"
      ]
    },
    {
      "cell_type": "code",
      "execution_count": 10,
      "metadata": {
        "colab": {
          "base_uri": "https://localhost:8080/",
          "height": 241
        },
        "id": "yH9kAXjoU3Ir",
        "outputId": "9cb15104-0346-4b6a-e59f-e67bbedc89b0"
      },
      "outputs": [
        {
          "data": {
            "text/plain": [
              "Región\n",
              "Este     246\n",
              "Sur      238\n",
              "Oeste    230\n",
              "Norte    224\n",
              "Name: count, dtype: int64"
            ]
          },
          "execution_count": 10,
          "metadata": {},
          "output_type": "execute_result"
        }
      ],
      "source": [
        "df['Región'].value_counts()"
      ]
    },
    {
      "cell_type": "markdown",
      "metadata": {
        "id": "gutN4uZRUtYu"
      },
      "source": [
        "* Cuantitatvivo Ordinal"
      ]
    },
    {
      "cell_type": "code",
      "execution_count": 11,
      "metadata": {
        "colab": {
          "base_uri": "https://localhost:8080/",
          "height": 241
        },
        "id": "RfdO2WoET1t4",
        "outputId": "6ed0ddd8-28fb-4152-cc08-f146a4d1204b"
      },
      "outputs": [
        {
          "data": {
            "text/plain": [
              "Nivel de Democratización Energética\n",
              "Medio    369\n",
              "Alto     268\n",
              "Bajo     257\n",
              "error      6\n",
              "Name: count, dtype: int64"
            ]
          },
          "execution_count": 11,
          "metadata": {},
          "output_type": "execute_result"
        }
      ],
      "source": [
        "df['Nivel de Democratización Energética'].value_counts()"
      ]
    },
    {
      "cell_type": "code",
      "execution_count": 12,
      "metadata": {
        "colab": {
          "base_uri": "https://localhost:8080/",
          "height": 241
        },
        "id": "w34lZGZ_VWKs",
        "outputId": "08a8086e-66bb-45b8-8fcf-83c418e80803"
      },
      "outputs": [
        {
          "data": {
            "text/plain": [
              "Año de Instalación\n",
              "2005    277\n",
              "2015    256\n",
              "2010    239\n",
              "2020    228\n",
              "Name: count, dtype: int64"
            ]
          },
          "execution_count": 12,
          "metadata": {},
          "output_type": "execute_result"
        }
      ],
      "source": [
        "df['Año de Instalación'].value_counts()"
      ]
    },
    {
      "cell_type": "code",
      "execution_count": 13,
      "metadata": {
        "colab": {
          "base_uri": "https://localhost:8080/",
          "height": 1000
        },
        "id": "elXGbLtSUCPF",
        "outputId": "0e15d0ea-731d-4ba1-bae3-5c7d378c1cef"
      },
      "outputs": [
        {
          "data": {
            "text/plain": [
              "Número de Comunidades Energéticas\n",
              "49     30\n",
              "45     30\n",
              "21     30\n",
              "41     29\n",
              "38     28\n",
              "17     28\n",
              "15     28\n",
              "8      27\n",
              "12     27\n",
              "32     26\n",
              "40     26\n",
              "27     25\n",
              "36     24\n",
              "23     24\n",
              "5      24\n",
              "48     23\n",
              "28     23\n",
              "22     23\n",
              "25     23\n",
              "33     23\n",
              "7      22\n",
              "39     22\n",
              "31     22\n",
              "42     22\n",
              "44     22\n",
              "30     22\n",
              "26     21\n",
              "43     21\n",
              "16     20\n",
              "34     20\n",
              "47     20\n",
              "24     20\n",
              "10     19\n",
              "14     19\n",
              "13     18\n",
              "9      18\n",
              "29     17\n",
              "20     17\n",
              "35     17\n",
              "19     16\n",
              "18     16\n",
              "46     16\n",
              "37     16\n",
              "6      16\n",
              "11     15\n",
              "@#$     5\n",
              "Name: count, dtype: int64"
            ]
          },
          "execution_count": 13,
          "metadata": {},
          "output_type": "execute_result"
        }
      ],
      "source": [
        "df['Número de Comunidades Energéticas'].value_counts()"
      ]
    },
    {
      "cell_type": "markdown",
      "metadata": {
        "id": "QBj3n5HbS1U-"
      },
      "source": [
        "* El resto son cuantitaivas"
      ]
    },
    {
      "cell_type": "markdown",
      "metadata": {
        "id": "SsHhw4zzRWHA"
      },
      "source": [
        "## 3) Generar Estaditicas Descriptivas"
      ]
    },
    {
      "cell_type": "code",
      "execution_count": 14,
      "metadata": {
        "colab": {
          "base_uri": "https://localhost:8080/",
          "height": 493
        },
        "id": "KY4Yo1dGVrPe",
        "outputId": "2c22bd2f-7f2d-4ede-f83c-04c49b6dd596"
      },
      "outputs": [
        {
          "data": {
            "text/html": [
              "<div>\n",
              "<style scoped>\n",
              "    .dataframe tbody tr th:only-of-type {\n",
              "        vertical-align: middle;\n",
              "    }\n",
              "\n",
              "    .dataframe tbody tr th {\n",
              "        vertical-align: top;\n",
              "    }\n",
              "\n",
              "    .dataframe thead th {\n",
              "        text-align: right;\n",
              "    }\n",
              "</style>\n",
              "<table border=\"1\" class=\"dataframe\">\n",
              "  <thead>\n",
              "    <tr style=\"text-align: right;\">\n",
              "      <th></th>\n",
              "      <th>Planta Energética</th>\n",
              "      <th>Tipo de Energía</th>\n",
              "      <th>Nivel de Democratización Energética</th>\n",
              "      <th>Número de Comunidades Energéticas</th>\n",
              "      <th>Número de Proyectos en Marcha</th>\n",
              "      <th>Capacidad Generada (MW)</th>\n",
              "      <th>Reducción de CO2 (toneladas)</th>\n",
              "      <th>Región</th>\n",
              "      <th>Costo de Producción ($/MW)</th>\n",
              "      <th>Año de Instalación</th>\n",
              "      <th>Rentabilidad en 10 años (Rentable=1, No Rentable=0)</th>\n",
              "    </tr>\n",
              "  </thead>\n",
              "  <tbody>\n",
              "    <tr>\n",
              "      <th>0</th>\n",
              "      <td>SolarFlow</td>\n",
              "      <td>Solar</td>\n",
              "      <td>Alto</td>\n",
              "      <td>42</td>\n",
              "      <td>1.0</td>\n",
              "      <td>100.46</td>\n",
              "      <td>48910.59373127165</td>\n",
              "      <td>Sur</td>\n",
              "      <td>1893.656170</td>\n",
              "      <td>2005</td>\n",
              "      <td>1</td>\n",
              "    </tr>\n",
              "    <tr>\n",
              "      <th>1</th>\n",
              "      <td>SunWave</td>\n",
              "      <td>Solar</td>\n",
              "      <td>Bajo</td>\n",
              "      <td>12</td>\n",
              "      <td>17.0</td>\n",
              "      <td>NaN</td>\n",
              "      <td>156615.16814130466</td>\n",
              "      <td>Oeste</td>\n",
              "      <td>3398.187477</td>\n",
              "      <td>2015</td>\n",
              "      <td>0</td>\n",
              "    </tr>\n",
              "    <tr>\n",
              "      <th>2</th>\n",
              "      <td>EcoWind</td>\n",
              "      <td>NaN</td>\n",
              "      <td>Bajo</td>\n",
              "      <td>47</td>\n",
              "      <td>NaN</td>\n",
              "      <td>52.62</td>\n",
              "      <td>25618.907447138306</td>\n",
              "      <td>Sur</td>\n",
              "      <td>1642.900952</td>\n",
              "      <td>2010</td>\n",
              "      <td>0</td>\n",
              "    </tr>\n",
              "    <tr>\n",
              "      <th>3</th>\n",
              "      <td>SolarFlow</td>\n",
              "      <td>Geotérmica</td>\n",
              "      <td>NaN</td>\n",
              "      <td>24</td>\n",
              "      <td>11.0</td>\n",
              "      <td>NaN</td>\n",
              "      <td>381289.3836417021</td>\n",
              "      <td>Este</td>\n",
              "      <td>2796.374954</td>\n",
              "      <td>2010</td>\n",
              "      <td>1</td>\n",
              "    </tr>\n",
              "    <tr>\n",
              "      <th>4</th>\n",
              "      <td>HydroFlux</td>\n",
              "      <td>Hidrógeno verde</td>\n",
              "      <td>Medio</td>\n",
              "      <td>37</td>\n",
              "      <td>5.0</td>\n",
              "      <td>404.25</td>\n",
              "      <td>196815.72283363095</td>\n",
              "      <td>Norte</td>\n",
              "      <td>2144.411388</td>\n",
              "      <td>2020</td>\n",
              "      <td>1</td>\n",
              "    </tr>\n",
              "    <tr>\n",
              "      <th>...</th>\n",
              "      <td>...</td>\n",
              "      <td>...</td>\n",
              "      <td>...</td>\n",
              "      <td>...</td>\n",
              "      <td>...</td>\n",
              "      <td>...</td>\n",
              "      <td>...</td>\n",
              "      <td>...</td>\n",
              "      <td>...</td>\n",
              "      <td>...</td>\n",
              "      <td>...</td>\n",
              "    </tr>\n",
              "    <tr>\n",
              "      <th>995</th>\n",
              "      <td>EcoWind</td>\n",
              "      <td>Hidrógeno verde</td>\n",
              "      <td>Bajo</td>\n",
              "      <td>20</td>\n",
              "      <td>NaN</td>\n",
              "      <td>522.12</td>\n",
              "      <td>254202.65975484328</td>\n",
              "      <td>Norte</td>\n",
              "      <td>2996.979129</td>\n",
              "      <td>2020</td>\n",
              "      <td>1</td>\n",
              "    </tr>\n",
              "    <tr>\n",
              "      <th>996</th>\n",
              "      <td>Solaris</td>\n",
              "      <td>Eólica</td>\n",
              "      <td>Medio</td>\n",
              "      <td>23</td>\n",
              "      <td>7.0</td>\n",
              "      <td>NaN</td>\n",
              "      <td>203987.26419996214</td>\n",
              "      <td>Este</td>\n",
              "      <td>2846.525998</td>\n",
              "      <td>2010</td>\n",
              "      <td>1</td>\n",
              "    </tr>\n",
              "    <tr>\n",
              "      <th>997</th>\n",
              "      <td>SunWave</td>\n",
              "      <td>Eólica</td>\n",
              "      <td>Bajo</td>\n",
              "      <td>22</td>\n",
              "      <td>NaN</td>\n",
              "      <td>207.35</td>\n",
              "      <td>100951.73810650186</td>\n",
              "      <td>Norte</td>\n",
              "      <td>2896.677042</td>\n",
              "      <td>2005</td>\n",
              "      <td>0</td>\n",
              "    </tr>\n",
              "    <tr>\n",
              "      <th>998</th>\n",
              "      <td>VientoVerde</td>\n",
              "      <td>Eólica</td>\n",
              "      <td>Bajo</td>\n",
              "      <td>20</td>\n",
              "      <td>16.0</td>\n",
              "      <td>418.24</td>\n",
              "      <td>NaN</td>\n",
              "      <td>Este</td>\n",
              "      <td>2996.979129</td>\n",
              "      <td>2015</td>\n",
              "      <td>1</td>\n",
              "    </tr>\n",
              "    <tr>\n",
              "      <th>999</th>\n",
              "      <td>HydroFlux</td>\n",
              "      <td>Eólica</td>\n",
              "      <td>Medio</td>\n",
              "      <td>12</td>\n",
              "      <td>3.0</td>\n",
              "      <td>@#$</td>\n",
              "      <td>39703.95101319135</td>\n",
              "      <td>Sur</td>\n",
              "      <td>3398.187477</td>\n",
              "      <td>2005</td>\n",
              "      <td>1</td>\n",
              "    </tr>\n",
              "  </tbody>\n",
              "</table>\n",
              "<p>1000 rows × 11 columns</p>\n",
              "</div>"
            ],
            "text/plain": [
              "    Planta Energética  Tipo de Energía Nivel de Democratización Energética  \\\n",
              "0           SolarFlow            Solar                                Alto   \n",
              "1             SunWave            Solar                                Bajo   \n",
              "2             EcoWind              NaN                                Bajo   \n",
              "3           SolarFlow       Geotérmica                                 NaN   \n",
              "4           HydroFlux  Hidrógeno verde                               Medio   \n",
              "..                ...              ...                                 ...   \n",
              "995           EcoWind  Hidrógeno verde                                Bajo   \n",
              "996           Solaris           Eólica                               Medio   \n",
              "997           SunWave           Eólica                                Bajo   \n",
              "998       VientoVerde           Eólica                                Bajo   \n",
              "999         HydroFlux           Eólica                               Medio   \n",
              "\n",
              "    Número de Comunidades Energéticas  Número de Proyectos en Marcha  \\\n",
              "0                                  42                            1.0   \n",
              "1                                  12                           17.0   \n",
              "2                                  47                            NaN   \n",
              "3                                  24                           11.0   \n",
              "4                                  37                            5.0   \n",
              "..                                ...                            ...   \n",
              "995                                20                            NaN   \n",
              "996                                23                            7.0   \n",
              "997                                22                            NaN   \n",
              "998                                20                           16.0   \n",
              "999                                12                            3.0   \n",
              "\n",
              "    Capacidad Generada (MW) Reducción de CO2 (toneladas) Región  \\\n",
              "0                    100.46            48910.59373127165    Sur   \n",
              "1                       NaN           156615.16814130466  Oeste   \n",
              "2                     52.62           25618.907447138306    Sur   \n",
              "3                       NaN            381289.3836417021   Este   \n",
              "4                    404.25           196815.72283363095  Norte   \n",
              "..                      ...                          ...    ...   \n",
              "995                  522.12           254202.65975484328  Norte   \n",
              "996                     NaN           203987.26419996214   Este   \n",
              "997                  207.35           100951.73810650186  Norte   \n",
              "998                  418.24                          NaN   Este   \n",
              "999                     @#$            39703.95101319135    Sur   \n",
              "\n",
              "     Costo de Producción ($/MW)  Año de Instalación  \\\n",
              "0                   1893.656170                2005   \n",
              "1                   3398.187477                2015   \n",
              "2                   1642.900952                2010   \n",
              "3                   2796.374954                2010   \n",
              "4                   2144.411388                2020   \n",
              "..                          ...                 ...   \n",
              "995                 2996.979129                2020   \n",
              "996                 2846.525998                2010   \n",
              "997                 2896.677042                2005   \n",
              "998                 2996.979129                2015   \n",
              "999                 3398.187477                2005   \n",
              "\n",
              "     Rentabilidad en 10 años (Rentable=1, No Rentable=0)  \n",
              "0                                                    1    \n",
              "1                                                    0    \n",
              "2                                                    0    \n",
              "3                                                    1    \n",
              "4                                                    1    \n",
              "..                                                 ...    \n",
              "995                                                  1    \n",
              "996                                                  1    \n",
              "997                                                  0    \n",
              "998                                                  1    \n",
              "999                                                  1    \n",
              "\n",
              "[1000 rows x 11 columns]"
            ]
          },
          "execution_count": 14,
          "metadata": {},
          "output_type": "execute_result"
        }
      ],
      "source": [
        "data_eliminados = df.dropna(subset=['Planta Energética'])\n",
        "data_eliminados"
      ]
    },
    {
      "cell_type": "code",
      "execution_count": 15,
      "metadata": {
        "colab": {
          "base_uri": "https://localhost:8080/",
          "height": 430
        },
        "id": "v9Nl_4uWCxo3",
        "outputId": "f9413b57-6410-4bb4-d3ee-a10a92615678"
      },
      "outputs": [
        {
          "data": {
            "image/png": "[encoded data removed]",
            "text/plain": [
              "<Figure size 640x480 with 1 Axes>"
            ]
          },
          "metadata": {},
          "output_type": "display_data"
        }
      ],
      "source": [
        "from matplotlib import pyplot as plt\n",
        "import seaborn as sns\n",
        "df.groupby('Tipo de Energía').size().plot(kind='barh', color=sns.palettes.mpl_palette('Dark2'))\n",
        "plt.gca().spines[['top', 'right',]].set_visible(False)"
      ]
    },
    {
      "cell_type": "code",
      "execution_count": 16,
      "metadata": {
        "id": "OTxX4_VF8MCe"
      },
      "outputs": [
        {
          "ename": "TypeError",
          "evalue": "Could not convert string '4212472437304325464745132841452128254345431715@#$151749544482316121249163749304332912293127344927242222683437402241233244243716194543633451461517141822134332724103163342720344462145163947549193041253529272842322547224039491342344838367732481945274415364037284338324111841552423331422323947353115429123816425358499342871549830314731461019344641414641392710822133317214936268941451738492627746383649254825481543853228391738154021392244262823414325123292141402331381549162515433292124451610@#$233048483610404215372827193115211831223281149391312492121373612234279173520362633264771446252016645283934343923123044113411754029415194117441291354039644271338188343542153912718174936384923422064421384620426630173538437122718313343435214534172523232926352127361414401224361832281926348172712221635183822381545161935333022362642212728124510948333215547231331384884022191723101641212730333731291427252547174137284815218293413252423231641462141433245392218394845114517224117403562013134215263740492749493813281211402273210484825324454025473917144814174142286262140181439297422116283347294030425243220214432163146344538411011363629371116202047401711401336151237272912492684473345333838321719274830830441393624151936322645@#$3048114630291449231517124483532154754228354530924451537423138193625910@#$26221814173534734103312484947483721151715353248104520839301615412922232742223010848333821474720638121746123436403454743212428263326481341144041323246472528464461231264131337481749144013313853629331172424343939433130182122493324312285530492427141545459521263849453389152539163023491111304492518827462419493312452343323181939415@#$2831444038332828468738272749935451041144411434225247268321642404591727344129311840432026252512203546143638132115361426218292541425294021452864419364310527432138453313171010247211649521730194036368222347394418371838828332310374423593120104417392316204714292435848276264112111872023222012' to numeric",
          "output_type": "error",
          "traceback": [
            "\u001b[0;31m---------------------------------------------------------------------------\u001b[0m",
            "\u001b[0;31mTypeError\u001b[0m                                 Traceback (most recent call last)",
            "Cell \u001b[0;32mIn[16], line 3\u001b[0m\n\u001b[1;32m      1\u001b[0m Tipo_dato \u001b[38;5;241m=\u001b[39m [\u001b[38;5;124m'\u001b[39m\u001b[38;5;124mmedia\u001b[39m\u001b[38;5;124m'\u001b[39m, \u001b[38;5;124m'\u001b[39m\u001b[38;5;124mmediana\u001b[39m\u001b[38;5;124m'\u001b[39m, \u001b[38;5;124m'\u001b[39m\u001b[38;5;124mdesv_estandar\u001b[39m\u001b[38;5;124m'\u001b[39m, \u001b[38;5;124m'\u001b[39m\u001b[38;5;124mvarianza\u001b[39m\u001b[38;5;124m'\u001b[39m, \u001b[38;5;124m'\u001b[39m\u001b[38;5;124mv_minimo\u001b[39m\u001b[38;5;124m'\u001b[39m, \u001b[38;5;124m'\u001b[39m\u001b[38;5;124mv_maximo\u001b[39m\u001b[38;5;124m'\u001b[39m, \u001b[38;5;124m'\u001b[39m\u001b[38;5;124mcantidad\u001b[39m\u001b[38;5;124m'\u001b[39m]\n\u001b[0;32m----> 3\u001b[0m Planta_Energética_Est \u001b[38;5;241m=\u001b[39m [\u001b[43mdf\u001b[49m\u001b[43m[\u001b[49m\u001b[38;5;124;43m'\u001b[39;49m\u001b[38;5;124;43mNúmero de Comunidades Energéticas\u001b[39;49m\u001b[38;5;124;43m'\u001b[39;49m\u001b[43m]\u001b[49m\u001b[38;5;241;43m.\u001b[39;49m\u001b[43mmean\u001b[49m\u001b[43m(\u001b[49m\u001b[43m)\u001b[49m,\n\u001b[1;32m      4\u001b[0m                          df[\u001b[38;5;124m'\u001b[39m\u001b[38;5;124mNúmero de Comunidades Energéticas\u001b[39m\u001b[38;5;124m'\u001b[39m]\u001b[38;5;241m.\u001b[39mmedian(),\n\u001b[1;32m      5\u001b[0m                          df[\u001b[38;5;124m'\u001b[39m\u001b[38;5;124mNúmero de Comunidades Energéticas\u001b[39m\u001b[38;5;124m'\u001b[39m]\u001b[38;5;241m.\u001b[39mstd(),\n\u001b[1;32m      6\u001b[0m                          df[\u001b[38;5;124m'\u001b[39m\u001b[38;5;124mNúmero de Comunidades Energéticas\u001b[39m\u001b[38;5;124m'\u001b[39m]\u001b[38;5;241m.\u001b[39mvar(),\n\u001b[1;32m      7\u001b[0m                          df[\u001b[38;5;124m'\u001b[39m\u001b[38;5;124mNúmero de Comunidades Energéticas\u001b[39m\u001b[38;5;124m'\u001b[39m]\u001b[38;5;241m.\u001b[39mmin(),\n\u001b[1;32m      8\u001b[0m                          df[\u001b[38;5;124m'\u001b[39m\u001b[38;5;124mNúmero de Comunidades Energéticas\u001b[39m\u001b[38;5;124m'\u001b[39m]\u001b[38;5;241m.\u001b[39mmax(),\n\u001b[1;32m      9\u001b[0m                          df[\u001b[38;5;124m'\u001b[39m\u001b[38;5;124mNúmero de Comunidades Energéticas\u001b[39m\u001b[38;5;124m'\u001b[39m]\u001b[38;5;241m.\u001b[39mcount()\n\u001b[1;32m     10\u001b[0m                         ]\n\u001b[1;32m     12\u001b[0m Número_Proyectos_Marcha_Est\t\u001b[38;5;241m=\u001b[39m [df[\u001b[38;5;124m'\u001b[39m\u001b[38;5;124mNúmero de Proyectos en Marcha\u001b[39m\u001b[38;5;124m'\u001b[39m]\u001b[38;5;241m.\u001b[39mmean(),\n\u001b[1;32m     13\u001b[0m                                      df[\u001b[38;5;124m'\u001b[39m\u001b[38;5;124mNúmero de Proyectos en Marcha\u001b[39m\u001b[38;5;124m'\u001b[39m]\u001b[38;5;241m.\u001b[39mmedian(),\n\u001b[1;32m     14\u001b[0m                                      df[\u001b[38;5;124m'\u001b[39m\u001b[38;5;124mNúmero de Proyectos en Marcha\u001b[39m\u001b[38;5;124m'\u001b[39m]\u001b[38;5;241m.\u001b[39mstd(),\n\u001b[0;32m   (...)\u001b[0m\n\u001b[1;32m     18\u001b[0m                                      df[\u001b[38;5;124m'\u001b[39m\u001b[38;5;124mNúmero de Proyectos en Marcha\u001b[39m\u001b[38;5;124m'\u001b[39m]\u001b[38;5;241m.\u001b[39mcount()\n\u001b[1;32m     19\u001b[0m                                     ]\n\u001b[1;32m     21\u001b[0m Capacidad_Generada_Est \u001b[38;5;241m=\u001b[39m [df[\u001b[38;5;124m'\u001b[39m\u001b[38;5;124mCapacidad Generada (MW)\u001b[39m\u001b[38;5;124m'\u001b[39m]\u001b[38;5;241m.\u001b[39mmean(),\n\u001b[1;32m     22\u001b[0m                           df[\u001b[38;5;124m'\u001b[39m\u001b[38;5;124mCapacidad Generada (MW)\u001b[39m\u001b[38;5;124m'\u001b[39m]\u001b[38;5;241m.\u001b[39mmedian(),\n\u001b[1;32m     23\u001b[0m                           df[\u001b[38;5;124m'\u001b[39m\u001b[38;5;124mCapacidad Generada (MW)\u001b[39m\u001b[38;5;124m'\u001b[39m]\u001b[38;5;241m.\u001b[39mstd(),\n\u001b[0;32m   (...)\u001b[0m\n\u001b[1;32m     27\u001b[0m                           df[\u001b[38;5;124m'\u001b[39m\u001b[38;5;124mCapacidad Generada (MW)\u001b[39m\u001b[38;5;124m'\u001b[39m]\u001b[38;5;241m.\u001b[39mcount()\n\u001b[1;32m     28\u001b[0m                          ]\n",
            "File \u001b[0;32m~/Documentos/talentoTech/venv/lib/python3.12/site-packages/pandas/core/series.py:6549\u001b[0m, in \u001b[0;36mSeries.mean\u001b[0;34m(self, axis, skipna, numeric_only, **kwargs)\u001b[0m\n\u001b[1;32m   6541\u001b[0m \u001b[38;5;129m@doc\u001b[39m(make_doc(\u001b[38;5;124m\"\u001b[39m\u001b[38;5;124mmean\u001b[39m\u001b[38;5;124m\"\u001b[39m, ndim\u001b[38;5;241m=\u001b[39m\u001b[38;5;241m1\u001b[39m))\n\u001b[1;32m   6542\u001b[0m \u001b[38;5;28;01mdef\u001b[39;00m \u001b[38;5;21mmean\u001b[39m(\n\u001b[1;32m   6543\u001b[0m     \u001b[38;5;28mself\u001b[39m,\n\u001b[0;32m   (...)\u001b[0m\n\u001b[1;32m   6547\u001b[0m     \u001b[38;5;241m*\u001b[39m\u001b[38;5;241m*\u001b[39mkwargs,\n\u001b[1;32m   6548\u001b[0m ):\n\u001b[0;32m-> 6549\u001b[0m     \u001b[38;5;28;01mreturn\u001b[39;00m \u001b[43mNDFrame\u001b[49m\u001b[38;5;241;43m.\u001b[39;49m\u001b[43mmean\u001b[49m\u001b[43m(\u001b[49m\u001b[38;5;28;43mself\u001b[39;49m\u001b[43m,\u001b[49m\u001b[43m \u001b[49m\u001b[43maxis\u001b[49m\u001b[43m,\u001b[49m\u001b[43m \u001b[49m\u001b[43mskipna\u001b[49m\u001b[43m,\u001b[49m\u001b[43m \u001b[49m\u001b[43mnumeric_only\u001b[49m\u001b[43m,\u001b[49m\u001b[43m \u001b[49m\u001b[38;5;241;43m*\u001b[39;49m\u001b[38;5;241;43m*\u001b[39;49m\u001b[43mkwargs\u001b[49m\u001b[43m)\u001b[49m\n",
            "File \u001b[0;32m~/Documentos/talentoTech/venv/lib/python3.12/site-packages/pandas/core/generic.py:12420\u001b[0m, in \u001b[0;36mNDFrame.mean\u001b[0;34m(self, axis, skipna, numeric_only, **kwargs)\u001b[0m\n\u001b[1;32m  12413\u001b[0m \u001b[38;5;28;01mdef\u001b[39;00m \u001b[38;5;21mmean\u001b[39m(\n\u001b[1;32m  12414\u001b[0m     \u001b[38;5;28mself\u001b[39m,\n\u001b[1;32m  12415\u001b[0m     axis: Axis \u001b[38;5;241m|\u001b[39m \u001b[38;5;28;01mNone\u001b[39;00m \u001b[38;5;241m=\u001b[39m \u001b[38;5;241m0\u001b[39m,\n\u001b[0;32m   (...)\u001b[0m\n\u001b[1;32m  12418\u001b[0m     \u001b[38;5;241m*\u001b[39m\u001b[38;5;241m*\u001b[39mkwargs,\n\u001b[1;32m  12419\u001b[0m ) \u001b[38;5;241m-\u001b[39m\u001b[38;5;241m>\u001b[39m Series \u001b[38;5;241m|\u001b[39m \u001b[38;5;28mfloat\u001b[39m:\n\u001b[0;32m> 12420\u001b[0m     \u001b[38;5;28;01mreturn\u001b[39;00m \u001b[38;5;28;43mself\u001b[39;49m\u001b[38;5;241;43m.\u001b[39;49m\u001b[43m_stat_function\u001b[49m\u001b[43m(\u001b[49m\n\u001b[1;32m  12421\u001b[0m \u001b[43m        \u001b[49m\u001b[38;5;124;43m\"\u001b[39;49m\u001b[38;5;124;43mmean\u001b[39;49m\u001b[38;5;124;43m\"\u001b[39;49m\u001b[43m,\u001b[49m\u001b[43m \u001b[49m\u001b[43mnanops\u001b[49m\u001b[38;5;241;43m.\u001b[39;49m\u001b[43mnanmean\u001b[49m\u001b[43m,\u001b[49m\u001b[43m \u001b[49m\u001b[43maxis\u001b[49m\u001b[43m,\u001b[49m\u001b[43m \u001b[49m\u001b[43mskipna\u001b[49m\u001b[43m,\u001b[49m\u001b[43m \u001b[49m\u001b[43mnumeric_only\u001b[49m\u001b[43m,\u001b[49m\u001b[43m \u001b[49m\u001b[38;5;241;43m*\u001b[39;49m\u001b[38;5;241;43m*\u001b[39;49m\u001b[43mkwargs\u001b[49m\n\u001b[1;32m  12422\u001b[0m \u001b[43m    \u001b[49m\u001b[43m)\u001b[49m\n",
            "File \u001b[0;32m~/Documentos/talentoTech/venv/lib/python3.12/site-packages/pandas/core/generic.py:12377\u001b[0m, in \u001b[0;36mNDFrame._stat_function\u001b[0;34m(self, name, func, axis, skipna, numeric_only, **kwargs)\u001b[0m\n\u001b[1;32m  12373\u001b[0m nv\u001b[38;5;241m.\u001b[39mvalidate_func(name, (), kwargs)\n\u001b[1;32m  12375\u001b[0m validate_bool_kwarg(skipna, \u001b[38;5;124m\"\u001b[39m\u001b[38;5;124mskipna\u001b[39m\u001b[38;5;124m\"\u001b[39m, none_allowed\u001b[38;5;241m=\u001b[39m\u001b[38;5;28;01mFalse\u001b[39;00m)\n\u001b[0;32m> 12377\u001b[0m \u001b[38;5;28;01mreturn\u001b[39;00m \u001b[38;5;28;43mself\u001b[39;49m\u001b[38;5;241;43m.\u001b[39;49m\u001b[43m_reduce\u001b[49m\u001b[43m(\u001b[49m\n\u001b[1;32m  12378\u001b[0m \u001b[43m    \u001b[49m\u001b[43mfunc\u001b[49m\u001b[43m,\u001b[49m\u001b[43m \u001b[49m\u001b[43mname\u001b[49m\u001b[38;5;241;43m=\u001b[39;49m\u001b[43mname\u001b[49m\u001b[43m,\u001b[49m\u001b[43m \u001b[49m\u001b[43maxis\u001b[49m\u001b[38;5;241;43m=\u001b[39;49m\u001b[43maxis\u001b[49m\u001b[43m,\u001b[49m\u001b[43m \u001b[49m\u001b[43mskipna\u001b[49m\u001b[38;5;241;43m=\u001b[39;49m\u001b[43mskipna\u001b[49m\u001b[43m,\u001b[49m\u001b[43m \u001b[49m\u001b[43mnumeric_only\u001b[49m\u001b[38;5;241;43m=\u001b[39;49m\u001b[43mnumeric_only\u001b[49m\n\u001b[1;32m  12379\u001b[0m \u001b[43m\u001b[49m\u001b[43m)\u001b[49m\n",
            "File \u001b[0;32m~/Documentos/talentoTech/venv/lib/python3.12/site-packages/pandas/core/series.py:6457\u001b[0m, in \u001b[0;36mSeries._reduce\u001b[0;34m(self, op, name, axis, skipna, numeric_only, filter_type, **kwds)\u001b[0m\n\u001b[1;32m   6452\u001b[0m     \u001b[38;5;66;03m# GH#47500 - change to TypeError to match other methods\u001b[39;00m\n\u001b[1;32m   6453\u001b[0m     \u001b[38;5;28;01mraise\u001b[39;00m \u001b[38;5;167;01mTypeError\u001b[39;00m(\n\u001b[1;32m   6454\u001b[0m         \u001b[38;5;124mf\u001b[39m\u001b[38;5;124m\"\u001b[39m\u001b[38;5;124mSeries.\u001b[39m\u001b[38;5;132;01m{\u001b[39;00mname\u001b[38;5;132;01m}\u001b[39;00m\u001b[38;5;124m does not allow \u001b[39m\u001b[38;5;132;01m{\u001b[39;00mkwd_name\u001b[38;5;132;01m}\u001b[39;00m\u001b[38;5;124m=\u001b[39m\u001b[38;5;132;01m{\u001b[39;00mnumeric_only\u001b[38;5;132;01m}\u001b[39;00m\u001b[38;5;124m \u001b[39m\u001b[38;5;124m\"\u001b[39m\n\u001b[1;32m   6455\u001b[0m         \u001b[38;5;124m\"\u001b[39m\u001b[38;5;124mwith non-numeric dtypes.\u001b[39m\u001b[38;5;124m\"\u001b[39m\n\u001b[1;32m   6456\u001b[0m     )\n\u001b[0;32m-> 6457\u001b[0m \u001b[38;5;28;01mreturn\u001b[39;00m \u001b[43mop\u001b[49m\u001b[43m(\u001b[49m\u001b[43mdelegate\u001b[49m\u001b[43m,\u001b[49m\u001b[43m \u001b[49m\u001b[43mskipna\u001b[49m\u001b[38;5;241;43m=\u001b[39;49m\u001b[43mskipna\u001b[49m\u001b[43m,\u001b[49m\u001b[43m \u001b[49m\u001b[38;5;241;43m*\u001b[39;49m\u001b[38;5;241;43m*\u001b[39;49m\u001b[43mkwds\u001b[49m\u001b[43m)\u001b[49m\n",
            "File \u001b[0;32m~/Documentos/talentoTech/venv/lib/python3.12/site-packages/pandas/core/nanops.py:147\u001b[0m, in \u001b[0;36mbottleneck_switch.__call__.<locals>.f\u001b[0;34m(values, axis, skipna, **kwds)\u001b[0m\n\u001b[1;32m    145\u001b[0m         result \u001b[38;5;241m=\u001b[39m alt(values, axis\u001b[38;5;241m=\u001b[39maxis, skipna\u001b[38;5;241m=\u001b[39mskipna, \u001b[38;5;241m*\u001b[39m\u001b[38;5;241m*\u001b[39mkwds)\n\u001b[1;32m    146\u001b[0m \u001b[38;5;28;01melse\u001b[39;00m:\n\u001b[0;32m--> 147\u001b[0m     result \u001b[38;5;241m=\u001b[39m \u001b[43malt\u001b[49m\u001b[43m(\u001b[49m\u001b[43mvalues\u001b[49m\u001b[43m,\u001b[49m\u001b[43m \u001b[49m\u001b[43maxis\u001b[49m\u001b[38;5;241;43m=\u001b[39;49m\u001b[43maxis\u001b[49m\u001b[43m,\u001b[49m\u001b[43m \u001b[49m\u001b[43mskipna\u001b[49m\u001b[38;5;241;43m=\u001b[39;49m\u001b[43mskipna\u001b[49m\u001b[43m,\u001b[49m\u001b[43m \u001b[49m\u001b[38;5;241;43m*\u001b[39;49m\u001b[38;5;241;43m*\u001b[39;49m\u001b[43mkwds\u001b[49m\u001b[43m)\u001b[49m\n\u001b[1;32m    149\u001b[0m \u001b[38;5;28;01mreturn\u001b[39;00m result\n",
            "File \u001b[0;32m~/Documentos/talentoTech/venv/lib/python3.12/site-packages/pandas/core/nanops.py:404\u001b[0m, in \u001b[0;36m_datetimelike_compat.<locals>.new_func\u001b[0;34m(values, axis, skipna, mask, **kwargs)\u001b[0m\n\u001b[1;32m    401\u001b[0m \u001b[38;5;28;01mif\u001b[39;00m datetimelike \u001b[38;5;129;01mand\u001b[39;00m mask \u001b[38;5;129;01mis\u001b[39;00m \u001b[38;5;28;01mNone\u001b[39;00m:\n\u001b[1;32m    402\u001b[0m     mask \u001b[38;5;241m=\u001b[39m isna(values)\n\u001b[0;32m--> 404\u001b[0m result \u001b[38;5;241m=\u001b[39m \u001b[43mfunc\u001b[49m\u001b[43m(\u001b[49m\u001b[43mvalues\u001b[49m\u001b[43m,\u001b[49m\u001b[43m \u001b[49m\u001b[43maxis\u001b[49m\u001b[38;5;241;43m=\u001b[39;49m\u001b[43maxis\u001b[49m\u001b[43m,\u001b[49m\u001b[43m \u001b[49m\u001b[43mskipna\u001b[49m\u001b[38;5;241;43m=\u001b[39;49m\u001b[43mskipna\u001b[49m\u001b[43m,\u001b[49m\u001b[43m \u001b[49m\u001b[43mmask\u001b[49m\u001b[38;5;241;43m=\u001b[39;49m\u001b[43mmask\u001b[49m\u001b[43m,\u001b[49m\u001b[43m \u001b[49m\u001b[38;5;241;43m*\u001b[39;49m\u001b[38;5;241;43m*\u001b[39;49m\u001b[43mkwargs\u001b[49m\u001b[43m)\u001b[49m\n\u001b[1;32m    406\u001b[0m \u001b[38;5;28;01mif\u001b[39;00m datetimelike:\n\u001b[1;32m    407\u001b[0m     result \u001b[38;5;241m=\u001b[39m _wrap_results(result, orig_values\u001b[38;5;241m.\u001b[39mdtype, fill_value\u001b[38;5;241m=\u001b[39miNaT)\n",
            "File \u001b[0;32m~/Documentos/talentoTech/venv/lib/python3.12/site-packages/pandas/core/nanops.py:720\u001b[0m, in \u001b[0;36mnanmean\u001b[0;34m(values, axis, skipna, mask)\u001b[0m\n\u001b[1;32m    718\u001b[0m count \u001b[38;5;241m=\u001b[39m _get_counts(values\u001b[38;5;241m.\u001b[39mshape, mask, axis, dtype\u001b[38;5;241m=\u001b[39mdtype_count)\n\u001b[1;32m    719\u001b[0m the_sum \u001b[38;5;241m=\u001b[39m values\u001b[38;5;241m.\u001b[39msum(axis, dtype\u001b[38;5;241m=\u001b[39mdtype_sum)\n\u001b[0;32m--> 720\u001b[0m the_sum \u001b[38;5;241m=\u001b[39m \u001b[43m_ensure_numeric\u001b[49m\u001b[43m(\u001b[49m\u001b[43mthe_sum\u001b[49m\u001b[43m)\u001b[49m\n\u001b[1;32m    722\u001b[0m \u001b[38;5;28;01mif\u001b[39;00m axis \u001b[38;5;129;01mis\u001b[39;00m \u001b[38;5;129;01mnot\u001b[39;00m \u001b[38;5;28;01mNone\u001b[39;00m \u001b[38;5;129;01mand\u001b[39;00m \u001b[38;5;28mgetattr\u001b[39m(the_sum, \u001b[38;5;124m\"\u001b[39m\u001b[38;5;124mndim\u001b[39m\u001b[38;5;124m\"\u001b[39m, \u001b[38;5;28;01mFalse\u001b[39;00m):\n\u001b[1;32m    723\u001b[0m     count \u001b[38;5;241m=\u001b[39m cast(np\u001b[38;5;241m.\u001b[39mndarray, count)\n",
            "File \u001b[0;32m~/Documentos/talentoTech/venv/lib/python3.12/site-packages/pandas/core/nanops.py:1701\u001b[0m, in \u001b[0;36m_ensure_numeric\u001b[0;34m(x)\u001b[0m\n\u001b[1;32m   1698\u001b[0m \u001b[38;5;28;01melif\u001b[39;00m \u001b[38;5;129;01mnot\u001b[39;00m (is_float(x) \u001b[38;5;129;01mor\u001b[39;00m is_integer(x) \u001b[38;5;129;01mor\u001b[39;00m is_complex(x)):\n\u001b[1;32m   1699\u001b[0m     \u001b[38;5;28;01mif\u001b[39;00m \u001b[38;5;28misinstance\u001b[39m(x, \u001b[38;5;28mstr\u001b[39m):\n\u001b[1;32m   1700\u001b[0m         \u001b[38;5;66;03m# GH#44008, GH#36703 avoid casting e.g. strings to numeric\u001b[39;00m\n\u001b[0;32m-> 1701\u001b[0m         \u001b[38;5;28;01mraise\u001b[39;00m \u001b[38;5;167;01mTypeError\u001b[39;00m(\u001b[38;5;124mf\u001b[39m\u001b[38;5;124m\"\u001b[39m\u001b[38;5;124mCould not convert string \u001b[39m\u001b[38;5;124m'\u001b[39m\u001b[38;5;132;01m{\u001b[39;00mx\u001b[38;5;132;01m}\u001b[39;00m\u001b[38;5;124m'\u001b[39m\u001b[38;5;124m to numeric\u001b[39m\u001b[38;5;124m\"\u001b[39m)\n\u001b[1;32m   1702\u001b[0m     \u001b[38;5;28;01mtry\u001b[39;00m:\n\u001b[1;32m   1703\u001b[0m         x \u001b[38;5;241m=\u001b[39m \u001b[38;5;28mfloat\u001b[39m(x)\n",
            "\u001b[0;31mTypeError\u001b[0m: Could not convert string '4212472437304325464745132841452128254345431715@#$151749544482316121249163749304332912293127344927242222683437402241233244243716194543633451461517141822134332724103163342720344462145163947549193041253529272842322547224039491342344838367732481945274415364037284338324111841552423331422323947353115429123816425358499342871549830314731461019344641414641392710822133317214936268941451738492627746383649254825481543853228391738154021392244262823414325123292141402331381549162515433292124451610@#$233048483610404215372827193115211831223281149391312492121373612234279173520362633264771446252016645283934343923123044113411754029415194117441291354039644271338188343542153912718174936384923422064421384620426630173538437122718313343435214534172523232926352127361414401224361832281926348172712221635183822381545161935333022362642212728124510948333215547231331384884022191723101641212730333731291427252547174137284815218293413252423231641462141433245392218394845114517224117403562013134215263740492749493813281211402273210484825324454025473917144814174142286262140181439297422116283347294030425243220214432163146344538411011363629371116202047401711401336151237272912492684473345333838321719274830830441393624151936322645@#$3048114630291449231517124483532154754228354530924451537423138193625910@#$26221814173534734103312484947483721151715353248104520839301615412922232742223010848333821474720638121746123436403454743212428263326481341144041323246472528464461231264131337481749144013313853629331172424343939433130182122493324312285530492427141545459521263849453389152539163023491111304492518827462419493312452343323181939415@#$2831444038332828468738272749935451041144411434225247268321642404591727344129311840432026252512203546143638132115361426218292541425294021452864419364310527432138453313171010247211649521730194036368222347394418371838828332310374423593120104417392316204714292435848276264112111872023222012' to numeric"
          ]
        }
      ],
      "source": [
        "Tipo_dato = ['media', 'mediana', 'desv_estandar', 'varianza', 'v_minimo', 'v_maximo', 'cantidad']\n",
        "\n",
        "Planta_Energética_Est = [df['Número de Comunidades Energéticas'].mean(),\n",
        "                         df['Número de Comunidades Energéticas'].median(),\n",
        "                         df['Número de Comunidades Energéticas'].std(),\n",
        "                         df['Número de Comunidades Energéticas'].var(),\n",
        "                         df['Número de Comunidades Energéticas'].min(),\n",
        "                         df['Número de Comunidades Energéticas'].max(),\n",
        "                         df['Número de Comunidades Energéticas'].count()\n",
        "                        ]\n",
        "\n",
        "Número_Proyectos_Marcha_Est\t= [df['Número de Proyectos en Marcha'].mean(),\n",
        "                                     df['Número de Proyectos en Marcha'].median(),\n",
        "                                     df['Número de Proyectos en Marcha'].std(),\n",
        "                                     df['Número de Proyectos en Marcha'].var(),\n",
        "                                     df['Número de Proyectos en Marcha'].min(),\n",
        "                                     df['Número de Proyectos en Marcha'].max(),\n",
        "                                     df['Número de Proyectos en Marcha'].count()\n",
        "                                    ]\n",
        "\n",
        "Capacidad_Generada_Est = [df['Capacidad Generada (MW)'].mean(),\n",
        "                          df['Capacidad Generada (MW)'].median(),\n",
        "                          df['Capacidad Generada (MW)'].std(),\n",
        "                          df['Capacidad Generada (MW)'].var(),\n",
        "                          df['Capacidad Generada (MW)'].min(),\n",
        "                          df['Capacidad Generada (MW)'].max(),\n",
        "                          df['Capacidad Generada (MW)'].count()\n",
        "                         ]\n",
        "\n",
        "Reducción_de_CO2 = [df['Reducción de CO2 (toneladas)'].mean(),\n",
        "                    df['Reducción de CO2 (toneladas)'].median(), #Fixed typo here\n",
        "                    df['Reducción de CO2 (toneladas)'].std(),\n",
        "                    df['Reducción de CO2 (toneladas)'].var(),\n",
        "                    df['Reducción de CO2 (toneladas)'].min(),\n",
        "                    df['Reducción de CO2 (toneladas)'].max(),\n",
        "                    df['Reducción de CO2 (toneladas)'].count()\n",
        "                   ]\n",
        "Costo_de_Producción = [df['Costo de Producción ($/MW)'].mean(),\n",
        "                        df['Costo de Producción ($/MW)'].median(),\n",
        "                        df['Costo de Producción ($/MW)'].std(),\n",
        "                        df['Costo de Producción ($/MW)'].var(),\n",
        "                        df['Costo de Producción ($/MW)'].min(),\n",
        "                        df['Costo de Producción ($/MW)'].max(),\n",
        "                        df['Costo de Producción ($/MW)'].count()\n",
        "                       ]\n",
        "\n",
        "Año_de_Instalación = [map(int, df['Año de Instalación'].unique())]\n",
        "\n",
        "\n"
      ]
    },
    {
      "cell_type": "code",
      "execution_count": 17,
      "metadata": {
        "colab": {
          "base_uri": "https://localhost:8080/",
          "height": 269
        },
        "id": "pU5OoMTBI_DQ",
        "outputId": "dd8e7756-9d82-4688-84a4-5a4d52c381af"
      },
      "outputs": [
        {
          "ename": "NameError",
          "evalue": "name 'Planta_Energética_Est' is not defined",
          "output_type": "error",
          "traceback": [
            "\u001b[0;31m---------------------------------------------------------------------------\u001b[0m",
            "\u001b[0;31mNameError\u001b[0m                                 Traceback (most recent call last)",
            "Cell \u001b[0;32mIn[17], line 3\u001b[0m\n\u001b[1;32m      1\u001b[0m df_est \u001b[38;5;241m=\u001b[39m pd\u001b[38;5;241m.\u001b[39mDataFrame({\n\u001b[1;32m      2\u001b[0m   \u001b[38;5;124m'\u001b[39m\u001b[38;5;124mTipo_dato\u001b[39m\u001b[38;5;124m'\u001b[39m: Tipo_dato,\n\u001b[0;32m----> 3\u001b[0m   \u001b[38;5;124m'\u001b[39m\u001b[38;5;124mPlanta_Energética_Est\u001b[39m\u001b[38;5;124m'\u001b[39m: \u001b[43mPlanta_Energética_Est\u001b[49m,\n\u001b[1;32m      4\u001b[0m   \u001b[38;5;124m'\u001b[39m\u001b[38;5;124mNúmero_Proyectos_Marcha_Est\u001b[39m\u001b[38;5;124m'\u001b[39m: Número_Proyectos_Marcha_Est,\n\u001b[1;32m      5\u001b[0m   \u001b[38;5;124m'\u001b[39m\u001b[38;5;124mCapacidad_Generada_Est\u001b[39m\u001b[38;5;124m'\u001b[39m: Capacidad_Generada_Est,\n\u001b[1;32m      6\u001b[0m   \u001b[38;5;124m'\u001b[39m\u001b[38;5;124mReducción_de_CO2\u001b[39m\u001b[38;5;124m'\u001b[39m: Reducción_de_CO2,\n\u001b[1;32m      7\u001b[0m   \u001b[38;5;124m'\u001b[39m\u001b[38;5;124mCosto_de_Producción\u001b[39m\u001b[38;5;124m'\u001b[39m: Costo_de_Producción,\n\u001b[1;32m      8\u001b[0m })\n\u001b[1;32m      9\u001b[0m df_est\n",
            "\u001b[0;31mNameError\u001b[0m: name 'Planta_Energética_Est' is not defined"
          ]
        }
      ],
      "source": [
        "df_est = pd.DataFrame({\n",
        "  'Tipo_dato': Tipo_dato,\n",
        "  'Planta_Energética_Est': Planta_Energética_Est,\n",
        "  'Número_Proyectos_Marcha_Est': Número_Proyectos_Marcha_Est,\n",
        "  'Capacidad_Generada_Est': Capacidad_Generada_Est,\n",
        "  'Reducción_de_CO2': Reducción_de_CO2,\n",
        "  'Costo_de_Producción': Costo_de_Producción,\n",
        "})\n",
        "df_est"
      ]
    },
    {
      "cell_type": "code",
      "execution_count": 18,
      "metadata": {
        "colab": {
          "base_uri": "https://localhost:8080/",
          "height": 1000
        },
        "id": "pt4kCd5pM54q",
        "outputId": "27083ac5-b7c3-44b0-8a0f-ff2cdc05eb34"
      },
      "outputs": [
        {
          "ename": "TypeError",
          "evalue": "ufunc 'divide' not supported for the input types, and the inputs could not be safely coerced to any supported types according to the casting rule ''safe''",
          "output_type": "error",
          "traceback": [
            "\u001b[0;31m---------------------------------------------------------------------------\u001b[0m",
            "\u001b[0;31mTypeError\u001b[0m                                 Traceback (most recent call last)",
            "Cell \u001b[0;32mIn[18], line 9\u001b[0m\n\u001b[1;32m      1\u001b[0m df_bigotes \u001b[38;5;241m=\u001b[39m [df[\u001b[38;5;124m'\u001b[39m\u001b[38;5;124mNúmero de Comunidades Energéticas\u001b[39m\u001b[38;5;124m'\u001b[39m],\n\u001b[1;32m      2\u001b[0m               df[\u001b[38;5;124m'\u001b[39m\u001b[38;5;124mNúmero de Proyectos en Marcha\u001b[39m\u001b[38;5;124m'\u001b[39m],\n\u001b[1;32m      3\u001b[0m               df[\u001b[38;5;124m'\u001b[39m\u001b[38;5;124mCapacidad Generada (MW)\u001b[39m\u001b[38;5;124m'\u001b[39m],\n\u001b[1;32m      4\u001b[0m               df[\u001b[38;5;124m'\u001b[39m\u001b[38;5;124mReducción de CO2 (toneladas)\u001b[39m\u001b[38;5;124m'\u001b[39m],\n\u001b[1;32m      5\u001b[0m               df[\u001b[38;5;124m'\u001b[39m\u001b[38;5;124mCosto de Producción ($/MW)\u001b[39m\u001b[38;5;124m'\u001b[39m]\n\u001b[1;32m      6\u001b[0m              ]\n\u001b[1;32m      8\u001b[0m plt\u001b[38;5;241m.\u001b[39mfigure(figsize\u001b[38;5;241m=\u001b[39m(\u001b[38;5;241m12\u001b[39m, \u001b[38;5;241m7\u001b[39m))\n\u001b[0;32m----> 9\u001b[0m \u001b[43mplt\u001b[49m\u001b[38;5;241;43m.\u001b[39;49m\u001b[43mboxplot\u001b[49m\u001b[43m(\u001b[49m\u001b[43mdf_bigotes\u001b[49m\u001b[43m)\u001b[49m\n",
            "File \u001b[0;32m~/Documentos/talentoTech/venv/lib/python3.12/site-packages/matplotlib/_api/deprecation.py:300\u001b[0m, in \u001b[0;36mrename_parameter.<locals>.wrapper\u001b[0;34m(*args, **kwargs)\u001b[0m\n\u001b[1;32m    295\u001b[0m     warn_deprecated(\n\u001b[1;32m    296\u001b[0m         since, message\u001b[38;5;241m=\u001b[39m\u001b[38;5;124mf\u001b[39m\u001b[38;5;124m\"\u001b[39m\u001b[38;5;124mThe \u001b[39m\u001b[38;5;132;01m{\u001b[39;00mold\u001b[38;5;132;01m!r}\u001b[39;00m\u001b[38;5;124m parameter of \u001b[39m\u001b[38;5;132;01m{\u001b[39;00mfunc\u001b[38;5;241m.\u001b[39m\u001b[38;5;18m__name__\u001b[39m\u001b[38;5;132;01m}\u001b[39;00m\u001b[38;5;124m() \u001b[39m\u001b[38;5;124m\"\u001b[39m\n\u001b[1;32m    297\u001b[0m         \u001b[38;5;124mf\u001b[39m\u001b[38;5;124m\"\u001b[39m\u001b[38;5;124mhas been renamed \u001b[39m\u001b[38;5;132;01m{\u001b[39;00mnew\u001b[38;5;132;01m!r}\u001b[39;00m\u001b[38;5;124m since Matplotlib \u001b[39m\u001b[38;5;132;01m{\u001b[39;00msince\u001b[38;5;132;01m}\u001b[39;00m\u001b[38;5;124m; support \u001b[39m\u001b[38;5;124m\"\u001b[39m\n\u001b[1;32m    298\u001b[0m         \u001b[38;5;124mf\u001b[39m\u001b[38;5;124m\"\u001b[39m\u001b[38;5;124mfor the old name will be dropped %(removal)s.\u001b[39m\u001b[38;5;124m\"\u001b[39m)\n\u001b[1;32m    299\u001b[0m     kwargs[new] \u001b[38;5;241m=\u001b[39m kwargs\u001b[38;5;241m.\u001b[39mpop(old)\n\u001b[0;32m--> 300\u001b[0m \u001b[38;5;28;01mreturn\u001b[39;00m \u001b[43mfunc\u001b[49m\u001b[43m(\u001b[49m\u001b[38;5;241;43m*\u001b[39;49m\u001b[43margs\u001b[49m\u001b[43m,\u001b[49m\u001b[43m \u001b[49m\u001b[38;5;241;43m*\u001b[39;49m\u001b[38;5;241;43m*\u001b[39;49m\u001b[43mkwargs\u001b[49m\u001b[43m)\u001b[49m\n",
            "File \u001b[0;32m~/Documentos/talentoTech/venv/lib/python3.12/site-packages/matplotlib/pyplot.py:3051\u001b[0m, in \u001b[0;36mboxplot\u001b[0;34m(x, notch, sym, vert, whis, positions, widths, patch_artist, bootstrap, usermedians, conf_intervals, meanline, showmeans, showcaps, showbox, showfliers, boxprops, tick_labels, flierprops, medianprops, meanprops, capprops, whiskerprops, manage_ticks, autorange, zorder, capwidths, label, data)\u001b[0m\n\u001b[1;32m   3018\u001b[0m \u001b[38;5;129m@_copy_docstring_and_deprecators\u001b[39m(Axes\u001b[38;5;241m.\u001b[39mboxplot)\n\u001b[1;32m   3019\u001b[0m \u001b[38;5;28;01mdef\u001b[39;00m \u001b[38;5;21mboxplot\u001b[39m(\n\u001b[1;32m   3020\u001b[0m     x: ArrayLike \u001b[38;5;241m|\u001b[39m Sequence[ArrayLike],\n\u001b[0;32m   (...)\u001b[0m\n\u001b[1;32m   3049\u001b[0m     data\u001b[38;5;241m=\u001b[39m\u001b[38;5;28;01mNone\u001b[39;00m,\n\u001b[1;32m   3050\u001b[0m ) \u001b[38;5;241m-\u001b[39m\u001b[38;5;241m>\u001b[39m \u001b[38;5;28mdict\u001b[39m[\u001b[38;5;28mstr\u001b[39m, Any]:\n\u001b[0;32m-> 3051\u001b[0m     \u001b[38;5;28;01mreturn\u001b[39;00m \u001b[43mgca\u001b[49m\u001b[43m(\u001b[49m\u001b[43m)\u001b[49m\u001b[38;5;241;43m.\u001b[39;49m\u001b[43mboxplot\u001b[49m\u001b[43m(\u001b[49m\n\u001b[1;32m   3052\u001b[0m \u001b[43m        \u001b[49m\u001b[43mx\u001b[49m\u001b[43m,\u001b[49m\n\u001b[1;32m   3053\u001b[0m \u001b[43m        \u001b[49m\u001b[43mnotch\u001b[49m\u001b[38;5;241;43m=\u001b[39;49m\u001b[43mnotch\u001b[49m\u001b[43m,\u001b[49m\n\u001b[1;32m   3054\u001b[0m \u001b[43m        \u001b[49m\u001b[43msym\u001b[49m\u001b[38;5;241;43m=\u001b[39;49m\u001b[43msym\u001b[49m\u001b[43m,\u001b[49m\n\u001b[1;32m   3055\u001b[0m \u001b[43m        \u001b[49m\u001b[43mvert\u001b[49m\u001b[38;5;241;43m=\u001b[39;49m\u001b[43mvert\u001b[49m\u001b[43m,\u001b[49m\n\u001b[1;32m   3056\u001b[0m \u001b[43m        \u001b[49m\u001b[43mwhis\u001b[49m\u001b[38;5;241;43m=\u001b[39;49m\u001b[43mwhis\u001b[49m\u001b[43m,\u001b[49m\n\u001b[1;32m   3057\u001b[0m \u001b[43m        \u001b[49m\u001b[43mpositions\u001b[49m\u001b[38;5;241;43m=\u001b[39;49m\u001b[43mpositions\u001b[49m\u001b[43m,\u001b[49m\n\u001b[1;32m   3058\u001b[0m \u001b[43m        \u001b[49m\u001b[43mwidths\u001b[49m\u001b[38;5;241;43m=\u001b[39;49m\u001b[43mwidths\u001b[49m\u001b[43m,\u001b[49m\n\u001b[1;32m   3059\u001b[0m \u001b[43m        \u001b[49m\u001b[43mpatch_artist\u001b[49m\u001b[38;5;241;43m=\u001b[39;49m\u001b[43mpatch_artist\u001b[49m\u001b[43m,\u001b[49m\n\u001b[1;32m   3060\u001b[0m \u001b[43m        \u001b[49m\u001b[43mbootstrap\u001b[49m\u001b[38;5;241;43m=\u001b[39;49m\u001b[43mbootstrap\u001b[49m\u001b[43m,\u001b[49m\n\u001b[1;32m   3061\u001b[0m \u001b[43m        \u001b[49m\u001b[43musermedians\u001b[49m\u001b[38;5;241;43m=\u001b[39;49m\u001b[43musermedians\u001b[49m\u001b[43m,\u001b[49m\n\u001b[1;32m   3062\u001b[0m \u001b[43m        \u001b[49m\u001b[43mconf_intervals\u001b[49m\u001b[38;5;241;43m=\u001b[39;49m\u001b[43mconf_intervals\u001b[49m\u001b[43m,\u001b[49m\n\u001b[1;32m   3063\u001b[0m \u001b[43m        \u001b[49m\u001b[43mmeanline\u001b[49m\u001b[38;5;241;43m=\u001b[39;49m\u001b[43mmeanline\u001b[49m\u001b[43m,\u001b[49m\n\u001b[1;32m   3064\u001b[0m \u001b[43m        \u001b[49m\u001b[43mshowmeans\u001b[49m\u001b[38;5;241;43m=\u001b[39;49m\u001b[43mshowmeans\u001b[49m\u001b[43m,\u001b[49m\n\u001b[1;32m   3065\u001b[0m \u001b[43m        \u001b[49m\u001b[43mshowcaps\u001b[49m\u001b[38;5;241;43m=\u001b[39;49m\u001b[43mshowcaps\u001b[49m\u001b[43m,\u001b[49m\n\u001b[1;32m   3066\u001b[0m \u001b[43m        \u001b[49m\u001b[43mshowbox\u001b[49m\u001b[38;5;241;43m=\u001b[39;49m\u001b[43mshowbox\u001b[49m\u001b[43m,\u001b[49m\n\u001b[1;32m   3067\u001b[0m \u001b[43m        \u001b[49m\u001b[43mshowfliers\u001b[49m\u001b[38;5;241;43m=\u001b[39;49m\u001b[43mshowfliers\u001b[49m\u001b[43m,\u001b[49m\n\u001b[1;32m   3068\u001b[0m \u001b[43m        \u001b[49m\u001b[43mboxprops\u001b[49m\u001b[38;5;241;43m=\u001b[39;49m\u001b[43mboxprops\u001b[49m\u001b[43m,\u001b[49m\n\u001b[1;32m   3069\u001b[0m \u001b[43m        \u001b[49m\u001b[43mtick_labels\u001b[49m\u001b[38;5;241;43m=\u001b[39;49m\u001b[43mtick_labels\u001b[49m\u001b[43m,\u001b[49m\n\u001b[1;32m   3070\u001b[0m \u001b[43m        \u001b[49m\u001b[43mflierprops\u001b[49m\u001b[38;5;241;43m=\u001b[39;49m\u001b[43mflierprops\u001b[49m\u001b[43m,\u001b[49m\n\u001b[1;32m   3071\u001b[0m \u001b[43m        \u001b[49m\u001b[43mmedianprops\u001b[49m\u001b[38;5;241;43m=\u001b[39;49m\u001b[43mmedianprops\u001b[49m\u001b[43m,\u001b[49m\n\u001b[1;32m   3072\u001b[0m \u001b[43m        \u001b[49m\u001b[43mmeanprops\u001b[49m\u001b[38;5;241;43m=\u001b[39;49m\u001b[43mmeanprops\u001b[49m\u001b[43m,\u001b[49m\n\u001b[1;32m   3073\u001b[0m \u001b[43m        \u001b[49m\u001b[43mcapprops\u001b[49m\u001b[38;5;241;43m=\u001b[39;49m\u001b[43mcapprops\u001b[49m\u001b[43m,\u001b[49m\n\u001b[1;32m   3074\u001b[0m \u001b[43m        \u001b[49m\u001b[43mwhiskerprops\u001b[49m\u001b[38;5;241;43m=\u001b[39;49m\u001b[43mwhiskerprops\u001b[49m\u001b[43m,\u001b[49m\n\u001b[1;32m   3075\u001b[0m \u001b[43m        \u001b[49m\u001b[43mmanage_ticks\u001b[49m\u001b[38;5;241;43m=\u001b[39;49m\u001b[43mmanage_ticks\u001b[49m\u001b[43m,\u001b[49m\n\u001b[1;32m   3076\u001b[0m \u001b[43m        \u001b[49m\u001b[43mautorange\u001b[49m\u001b[38;5;241;43m=\u001b[39;49m\u001b[43mautorange\u001b[49m\u001b[43m,\u001b[49m\n\u001b[1;32m   3077\u001b[0m \u001b[43m        \u001b[49m\u001b[43mzorder\u001b[49m\u001b[38;5;241;43m=\u001b[39;49m\u001b[43mzorder\u001b[49m\u001b[43m,\u001b[49m\n\u001b[1;32m   3078\u001b[0m \u001b[43m        \u001b[49m\u001b[43mcapwidths\u001b[49m\u001b[38;5;241;43m=\u001b[39;49m\u001b[43mcapwidths\u001b[49m\u001b[43m,\u001b[49m\n\u001b[1;32m   3079\u001b[0m \u001b[43m        \u001b[49m\u001b[43mlabel\u001b[49m\u001b[38;5;241;43m=\u001b[39;49m\u001b[43mlabel\u001b[49m\u001b[43m,\u001b[49m\n\u001b[1;32m   3080\u001b[0m \u001b[43m        \u001b[49m\u001b[38;5;241;43m*\u001b[39;49m\u001b[38;5;241;43m*\u001b[39;49m\u001b[43m(\u001b[49m\u001b[43m{\u001b[49m\u001b[38;5;124;43m\"\u001b[39;49m\u001b[38;5;124;43mdata\u001b[39;49m\u001b[38;5;124;43m\"\u001b[39;49m\u001b[43m:\u001b[49m\u001b[43m \u001b[49m\u001b[43mdata\u001b[49m\u001b[43m}\u001b[49m\u001b[43m \u001b[49m\u001b[38;5;28;43;01mif\u001b[39;49;00m\u001b[43m \u001b[49m\u001b[43mdata\u001b[49m\u001b[43m \u001b[49m\u001b[38;5;129;43;01mis\u001b[39;49;00m\u001b[43m \u001b[49m\u001b[38;5;129;43;01mnot\u001b[39;49;00m\u001b[43m \u001b[49m\u001b[38;5;28;43;01mNone\u001b[39;49;00m\u001b[43m \u001b[49m\u001b[38;5;28;43;01melse\u001b[39;49;00m\u001b[43m \u001b[49m\u001b[43m{\u001b[49m\u001b[43m}\u001b[49m\u001b[43m)\u001b[49m\u001b[43m,\u001b[49m\n\u001b[1;32m   3081\u001b[0m \u001b[43m    \u001b[49m\u001b[43m)\u001b[49m\n",
            "File \u001b[0;32m~/Documentos/talentoTech/venv/lib/python3.12/site-packages/matplotlib/__init__.py:1473\u001b[0m, in \u001b[0;36m_preprocess_data.<locals>.inner\u001b[0;34m(ax, data, *args, **kwargs)\u001b[0m\n\u001b[1;32m   1470\u001b[0m \u001b[38;5;129m@functools\u001b[39m\u001b[38;5;241m.\u001b[39mwraps(func)\n\u001b[1;32m   1471\u001b[0m \u001b[38;5;28;01mdef\u001b[39;00m \u001b[38;5;21minner\u001b[39m(ax, \u001b[38;5;241m*\u001b[39margs, data\u001b[38;5;241m=\u001b[39m\u001b[38;5;28;01mNone\u001b[39;00m, \u001b[38;5;241m*\u001b[39m\u001b[38;5;241m*\u001b[39mkwargs):\n\u001b[1;32m   1472\u001b[0m     \u001b[38;5;28;01mif\u001b[39;00m data \u001b[38;5;129;01mis\u001b[39;00m \u001b[38;5;28;01mNone\u001b[39;00m:\n\u001b[0;32m-> 1473\u001b[0m         \u001b[38;5;28;01mreturn\u001b[39;00m \u001b[43mfunc\u001b[49m\u001b[43m(\u001b[49m\n\u001b[1;32m   1474\u001b[0m \u001b[43m            \u001b[49m\u001b[43max\u001b[49m\u001b[43m,\u001b[49m\n\u001b[1;32m   1475\u001b[0m \u001b[43m            \u001b[49m\u001b[38;5;241;43m*\u001b[39;49m\u001b[38;5;28;43mmap\u001b[39;49m\u001b[43m(\u001b[49m\u001b[43msanitize_sequence\u001b[49m\u001b[43m,\u001b[49m\u001b[43m \u001b[49m\u001b[43margs\u001b[49m\u001b[43m)\u001b[49m\u001b[43m,\u001b[49m\n\u001b[1;32m   1476\u001b[0m \u001b[43m            \u001b[49m\u001b[38;5;241;43m*\u001b[39;49m\u001b[38;5;241;43m*\u001b[39;49m\u001b[43m{\u001b[49m\u001b[43mk\u001b[49m\u001b[43m:\u001b[49m\u001b[43m \u001b[49m\u001b[43msanitize_sequence\u001b[49m\u001b[43m(\u001b[49m\u001b[43mv\u001b[49m\u001b[43m)\u001b[49m\u001b[43m \u001b[49m\u001b[38;5;28;43;01mfor\u001b[39;49;00m\u001b[43m \u001b[49m\u001b[43mk\u001b[49m\u001b[43m,\u001b[49m\u001b[43m \u001b[49m\u001b[43mv\u001b[49m\u001b[43m \u001b[49m\u001b[38;5;129;43;01min\u001b[39;49;00m\u001b[43m \u001b[49m\u001b[43mkwargs\u001b[49m\u001b[38;5;241;43m.\u001b[39;49m\u001b[43mitems\u001b[49m\u001b[43m(\u001b[49m\u001b[43m)\u001b[49m\u001b[43m}\u001b[49m\u001b[43m)\u001b[49m\n\u001b[1;32m   1478\u001b[0m     bound \u001b[38;5;241m=\u001b[39m new_sig\u001b[38;5;241m.\u001b[39mbind(ax, \u001b[38;5;241m*\u001b[39margs, \u001b[38;5;241m*\u001b[39m\u001b[38;5;241m*\u001b[39mkwargs)\n\u001b[1;32m   1479\u001b[0m     auto_label \u001b[38;5;241m=\u001b[39m (bound\u001b[38;5;241m.\u001b[39marguments\u001b[38;5;241m.\u001b[39mget(label_namer)\n\u001b[1;32m   1480\u001b[0m                   \u001b[38;5;129;01mor\u001b[39;00m bound\u001b[38;5;241m.\u001b[39mkwargs\u001b[38;5;241m.\u001b[39mget(label_namer))\n",
            "File \u001b[0;32m~/Documentos/talentoTech/venv/lib/python3.12/site-packages/matplotlib/_api/deprecation.py:300\u001b[0m, in \u001b[0;36mrename_parameter.<locals>.wrapper\u001b[0;34m(*args, **kwargs)\u001b[0m\n\u001b[1;32m    295\u001b[0m     warn_deprecated(\n\u001b[1;32m    296\u001b[0m         since, message\u001b[38;5;241m=\u001b[39m\u001b[38;5;124mf\u001b[39m\u001b[38;5;124m\"\u001b[39m\u001b[38;5;124mThe \u001b[39m\u001b[38;5;132;01m{\u001b[39;00mold\u001b[38;5;132;01m!r}\u001b[39;00m\u001b[38;5;124m parameter of \u001b[39m\u001b[38;5;132;01m{\u001b[39;00mfunc\u001b[38;5;241m.\u001b[39m\u001b[38;5;18m__name__\u001b[39m\u001b[38;5;132;01m}\u001b[39;00m\u001b[38;5;124m() \u001b[39m\u001b[38;5;124m\"\u001b[39m\n\u001b[1;32m    297\u001b[0m         \u001b[38;5;124mf\u001b[39m\u001b[38;5;124m\"\u001b[39m\u001b[38;5;124mhas been renamed \u001b[39m\u001b[38;5;132;01m{\u001b[39;00mnew\u001b[38;5;132;01m!r}\u001b[39;00m\u001b[38;5;124m since Matplotlib \u001b[39m\u001b[38;5;132;01m{\u001b[39;00msince\u001b[38;5;132;01m}\u001b[39;00m\u001b[38;5;124m; support \u001b[39m\u001b[38;5;124m\"\u001b[39m\n\u001b[1;32m    298\u001b[0m         \u001b[38;5;124mf\u001b[39m\u001b[38;5;124m\"\u001b[39m\u001b[38;5;124mfor the old name will be dropped %(removal)s.\u001b[39m\u001b[38;5;124m\"\u001b[39m)\n\u001b[1;32m    299\u001b[0m     kwargs[new] \u001b[38;5;241m=\u001b[39m kwargs\u001b[38;5;241m.\u001b[39mpop(old)\n\u001b[0;32m--> 300\u001b[0m \u001b[38;5;28;01mreturn\u001b[39;00m \u001b[43mfunc\u001b[49m\u001b[43m(\u001b[49m\u001b[38;5;241;43m*\u001b[39;49m\u001b[43margs\u001b[49m\u001b[43m,\u001b[49m\u001b[43m \u001b[49m\u001b[38;5;241;43m*\u001b[39;49m\u001b[38;5;241;43m*\u001b[39;49m\u001b[43mkwargs\u001b[49m\u001b[43m)\u001b[49m\n",
            "File \u001b[0;32m~/Documentos/talentoTech/venv/lib/python3.12/site-packages/matplotlib/axes/_axes.py:4039\u001b[0m, in \u001b[0;36mAxes.boxplot\u001b[0;34m(self, x, notch, sym, vert, whis, positions, widths, patch_artist, bootstrap, usermedians, conf_intervals, meanline, showmeans, showcaps, showbox, showfliers, boxprops, tick_labels, flierprops, medianprops, meanprops, capprops, whiskerprops, manage_ticks, autorange, zorder, capwidths, label)\u001b[0m\n\u001b[1;32m   4036\u001b[0m \u001b[38;5;28;01mif\u001b[39;00m bootstrap \u001b[38;5;129;01mis\u001b[39;00m \u001b[38;5;28;01mNone\u001b[39;00m:\n\u001b[1;32m   4037\u001b[0m     bootstrap \u001b[38;5;241m=\u001b[39m mpl\u001b[38;5;241m.\u001b[39mrcParams[\u001b[38;5;124m'\u001b[39m\u001b[38;5;124mboxplot.bootstrap\u001b[39m\u001b[38;5;124m'\u001b[39m]\n\u001b[0;32m-> 4039\u001b[0m bxpstats \u001b[38;5;241m=\u001b[39m \u001b[43mcbook\u001b[49m\u001b[38;5;241;43m.\u001b[39;49m\u001b[43mboxplot_stats\u001b[49m\u001b[43m(\u001b[49m\u001b[43mx\u001b[49m\u001b[43m,\u001b[49m\u001b[43m \u001b[49m\u001b[43mwhis\u001b[49m\u001b[38;5;241;43m=\u001b[39;49m\u001b[43mwhis\u001b[49m\u001b[43m,\u001b[49m\u001b[43m \u001b[49m\u001b[43mbootstrap\u001b[49m\u001b[38;5;241;43m=\u001b[39;49m\u001b[43mbootstrap\u001b[49m\u001b[43m,\u001b[49m\n\u001b[1;32m   4040\u001b[0m \u001b[43m                               \u001b[49m\u001b[43mlabels\u001b[49m\u001b[38;5;241;43m=\u001b[39;49m\u001b[43mtick_labels\u001b[49m\u001b[43m,\u001b[49m\u001b[43m \u001b[49m\u001b[43mautorange\u001b[49m\u001b[38;5;241;43m=\u001b[39;49m\u001b[43mautorange\u001b[49m\u001b[43m)\u001b[49m\n\u001b[1;32m   4041\u001b[0m \u001b[38;5;28;01mif\u001b[39;00m notch \u001b[38;5;129;01mis\u001b[39;00m \u001b[38;5;28;01mNone\u001b[39;00m:\n\u001b[1;32m   4042\u001b[0m     notch \u001b[38;5;241m=\u001b[39m mpl\u001b[38;5;241m.\u001b[39mrcParams[\u001b[38;5;124m'\u001b[39m\u001b[38;5;124mboxplot.notch\u001b[39m\u001b[38;5;124m'\u001b[39m]\n",
            "File \u001b[0;32m~/Documentos/talentoTech/venv/lib/python3.12/site-packages/matplotlib/cbook.py:1295\u001b[0m, in \u001b[0;36mboxplot_stats\u001b[0;34m(X, whis, bootstrap, labels, autorange)\u001b[0m\n\u001b[1;32m   1292\u001b[0m x \u001b[38;5;241m=\u001b[39m x\u001b[38;5;241m.\u001b[39mdata[\u001b[38;5;241m~\u001b[39mx\u001b[38;5;241m.\u001b[39mmask]\u001b[38;5;241m.\u001b[39mravel()\n\u001b[1;32m   1294\u001b[0m \u001b[38;5;66;03m# arithmetic mean\u001b[39;00m\n\u001b[0;32m-> 1295\u001b[0m stats[\u001b[38;5;124m'\u001b[39m\u001b[38;5;124mmean\u001b[39m\u001b[38;5;124m'\u001b[39m] \u001b[38;5;241m=\u001b[39m \u001b[43mnp\u001b[49m\u001b[38;5;241;43m.\u001b[39;49m\u001b[43mmean\u001b[49m\u001b[43m(\u001b[49m\u001b[43mx\u001b[49m\u001b[43m)\u001b[49m\n\u001b[1;32m   1297\u001b[0m \u001b[38;5;66;03m# medians and quartiles\u001b[39;00m\n\u001b[1;32m   1298\u001b[0m q1, med, q3 \u001b[38;5;241m=\u001b[39m np\u001b[38;5;241m.\u001b[39mpercentile(x, [\u001b[38;5;241m25\u001b[39m, \u001b[38;5;241m50\u001b[39m, \u001b[38;5;241m75\u001b[39m])\n",
            "File \u001b[0;32m~/Documentos/talentoTech/venv/lib/python3.12/site-packages/numpy/core/fromnumeric.py:3504\u001b[0m, in \u001b[0;36mmean\u001b[0;34m(a, axis, dtype, out, keepdims, where)\u001b[0m\n\u001b[1;32m   3501\u001b[0m     \u001b[38;5;28;01melse\u001b[39;00m:\n\u001b[1;32m   3502\u001b[0m         \u001b[38;5;28;01mreturn\u001b[39;00m mean(axis\u001b[38;5;241m=\u001b[39maxis, dtype\u001b[38;5;241m=\u001b[39mdtype, out\u001b[38;5;241m=\u001b[39mout, \u001b[38;5;241m*\u001b[39m\u001b[38;5;241m*\u001b[39mkwargs)\n\u001b[0;32m-> 3504\u001b[0m \u001b[38;5;28;01mreturn\u001b[39;00m \u001b[43m_methods\u001b[49m\u001b[38;5;241;43m.\u001b[39;49m\u001b[43m_mean\u001b[49m\u001b[43m(\u001b[49m\u001b[43ma\u001b[49m\u001b[43m,\u001b[49m\u001b[43m \u001b[49m\u001b[43maxis\u001b[49m\u001b[38;5;241;43m=\u001b[39;49m\u001b[43maxis\u001b[49m\u001b[43m,\u001b[49m\u001b[43m \u001b[49m\u001b[43mdtype\u001b[49m\u001b[38;5;241;43m=\u001b[39;49m\u001b[43mdtype\u001b[49m\u001b[43m,\u001b[49m\n\u001b[1;32m   3505\u001b[0m \u001b[43m                      \u001b[49m\u001b[43mout\u001b[49m\u001b[38;5;241;43m=\u001b[39;49m\u001b[43mout\u001b[49m\u001b[43m,\u001b[49m\u001b[43m \u001b[49m\u001b[38;5;241;43m*\u001b[39;49m\u001b[38;5;241;43m*\u001b[39;49m\u001b[43mkwargs\u001b[49m\u001b[43m)\u001b[49m\n",
            "File \u001b[0;32m~/Documentos/talentoTech/venv/lib/python3.12/site-packages/numpy/core/_methods.py:131\u001b[0m, in \u001b[0;36m_mean\u001b[0;34m(a, axis, dtype, out, keepdims, where)\u001b[0m\n\u001b[1;32m    129\u001b[0m         ret \u001b[38;5;241m=\u001b[39m ret\u001b[38;5;241m.\u001b[39mdtype\u001b[38;5;241m.\u001b[39mtype(ret \u001b[38;5;241m/\u001b[39m rcount)\n\u001b[1;32m    130\u001b[0m \u001b[38;5;28;01melse\u001b[39;00m:\n\u001b[0;32m--> 131\u001b[0m     ret \u001b[38;5;241m=\u001b[39m \u001b[43mret\u001b[49m\u001b[43m \u001b[49m\u001b[38;5;241;43m/\u001b[39;49m\u001b[43m \u001b[49m\u001b[43mrcount\u001b[49m\n\u001b[1;32m    133\u001b[0m \u001b[38;5;28;01mreturn\u001b[39;00m ret\n",
            "\u001b[0;31mTypeError\u001b[0m: ufunc 'divide' not supported for the input types, and the inputs could not be safely coerced to any supported types according to the casting rule ''safe''"
          ]
        },
        {
          "data": {
            "image/png": "[encoded data removed]",
            "text/plain": [
              "<Figure size 1200x700 with 1 Axes>"
            ]
          },
          "metadata": {},
          "output_type": "display_data"
        }
      ],
      "source": [
        "df_bigotes = [df['Número de Comunidades Energéticas'],\n",
        "              df['Número de Proyectos en Marcha'],\n",
        "              df['Capacidad Generada (MW)'],\n",
        "              df['Reducción de CO2 (toneladas)'],\n",
        "              df['Costo de Producción ($/MW)']\n",
        "             ]\n",
        "\n",
        "plt.figure(figsize=(12, 7))\n",
        "plt.boxplot(df_bigotes)\n",
        "\n"
      ]
    },
    {
      "cell_type": "code",
      "execution_count": 19,
      "metadata": {
        "colab": {
          "base_uri": "https://localhost:8080/",
          "height": 429
        },
        "id": "BZgnR7TcWa6k",
        "outputId": "8437ac64-1fa6-4684-95f6-1819bc02fa75"
      },
      "outputs": [
        {
          "data": {
            "text/plain": [
              "Planta Energética                                        0\n",
              "Tipo de Energía                                         71\n",
              "Nivel de Democratización Energética                    100\n",
              "Número de Comunidades Energéticas                        0\n",
              "Número de Proyectos en Marcha                          190\n",
              "Capacidad Generada (MW)                                168\n",
              "Reducción de CO2 (toneladas)                            57\n",
              "Región                                                  62\n",
              "Costo de Producción ($/MW)                               0\n",
              "Año de Instalación                                       0\n",
              "Rentabilidad en 10 años (Rentable=1, No Rentable=0)      0\n",
              "dtype: int64"
            ]
          },
          "execution_count": 19,
          "metadata": {},
          "output_type": "execute_result"
        }
      ],
      "source": [
        "data_eliminados.isnull().sum()"
      ]
    },
    {
      "cell_type": "code",
      "execution_count": 20,
      "metadata": {
        "colab": {
          "base_uri": "https://localhost:8080/"
        },
        "id": "xXytq3TsXLYB",
        "outputId": "3a6e9664-4da7-4fe4-9c85-f964a94ec6f6"
      },
      "outputs": [
        {
          "data": {
            "text/plain": [
              "0"
            ]
          },
          "execution_count": 20,
          "metadata": {},
          "output_type": "execute_result"
        }
      ],
      "source": [
        "df['Número de Comunidades Energéticas'].isnull().sum()"
      ]
    },
    {
      "cell_type": "code",
      "execution_count": 21,
      "metadata": {
        "colab": {
          "base_uri": "https://localhost:8080/",
          "height": 651
        },
        "id": "RgdpJmcmYHEt",
        "outputId": "b19a245c-daf4-4fed-90e2-72400129dac6"
      },
      "outputs": [
        {
          "data": {
            "text/plain": [
              "(array([119., 145., 124., 112.,   0., 134., 116.,   5., 112., 133.]),\n",
              " array([0. , 0.8, 1.6, 2.4, 3.2, 4. , 4.8, 5.6, 6.4, 7.2, 8. ]),\n",
              " <BarContainer object of 10 artists>)"
            ]
          },
          "execution_count": 21,
          "metadata": {},
          "output_type": "execute_result"
        },
        {
          "data": {
            "image/png": "[encoded data removed]",
            "text/plain": [
              "<Figure size 1200x700 with 1 Axes>"
            ]
          },
          "metadata": {},
          "output_type": "display_data"
        }
      ],
      "source": [
        "plt.figure(figsize=(12, 7))\n",
        "plt.hist(df['Planta Energética'])\n"
      ]
    },
    {
      "cell_type": "code",
      "execution_count": 22,
      "metadata": {
        "colab": {
          "base_uri": "https://localhost:8080/"
        },
        "id": "8JbxDjMxXp7x",
        "outputId": "3458c780-cc5a-4d24-cba7-049cc88324e3"
      },
      "outputs": [
        {
          "data": {
            "text/plain": [
              "71"
            ]
          },
          "execution_count": 22,
          "metadata": {},
          "output_type": "execute_result"
        }
      ],
      "source": [
        "df['Tipo de Energía'].isnull().sum()"
      ]
    },
    {
      "cell_type": "code",
      "execution_count": 23,
      "metadata": {
        "colab": {
          "base_uri": "https://localhost:8080/",
          "height": 617
        },
        "id": "SyrJU9qfZVCx",
        "outputId": "4abad54c-9892-4381-ed44-032b3997ad77"
      },
      "outputs": [
        {
          "data": {
            "text/plain": [
              "<Axes: >"
            ]
          },
          "execution_count": 23,
          "metadata": {},
          "output_type": "execute_result"
        },
        {
          "data": {
            "image/png": "[encoded data removed]",
            "text/plain": [
              "<Figure size 1200x700 with 1 Axes>"
            ]
          },
          "metadata": {},
          "output_type": "display_data"
        }
      ],
      "source": [
        "plt.figure(figsize=(12, 7))\n",
        "(df['Tipo de Energía']).hist()\n"
      ]
    },
    {
      "cell_type": "code",
      "execution_count": 24,
      "metadata": {
        "colab": {
          "base_uri": "https://localhost:8080/",
          "height": 616
        },
        "id": "HpuJWdHKbW0a",
        "outputId": "e6fe5b0c-36f4-413b-f63c-c8991cdc9b35"
      },
      "outputs": [
        {
          "data": {
            "text/plain": [
              "<Axes: >"
            ]
          },
          "execution_count": 24,
          "metadata": {},
          "output_type": "execute_result"
        },
        {
          "data": {
            "image/png": "[encoded data removed]",
            "text/plain": [
              "<Figure size 1200x700 with 1 Axes>"
            ]
          },
          "metadata": {},
          "output_type": "display_data"
        }
      ],
      "source": [
        "plt.figure(figsize=(12, 7))\n",
        "(df['Planta Energética']).hist()\n"
      ]
    },
    {
      "cell_type": "code",
      "execution_count": 25,
      "metadata": {
        "colab": {
          "base_uri": "https://localhost:8080/",
          "height": 616
        },
        "id": "Ce90Z5X2eiIh",
        "outputId": "9c005d11-3439-4ab1-d564-2bfafa673011"
      },
      "outputs": [
        {
          "data": {
            "text/plain": [
              "<Axes: >"
            ]
          },
          "execution_count": 25,
          "metadata": {},
          "output_type": "execute_result"
        },
        {
          "data": {
            "image/png": "[encoded data removed]",
            "text/plain": [
              "<Figure size 1800x700 with 1 Axes>"
            ]
          },
          "metadata": {},
          "output_type": "display_data"
        }
      ],
      "source": [
        "plt.figure(figsize=(18, 7))\n",
        "(df['Número de Comunidades Energéticas']).hist()"
      ]
    },
    {
      "cell_type": "code",
      "execution_count": 26,
      "metadata": {
        "colab": {
          "base_uri": "https://localhost:8080/",
          "height": 447
        },
        "id": "H3IiSihnexCI",
        "outputId": "ec7cd258-eec1-49bd-ea0f-75d997753870"
      },
      "outputs": [
        {
          "data": {
            "text/plain": [
              "<matplotlib.collections.PathCollection at 0x786bd19a97f0>"
            ]
          },
          "execution_count": 26,
          "metadata": {},
          "output_type": "execute_result"
        },
        {
          "data": {
            "image/png": "[encoded data removed]",
            "text/plain": [
              "<Figure size 640x480 with 1 Axes>"
            ]
          },
          "metadata": {},
          "output_type": "display_data"
        }
      ],
      "source": [
        "plt.scatter(df['Año de Instalación'], df['Número de Comunidades Energéticas'])"
      ]
    },
    {
      "cell_type": "markdown",
      "metadata": {
        "id": "UzSUazWjdu4n"
      },
      "source": [
        "## 4) Dimension de la calidad de datos"
      ]
    },
    {
      "cell_type": "code",
      "execution_count": 27,
      "metadata": {
        "colab": {
          "base_uri": "https://localhost:8080/",
          "height": 429
        },
        "id": "EWBZvqVucj86",
        "outputId": "7313f9df-f459-445c-9aa5-8f0be3759f2c"
      },
      "outputs": [
        {
          "data": {
            "text/plain": [
              "Planta Energética                                        0\n",
              "Tipo de Energía                                         71\n",
              "Nivel de Democratización Energética                    100\n",
              "Número de Comunidades Energéticas                        0\n",
              "Número de Proyectos en Marcha                          190\n",
              "Capacidad Generada (MW)                                168\n",
              "Reducción de CO2 (toneladas)                            57\n",
              "Región                                                  62\n",
              "Costo de Producción ($/MW)                               0\n",
              "Año de Instalación                                       0\n",
              "Rentabilidad en 10 años (Rentable=1, No Rentable=0)      0\n",
              "dtype: int64"
            ]
          },
          "execution_count": 27,
          "metadata": {},
          "output_type": "execute_result"
        }
      ],
      "source": [
        "df.isnull().sum()"
      ]
    },
    {
      "cell_type": "code",
      "execution_count": 28,
      "metadata": {
        "colab": {
          "base_uri": "https://localhost:8080/",
          "height": 258
        },
        "id": "VhgEDHPTXDgX",
        "outputId": "c433b887-4deb-4be2-8869-2d79157c1865"
      },
      "outputs": [
        {
          "data": {
            "text/html": [
              "<div>\n",
              "<style scoped>\n",
              "    .dataframe tbody tr th:only-of-type {\n",
              "        vertical-align: middle;\n",
              "    }\n",
              "\n",
              "    .dataframe tbody tr th {\n",
              "        vertical-align: top;\n",
              "    }\n",
              "\n",
              "    .dataframe thead th {\n",
              "        text-align: right;\n",
              "    }\n",
              "</style>\n",
              "<table border=\"1\" class=\"dataframe\">\n",
              "  <thead>\n",
              "    <tr style=\"text-align: right;\">\n",
              "      <th></th>\n",
              "      <th>Planta Energética</th>\n",
              "      <th>Tipo de Energía</th>\n",
              "      <th>Nivel de Democratización Energética</th>\n",
              "      <th>Número de Comunidades Energéticas</th>\n",
              "      <th>Número de Proyectos en Marcha</th>\n",
              "      <th>Capacidad Generada (MW)</th>\n",
              "      <th>Reducción de CO2 (toneladas)</th>\n",
              "      <th>Región</th>\n",
              "      <th>Costo de Producción ($/MW)</th>\n",
              "      <th>Año de Instalación</th>\n",
              "      <th>Rentabilidad en 10 años (Rentable=1, No Rentable=0)</th>\n",
              "    </tr>\n",
              "  </thead>\n",
              "  <tbody>\n",
              "    <tr>\n",
              "      <th>0</th>\n",
              "      <td>SolarFlow</td>\n",
              "      <td>Solar</td>\n",
              "      <td>Alto</td>\n",
              "      <td>42</td>\n",
              "      <td>1.0</td>\n",
              "      <td>100.46</td>\n",
              "      <td>48910.59373127165</td>\n",
              "      <td>Sur</td>\n",
              "      <td>1893.656170</td>\n",
              "      <td>2005</td>\n",
              "      <td>1</td>\n",
              "    </tr>\n",
              "    <tr>\n",
              "      <th>1</th>\n",
              "      <td>SunWave</td>\n",
              "      <td>Solar</td>\n",
              "      <td>Bajo</td>\n",
              "      <td>12</td>\n",
              "      <td>17.0</td>\n",
              "      <td>NaN</td>\n",
              "      <td>156615.16814130466</td>\n",
              "      <td>Oeste</td>\n",
              "      <td>3398.187477</td>\n",
              "      <td>2015</td>\n",
              "      <td>0</td>\n",
              "    </tr>\n",
              "    <tr>\n",
              "      <th>2</th>\n",
              "      <td>EcoWind</td>\n",
              "      <td>NaN</td>\n",
              "      <td>Bajo</td>\n",
              "      <td>47</td>\n",
              "      <td>NaN</td>\n",
              "      <td>52.62</td>\n",
              "      <td>25618.907447138306</td>\n",
              "      <td>Sur</td>\n",
              "      <td>1642.900952</td>\n",
              "      <td>2010</td>\n",
              "      <td>0</td>\n",
              "    </tr>\n",
              "    <tr>\n",
              "      <th>3</th>\n",
              "      <td>SolarFlow</td>\n",
              "      <td>Geotérmica</td>\n",
              "      <td>NaN</td>\n",
              "      <td>24</td>\n",
              "      <td>11.0</td>\n",
              "      <td>NaN</td>\n",
              "      <td>381289.3836417021</td>\n",
              "      <td>Este</td>\n",
              "      <td>2796.374954</td>\n",
              "      <td>2010</td>\n",
              "      <td>1</td>\n",
              "    </tr>\n",
              "    <tr>\n",
              "      <th>4</th>\n",
              "      <td>HydroFlux</td>\n",
              "      <td>Hidrógeno verde</td>\n",
              "      <td>Medio</td>\n",
              "      <td>37</td>\n",
              "      <td>5.0</td>\n",
              "      <td>404.25</td>\n",
              "      <td>196815.72283363095</td>\n",
              "      <td>Norte</td>\n",
              "      <td>2144.411388</td>\n",
              "      <td>2020</td>\n",
              "      <td>1</td>\n",
              "    </tr>\n",
              "  </tbody>\n",
              "</table>\n",
              "</div>"
            ],
            "text/plain": [
              "  Planta Energética  Tipo de Energía Nivel de Democratización Energética  \\\n",
              "0         SolarFlow            Solar                                Alto   \n",
              "1           SunWave            Solar                                Bajo   \n",
              "2           EcoWind              NaN                                Bajo   \n",
              "3         SolarFlow       Geotérmica                                 NaN   \n",
              "4         HydroFlux  Hidrógeno verde                               Medio   \n",
              "\n",
              "  Número de Comunidades Energéticas  Número de Proyectos en Marcha  \\\n",
              "0                                42                            1.0   \n",
              "1                                12                           17.0   \n",
              "2                                47                            NaN   \n",
              "3                                24                           11.0   \n",
              "4                                37                            5.0   \n",
              "\n",
              "  Capacidad Generada (MW) Reducción de CO2 (toneladas) Región  \\\n",
              "0                  100.46            48910.59373127165    Sur   \n",
              "1                     NaN           156615.16814130466  Oeste   \n",
              "2                   52.62           25618.907447138306    Sur   \n",
              "3                     NaN            381289.3836417021   Este   \n",
              "4                  404.25           196815.72283363095  Norte   \n",
              "\n",
              "   Costo de Producción ($/MW)  Año de Instalación  \\\n",
              "0                 1893.656170                2005   \n",
              "1                 3398.187477                2015   \n",
              "2                 1642.900952                2010   \n",
              "3                 2796.374954                2010   \n",
              "4                 2144.411388                2020   \n",
              "\n",
              "   Rentabilidad en 10 años (Rentable=1, No Rentable=0)  \n",
              "0                                                  1    \n",
              "1                                                  0    \n",
              "2                                                  0    \n",
              "3                                                  1    \n",
              "4                                                  1    "
            ]
          },
          "execution_count": 28,
          "metadata": {},
          "output_type": "execute_result"
        }
      ],
      "source": [
        "data_eliminados_te = df.copy()\n",
        "data_eliminados_te.head()"
      ]
    },
    {
      "cell_type": "code",
      "execution_count": 29,
      "metadata": {
        "colab": {
          "base_uri": "https://localhost:8080/"
        },
        "id": "VqBi5xOBcuuy",
        "outputId": "5608a760-1178-4b0c-8afe-c628039265e3"
      },
      "outputs": [
        {
          "data": {
            "text/plain": [
              "0"
            ]
          },
          "execution_count": 29,
          "metadata": {},
          "output_type": "execute_result"
        }
      ],
      "source": [
        "data_eliminados['Número de Comunidades Energéticas'].isnull().sum()"
      ]
    },
    {
      "cell_type": "code",
      "execution_count": 30,
      "metadata": {
        "colab": {
          "base_uri": "https://localhost:8080/",
          "height": 429
        },
        "id": "7iY9uUyblyHt",
        "outputId": "e6afd55b-795e-4127-fb83-d9290bd18ff2"
      },
      "outputs": [
        {
          "data": {
            "text/plain": [
              "Planta Energética                                        0\n",
              "Tipo de Energía                                         71\n",
              "Nivel de Democratización Energética                    100\n",
              "Número de Comunidades Energéticas                        0\n",
              "Número de Proyectos en Marcha                          190\n",
              "Capacidad Generada (MW)                                168\n",
              "Reducción de CO2 (toneladas)                            57\n",
              "Región                                                  62\n",
              "Costo de Producción ($/MW)                               0\n",
              "Año de Instalación                                       0\n",
              "Rentabilidad en 10 años (Rentable=1, No Rentable=0)      0\n",
              "dtype: int64"
            ]
          },
          "execution_count": 30,
          "metadata": {},
          "output_type": "execute_result"
        }
      ],
      "source": [
        "df.isnull().sum()"
      ]
    },
    {
      "cell_type": "markdown",
      "metadata": {
        "id": "-Wi0iZdwcbyc"
      },
      "source": [
        "## 6)Limpieza de datos"
      ]
    },
    {
      "cell_type": "code",
      "execution_count": 31,
      "metadata": {
        "colab": {
          "base_uri": "https://localhost:8080/",
          "height": 317
        },
        "id": "IBVFHRdlk-NA",
        "outputId": "c3b41df7-34c2-4c2e-88d4-310a735edbeb"
      },
      "outputs": [
        {
          "data": {
            "text/html": [
              "<div>\n",
              "<style scoped>\n",
              "    .dataframe tbody tr th:only-of-type {\n",
              "        vertical-align: middle;\n",
              "    }\n",
              "\n",
              "    .dataframe tbody tr th {\n",
              "        vertical-align: top;\n",
              "    }\n",
              "\n",
              "    .dataframe thead th {\n",
              "        text-align: right;\n",
              "    }\n",
              "</style>\n",
              "<table border=\"1\" class=\"dataframe\">\n",
              "  <thead>\n",
              "    <tr style=\"text-align: right;\">\n",
              "      <th></th>\n",
              "      <th>Número de Proyectos en Marcha</th>\n",
              "      <th>Costo de Producción ($/MW)</th>\n",
              "      <th>Año de Instalación</th>\n",
              "      <th>Rentabilidad en 10 años (Rentable=1, No Rentable=0)</th>\n",
              "    </tr>\n",
              "  </thead>\n",
              "  <tbody>\n",
              "    <tr>\n",
              "      <th>count</th>\n",
              "      <td>810.000000</td>\n",
              "      <td>1000.000000</td>\n",
              "      <td>1000.000000</td>\n",
              "      <td>1000.00000</td>\n",
              "    </tr>\n",
              "    <tr>\n",
              "      <th>mean</th>\n",
              "      <td>10.262963</td>\n",
              "      <td>2620.846302</td>\n",
              "      <td>2012.175000</td>\n",
              "      <td>0.58400</td>\n",
              "    </tr>\n",
              "    <tr>\n",
              "      <th>std</th>\n",
              "      <td>5.447467</td>\n",
              "      <td>653.454384</td>\n",
              "      <td>5.605872</td>\n",
              "      <td>0.49314</td>\n",
              "    </tr>\n",
              "    <tr>\n",
              "      <th>min</th>\n",
              "      <td>1.000000</td>\n",
              "      <td>1542.598865</td>\n",
              "      <td>2005.000000</td>\n",
              "      <td>0.00000</td>\n",
              "    </tr>\n",
              "    <tr>\n",
              "      <th>25%</th>\n",
              "      <td>6.000000</td>\n",
              "      <td>2044.109301</td>\n",
              "      <td>2005.000000</td>\n",
              "      <td>0.00000</td>\n",
              "    </tr>\n",
              "    <tr>\n",
              "      <th>50%</th>\n",
              "      <td>10.000000</td>\n",
              "      <td>2620.846302</td>\n",
              "      <td>2010.000000</td>\n",
              "      <td>1.00000</td>\n",
              "    </tr>\n",
              "    <tr>\n",
              "      <th>75%</th>\n",
              "      <td>15.000000</td>\n",
              "      <td>3197.583303</td>\n",
              "      <td>2015.000000</td>\n",
              "      <td>1.00000</td>\n",
              "    </tr>\n",
              "    <tr>\n",
              "      <th>max</th>\n",
              "      <td>19.000000</td>\n",
              "      <td>3749.244782</td>\n",
              "      <td>2020.000000</td>\n",
              "      <td>1.00000</td>\n",
              "    </tr>\n",
              "  </tbody>\n",
              "</table>\n",
              "</div>"
            ],
            "text/plain": [
              "       Número de Proyectos en Marcha  Costo de Producción ($/MW)  \\\n",
              "count                     810.000000                 1000.000000   \n",
              "mean                       10.262963                 2620.846302   \n",
              "std                         5.447467                  653.454384   \n",
              "min                         1.000000                 1542.598865   \n",
              "25%                         6.000000                 2044.109301   \n",
              "50%                        10.000000                 2620.846302   \n",
              "75%                        15.000000                 3197.583303   \n",
              "max                        19.000000                 3749.244782   \n",
              "\n",
              "       Año de Instalación  Rentabilidad en 10 años (Rentable=1, No Rentable=0)  \n",
              "count         1000.000000                                         1000.00000    \n",
              "mean          2012.175000                                            0.58400    \n",
              "std              5.605872                                            0.49314    \n",
              "min           2005.000000                                            0.00000    \n",
              "25%           2005.000000                                            0.00000    \n",
              "50%           2010.000000                                            1.00000    \n",
              "75%           2015.000000                                            1.00000    \n",
              "max           2020.000000                                            1.00000    "
            ]
          },
          "execution_count": 31,
          "metadata": {},
          "output_type": "execute_result"
        }
      ],
      "source": [
        "df.describe()"
      ]
    },
    {
      "cell_type": "code",
      "execution_count": 32,
      "metadata": {
        "id": "TmwVXW3MsvN0"
      },
      "outputs": [],
      "source": [
        "var = ['Número de Comunidades Energéticas','Número de Proyectos en Marcha','Capacidad Generada (MW)','Reducción de CO2 (toneladas)','Costo de Producción ($/MW)']\n",
        "for columna in var:\n",
        "  df[columna] = df[columna].replace(['null', ' NA', '@#$'], np.nan)"
      ]
    },
    {
      "cell_type": "code",
      "execution_count": 33,
      "metadata": {
        "colab": {
          "base_uri": "https://localhost:8080/",
          "height": 742
        },
        "id": "MeTis7YLjT78",
        "outputId": "e32ff375-efaa-41e1-9675-455c572469e9"
      },
      "outputs": [
        {
          "data": {
            "text/plain": [
              "Número de Proyectos en Marcha\n",
              "17.0    58\n",
              "15.0    55\n",
              "13.0    54\n",
              "8.0     52\n",
              "3.0     47\n",
              "16.0    47\n",
              "1.0     42\n",
              "6.0     41\n",
              "11.0    41\n",
              "7.0     40\n",
              "19.0    40\n",
              "10.0    40\n",
              "14.0    39\n",
              "5.0     38\n",
              "12.0    36\n",
              "2.0     36\n",
              "9.0     36\n",
              "18.0    34\n",
              "4.0     34\n",
              "Name: count, dtype: int64"
            ]
          },
          "execution_count": 33,
          "metadata": {},
          "output_type": "execute_result"
        }
      ],
      "source": [
        "df['Número de Proyectos en Marcha'].value_counts()"
      ]
    },
    {
      "cell_type": "code",
      "execution_count": 34,
      "metadata": {
        "colab": {
          "base_uri": "https://localhost:8080/"
        },
        "id": "tuP610yBj7S7",
        "outputId": "0758ab4f-835e-43cf-92e2-31c526300856"
      },
      "outputs": [
        {
          "name": "stderr",
          "output_type": "stream",
          "text": [
            "/tmp/ipykernel_22247/3287413835.py:1: SettingWithCopyWarning: \n",
            "A value is trying to be set on a copy of a slice from a DataFrame\n",
            "\n",
            "See the caveats in the documentation: https://pandas.pydata.org/pandas-docs/stable/user_guide/indexing.html#returning-a-view-versus-a-copy\n",
            "  df[['Capacidad Generada (MW)']].replace('@#$', np.nan, inplace=True)\n"
          ]
        }
      ],
      "source": [
        "df[['Capacidad Generada (MW)']].replace('@#$', np.nan, inplace=True)"
      ]
    },
    {
      "cell_type": "code",
      "execution_count": 35,
      "metadata": {
        "colab": {
          "base_uri": "https://localhost:8080/",
          "height": 429
        },
        "id": "tUnjUN4NkE8Q",
        "outputId": "2470b316-2225-4818-bf6e-d09d872e8742"
      },
      "outputs": [
        {
          "data": {
            "text/plain": [
              "Planta Energética                                        0\n",
              "Tipo de Energía                                         71\n",
              "Nivel de Democratización Energética                    100\n",
              "Número de Comunidades Energéticas                        5\n",
              "Número de Proyectos en Marcha                          190\n",
              "Capacidad Generada (MW)                                178\n",
              "Reducción de CO2 (toneladas)                            61\n",
              "Región                                                  62\n",
              "Costo de Producción ($/MW)                               0\n",
              "Año de Instalación                                       0\n",
              "Rentabilidad en 10 años (Rentable=1, No Rentable=0)      0\n",
              "dtype: int64"
            ]
          },
          "execution_count": 35,
          "metadata": {},
          "output_type": "execute_result"
        }
      ],
      "source": [
        "df.isnull().sum()"
      ]
    },
    {
      "cell_type": "code",
      "execution_count": 36,
      "metadata": {
        "colab": {
          "base_uri": "https://localhost:8080/",
          "height": 458
        },
        "id": "HClxbGDsr9iB",
        "outputId": "170d2431-d69a-4bf2-9ef8-1d3d0a9a3be7"
      },
      "outputs": [
        {
          "data": {
            "text/plain": [
              "0      42\n",
              "1      12\n",
              "2      47\n",
              "3      24\n",
              "4      37\n",
              "       ..\n",
              "995    20\n",
              "996    23\n",
              "997    22\n",
              "998    20\n",
              "999    12\n",
              "Name: Número de Comunidades Energéticas, Length: 1000, dtype: object"
            ]
          },
          "execution_count": 36,
          "metadata": {},
          "output_type": "execute_result"
        }
      ],
      "source": [
        "df['Número de Comunidades Energéticas']"
      ]
    },
    {
      "cell_type": "markdown",
      "metadata": {
        "id": "cxcnbzPCfky2"
      },
      "source": []
    },
    {
      "cell_type": "markdown",
      "metadata": {
        "id": "Hm-Cegs-efvF"
      },
      "source": [
        "\n",
        "\n",
        "---\n",
        "\n",
        "## 6) Deteccion y tratamiento de los datos ausentes"
      ]
    },
    {
      "cell_type": "code",
      "execution_count": 38,
      "metadata": {
        "colab": {
          "base_uri": "https://localhost:8080/",
          "height": 524
        },
        "id": "fGksAh_Zoe4n",
        "outputId": "e081d815-c8dd-443b-efc1-242b3a0e4c96"
      },
      "outputs": [
        {
          "data": {
            "text/plain": [
              "Planta Energética  Tipo de Energía  Nivel de Democratización Energética  Número de Comunidades Energéticas  Número de Proyectos en Marcha  Capacidad Generada (MW)  Reducción de CO2 (toneladas)  Región  Costo de Producción ($/MW)  Año de Instalación  Rentabilidad en 10 años (Rentable=1, No Rentable=0)\n",
              "AquaPower          Eólica           Alto                                 21                                 16.0                           812.36                   395510.7497863412             Sur     2946.828085                 2005                0                                                      1\n",
              "SunWave            Eólica           Alto                                 31                                 17.0                           314.07                   152910.11520187624            Este    2445.317649                 2010                0                                                      1\n",
              "                   Hidráulica       Alto                                 43                                 10.0                           807.47                   393129.973324606              Sur     1843.505127                 2015                1                                                      1\n",
              "                                                                         17                                 8.0                            232.36                   113128.26557235               Sur     3147.432259                 2010                1                                                      1\n",
              "                   Geotérmica       Medio                                46                                 12.0                           626.5                    305021.76958631986            Este    1693.051996                 2005                1                                                      1\n",
              "                                                                                                                                                                                                                                                                                                                ..\n",
              "HydroFlux          Hidrógeno verde  Medio                                28                                 15.0                           918.66                   447264.6430138365             Norte   2595.770780                 2015                1                                                      1\n",
              "                                    Bajo                                 45                                 13.0                           393.58                   191620.85885679768            Este    1743.203039                 2010                0                                                      1\n",
              "                                                                         39                                 9.0                            34.44                    16767.67716608596             Norte   2044.109301                 2015                1                                                      1\n",
              "                                                                                                            3.0                            854.4                    415978.61122833466            Este    2044.109301                 2015                1                                                      1\n",
              "error              Solar            Bajo                                 30                                 12.0                           607.3                    295673.93562613253            Este    2495.468693                 2005                0                                                      1\n",
              "Name: count, Length: 487, dtype: int64"
            ]
          },
          "execution_count": 38,
          "metadata": {},
          "output_type": "execute_result"
        }
      ],
      "source": [
        "df.value_counts()"
      ]
    },
    {
      "cell_type": "markdown",
      "metadata": {
        "id": "jBPHV8AlgexR"
      },
      "source": [
        "## 7)Cálculo y visualización de matrices de correlación."
      ]
    },
    {
      "cell_type": "code",
      "execution_count": 39,
      "metadata": {
        "colab": {
          "base_uri": "https://localhost:8080/",
          "height": 701
        },
        "id": "eMlNN-VXfDJJ",
        "outputId": "ec4a0e9a-4193-4300-ae9e-62abe5959e38"
      },
      "outputs": [
        {
          "data": {
            "text/plain": [
              "<Axes: >"
            ]
          },
          "execution_count": 39,
          "metadata": {},
          "output_type": "execute_result"
        },
        {
          "data": {
            "image/png": "[encoded data removed]",
            "text/plain": [
              "<Figure size 640x480 with 2 Axes>"
            ]
          },
          "metadata": {},
          "output_type": "display_data"
        }
      ],
      "source": [
        "correlacion = df[['Número de Comunidades Energéticas','Número de Proyectos en Marcha','Capacidad Generada (MW)','Reducción de CO2 (toneladas)','Costo de Producción ($/MW)']].corr()\n",
        "\n",
        "sns.heatmap(correlacion, annot=True, cmap='coolwarm')"
      ]
    },
    {
      "cell_type": "code",
      "execution_count": 40,
      "metadata": {
        "colab": {
          "base_uri": "https://localhost:8080/",
          "height": 642
        },
        "id": "gUQuHMzUzRWY",
        "outputId": "8c281f95-96cd-4547-d09c-96ee7ff6a405"
      },
      "outputs": [
        {
          "data": {
            "image/png": "[encoded data removed]",
            "text/plain": [
              "<Figure size 1200x700 with 1 Axes>"
            ]
          },
          "metadata": {},
          "output_type": "display_data"
        }
      ],
      "source": [
        "df['Reducción de CO2 (toneladas)'] = pd.to_numeric(df['Reducción de CO2 (toneladas)'])\n",
        "df['Capacidad Generada (MW)'] = pd.to_numeric(df['Capacidad Generada (MW)'])\n",
        "\n",
        "plt.figure(figsize=(12, 7))\n",
        "plt.scatter(df['Reducción de CO2 (toneladas)'], df['Capacidad Generada (MW)'])\n",
        "\n",
        "plt.xlabel('Reducción de CO2 (toneladas)')\n",
        "plt.ylabel('Capacidad Generada (MW)')\n",
        "plt.title('Relación entre Reducción de CO2 y Capacidad Generada')\n",
        "plt.show()"
      ]
    },
    {
      "cell_type": "code",
      "execution_count": 41,
      "metadata": {
        "colab": {
          "base_uri": "https://localhost:8080/",
          "height": 642
        },
        "id": "BIQaWCjr0D6-",
        "outputId": "faa141f8-f50b-453c-97ab-cc5ba66cdb95"
      },
      "outputs": [
        {
          "data": {
            "image/png": "[encoded data removed]",
            "text/plain": [
              "<Figure size 1200x700 with 1 Axes>"
            ]
          },
          "metadata": {},
          "output_type": "display_data"
        }
      ],
      "source": [
        "df['Costo de Producción ($/MW)'] = pd.to_numeric(df['Costo de Producción ($/MW)'])\n",
        "df['Número de Comunidades Energéticas'] = pd.to_numeric(df['Número de Comunidades Energéticas'])\n",
        "\n",
        "plt.figure(figsize=(12, 7))\n",
        "plt.scatter(df['Costo de Producción ($/MW)'], df['Número de Comunidades Energéticas'])\n",
        "\n",
        "plt.xlabel('Costo de Producción ($/MW)')\n",
        "plt.ylabel('Número de Comunidades Energéticas')\n",
        "plt.title('Relación entre Costo de Producción y Número de Comunidades Energéticas')\n",
        "plt.show()"
      ]
    },
    {
      "cell_type": "markdown",
      "metadata": {
        "id": "XYFTFaK8gV21"
      },
      "source": [
        "## 8)Normalización de Datos: Aplicar técnicas de Min-Max Scaling y escalado robusto para normalizar los datos y mejorar el rendimiento del modelo."
      ]
    },
    {
      "cell_type": "code",
      "execution_count": 42,
      "metadata": {
        "colab": {
          "base_uri": "https://localhost:8080/",
          "height": 429
        },
        "id": "Btz0nRyog3A_",
        "outputId": "53fc3342-a139-455c-9453-7bac5fb3b08b"
      },
      "outputs": [
        {
          "data": {
            "text/plain": [
              "Planta Energética                                        0\n",
              "Tipo de Energía                                         71\n",
              "Nivel de Democratización Energética                    100\n",
              "Número de Comunidades Energéticas                        5\n",
              "Número de Proyectos en Marcha                          190\n",
              "Capacidad Generada (MW)                                178\n",
              "Reducción de CO2 (toneladas)                            61\n",
              "Región                                                  62\n",
              "Costo de Producción ($/MW)                               0\n",
              "Año de Instalación                                       0\n",
              "Rentabilidad en 10 años (Rentable=1, No Rentable=0)      0\n",
              "dtype: int64"
            ]
          },
          "execution_count": 42,
          "metadata": {},
          "output_type": "execute_result"
        }
      ],
      "source": [
        "df.isnull().sum()"
      ]
    },
    {
      "cell_type": "code",
      "execution_count": 43,
      "metadata": {
        "id": "Yh5HEzKmisWW"
      },
      "outputs": [
        {
          "name": "stderr",
          "output_type": "stream",
          "text": [
            "/tmp/ipykernel_22247/4192706863.py:1: FutureWarning: A value is trying to be set on a copy of a DataFrame or Series through chained assignment using an inplace method.\n",
            "The behavior will change in pandas 3.0. This inplace method will never work because the intermediate object on which we are setting values always behaves as a copy.\n",
            "\n",
            "For example, when doing 'df[col].method(value, inplace=True)', try using 'df.method({col: value}, inplace=True)' or df[col] = df[col].method(value) instead, to perform the operation inplace on the original object.\n",
            "\n",
            "\n",
            "  df['Número de Proyectos en Marcha'].fillna(df['Número de Proyectos en Marcha'].mean(), inplace=True)\n"
          ]
        }
      ],
      "source": [
        "df['Número de Proyectos en Marcha'].fillna(df['Número de Proyectos en Marcha'].mean(), inplace=True)"
      ]
    },
    {
      "cell_type": "code",
      "execution_count": 44,
      "metadata": {
        "colab": {
          "base_uri": "https://localhost:8080/",
          "height": 429
        },
        "id": "K2u7yvCNjARt",
        "outputId": "08bcebc1-d2ef-4f0f-dece-4700edbf0164"
      },
      "outputs": [
        {
          "data": {
            "text/plain": [
              "Planta Energética                                        0\n",
              "Tipo de Energía                                         71\n",
              "Nivel de Democratización Energética                    100\n",
              "Número de Comunidades Energéticas                        5\n",
              "Número de Proyectos en Marcha                            0\n",
              "Capacidad Generada (MW)                                178\n",
              "Reducción de CO2 (toneladas)                            61\n",
              "Región                                                  62\n",
              "Costo de Producción ($/MW)                               0\n",
              "Año de Instalación                                       0\n",
              "Rentabilidad en 10 años (Rentable=1, No Rentable=0)      0\n",
              "dtype: int64"
            ]
          },
          "execution_count": 44,
          "metadata": {},
          "output_type": "execute_result"
        }
      ],
      "source": [
        "df.isnull().sum()"
      ]
    },
    {
      "cell_type": "code",
      "execution_count": 46,
      "metadata": {
        "colab": {
          "base_uri": "https://localhost:8080/",
          "height": 429
        },
        "id": "O3BI3M1tlYHr",
        "outputId": "b3a60c81-7472-4494-8493-a4e26ac18649"
      },
      "outputs": [
        {
          "data": {
            "text/plain": [
              "Planta Energética                                       object\n",
              "Tipo de Energía                                         object\n",
              "Nivel de Democratización Energética                     object\n",
              "Número de Comunidades Energéticas                      float64\n",
              "Número de Proyectos en Marcha                          float64\n",
              "Capacidad Generada (MW)                                float64\n",
              "Reducción de CO2 (toneladas)                           float64\n",
              "Región                                                  object\n",
              "Costo de Producción ($/MW)                             float64\n",
              "Año de Instalación                                       int64\n",
              "Rentabilidad en 10 años (Rentable=1, No Rentable=0)      int64\n",
              "dtype: object"
            ]
          },
          "execution_count": 46,
          "metadata": {},
          "output_type": "execute_result"
        }
      ],
      "source": [
        "df.dtypes\n"
      ]
    },
    {
      "cell_type": "code",
      "execution_count": 47,
      "metadata": {
        "colab": {
          "base_uri": "https://localhost:8080/"
        },
        "id": "fBELHU0bjaVC",
        "outputId": "9241a245-8563-4218-fd1d-ea221b7dfcd0"
      },
      "outputs": [
        {
          "name": "stdout",
          "output_type": "stream",
          "text": [
            "float64\n"
          ]
        }
      ],
      "source": [
        "df['Capacidad Generada (MW)'] = pd.to_numeric(df['Capacidad Generada (MW)'])\n",
        "print(df['Capacidad Generada (MW)'].dtype)"
      ]
    },
    {
      "cell_type": "code",
      "execution_count": 48,
      "metadata": {
        "id": "LAwBEbWQm4qy"
      },
      "outputs": [
        {
          "name": "stderr",
          "output_type": "stream",
          "text": [
            "/tmp/ipykernel_22247/1755874873.py:1: FutureWarning: A value is trying to be set on a copy of a DataFrame or Series through chained assignment using an inplace method.\n",
            "The behavior will change in pandas 3.0. This inplace method will never work because the intermediate object on which we are setting values always behaves as a copy.\n",
            "\n",
            "For example, when doing 'df[col].method(value, inplace=True)', try using 'df.method({col: value}, inplace=True)' or df[col] = df[col].method(value) instead, to perform the operation inplace on the original object.\n",
            "\n",
            "\n",
            "  df['Capacidad Generada (MW)'].fillna(df['Capacidad Generada (MW)'].mean(), inplace=True)\n"
          ]
        }
      ],
      "source": [
        "df['Capacidad Generada (MW)'].fillna(df['Capacidad Generada (MW)'].mean(), inplace=True)"
      ]
    },
    {
      "cell_type": "code",
      "execution_count": 49,
      "metadata": {
        "colab": {
          "base_uri": "https://localhost:8080/",
          "height": 429
        },
        "id": "ui5n2HLbnAs3",
        "outputId": "3a8fcc50-1b77-4bc5-b597-016c7799fbfc"
      },
      "outputs": [
        {
          "data": {
            "text/plain": [
              "Planta Energética                                        0\n",
              "Tipo de Energía                                         71\n",
              "Nivel de Democratización Energética                    100\n",
              "Número de Comunidades Energéticas                        5\n",
              "Número de Proyectos en Marcha                            0\n",
              "Capacidad Generada (MW)                                  0\n",
              "Reducción de CO2 (toneladas)                            61\n",
              "Región                                                  62\n",
              "Costo de Producción ($/MW)                               0\n",
              "Año de Instalación                                       0\n",
              "Rentabilidad en 10 años (Rentable=1, No Rentable=0)      0\n",
              "dtype: int64"
            ]
          },
          "execution_count": 49,
          "metadata": {},
          "output_type": "execute_result"
        }
      ],
      "source": [
        "df.isnull().sum()"
      ]
    },
    {
      "cell_type": "code",
      "execution_count": 50,
      "metadata": {
        "colab": {
          "base_uri": "https://localhost:8080/"
        },
        "id": "Om7cUULznI1o",
        "outputId": "059e23a0-4cbb-4fb2-cd23-45f4d0fa3c76"
      },
      "outputs": [
        {
          "name": "stdout",
          "output_type": "stream",
          "text": [
            "float64\n"
          ]
        }
      ],
      "source": [
        "df['Reducción de CO2 (toneladas)'] = pd.to_numeric(df['Reducción de CO2 (toneladas)'])\n",
        "print(df['Reducción de CO2 (toneladas)'].dtype)"
      ]
    },
    {
      "cell_type": "code",
      "execution_count": 51,
      "metadata": {
        "id": "a9vkeApRnVNz"
      },
      "outputs": [
        {
          "name": "stderr",
          "output_type": "stream",
          "text": [
            "/tmp/ipykernel_22247/3633543789.py:1: FutureWarning: A value is trying to be set on a copy of a DataFrame or Series through chained assignment using an inplace method.\n",
            "The behavior will change in pandas 3.0. This inplace method will never work because the intermediate object on which we are setting values always behaves as a copy.\n",
            "\n",
            "For example, when doing 'df[col].method(value, inplace=True)', try using 'df.method({col: value}, inplace=True)' or df[col] = df[col].method(value) instead, to perform the operation inplace on the original object.\n",
            "\n",
            "\n",
            "  df['Reducción de CO2 (toneladas)'].fillna(df['Reducción de CO2 (toneladas)'].mean(), inplace=True)\n"
          ]
        }
      ],
      "source": [
        "df['Reducción de CO2 (toneladas)'].fillna(df['Reducción de CO2 (toneladas)'].mean(), inplace=True)"
      ]
    },
    {
      "cell_type": "code",
      "execution_count": 52,
      "metadata": {
        "colab": {
          "base_uri": "https://localhost:8080/",
          "height": 429
        },
        "id": "5u4u4aDrndrs",
        "outputId": "a557b705-e5ff-45e3-cbe3-7057e3a01aea"
      },
      "outputs": [
        {
          "data": {
            "text/plain": [
              "Planta Energética                                        0\n",
              "Tipo de Energía                                         71\n",
              "Nivel de Democratización Energética                    100\n",
              "Número de Comunidades Energéticas                        5\n",
              "Número de Proyectos en Marcha                            0\n",
              "Capacidad Generada (MW)                                  0\n",
              "Reducción de CO2 (toneladas)                             0\n",
              "Región                                                  62\n",
              "Costo de Producción ($/MW)                               0\n",
              "Año de Instalación                                       0\n",
              "Rentabilidad en 10 años (Rentable=1, No Rentable=0)      0\n",
              "dtype: int64"
            ]
          },
          "execution_count": 52,
          "metadata": {},
          "output_type": "execute_result"
        }
      ],
      "source": [
        "df.isnull().sum()"
      ]
    },
    {
      "cell_type": "code",
      "execution_count": 53,
      "metadata": {
        "colab": {
          "base_uri": "https://localhost:8080/"
        },
        "id": "QvCvYFCNoOEQ",
        "outputId": "3936bd4d-9a16-4955-e72f-bc6d21ab2706"
      },
      "outputs": [
        {
          "name": "stdout",
          "output_type": "stream",
          "text": [
            "float64\n"
          ]
        }
      ],
      "source": [
        "df['Número de Comunidades Energéticas'] = pd.to_numeric(df['Número de Comunidades Energéticas'])\n",
        "print(df['Número de Comunidades Energéticas'].dtype)"
      ]
    },
    {
      "cell_type": "code",
      "execution_count": 54,
      "metadata": {
        "id": "JwD-VpNqoiHM"
      },
      "outputs": [
        {
          "name": "stderr",
          "output_type": "stream",
          "text": [
            "/tmp/ipykernel_22247/1991743060.py:1: FutureWarning: A value is trying to be set on a copy of a DataFrame or Series through chained assignment using an inplace method.\n",
            "The behavior will change in pandas 3.0. This inplace method will never work because the intermediate object on which we are setting values always behaves as a copy.\n",
            "\n",
            "For example, when doing 'df[col].method(value, inplace=True)', try using 'df.method({col: value}, inplace=True)' or df[col] = df[col].method(value) instead, to perform the operation inplace on the original object.\n",
            "\n",
            "\n",
            "  df['Número de Comunidades Energéticas'].fillna(df['Número de Comunidades Energéticas'].mean(), inplace=True)\n"
          ]
        }
      ],
      "source": [
        "df['Número de Comunidades Energéticas'].fillna(df['Número de Comunidades Energéticas'].mean(), inplace=True)"
      ]
    },
    {
      "cell_type": "code",
      "execution_count": 55,
      "metadata": {
        "colab": {
          "base_uri": "https://localhost:8080/",
          "height": 429
        },
        "id": "CXkCwdrSotny",
        "outputId": "ed039096-9cf7-4386-b808-f13cbc4e2b86"
      },
      "outputs": [
        {
          "data": {
            "text/plain": [
              "Planta Energética                                        0\n",
              "Tipo de Energía                                         71\n",
              "Nivel de Democratización Energética                    100\n",
              "Número de Comunidades Energéticas                        0\n",
              "Número de Proyectos en Marcha                            0\n",
              "Capacidad Generada (MW)                                  0\n",
              "Reducción de CO2 (toneladas)                             0\n",
              "Región                                                  62\n",
              "Costo de Producción ($/MW)                               0\n",
              "Año de Instalación                                       0\n",
              "Rentabilidad en 10 años (Rentable=1, No Rentable=0)      0\n",
              "dtype: int64"
            ]
          },
          "execution_count": 55,
          "metadata": {},
          "output_type": "execute_result"
        }
      ],
      "source": [
        "df.isnull().sum()"
      ]
    },
    {
      "cell_type": "code",
      "execution_count": 56,
      "metadata": {
        "colab": {
          "base_uri": "https://localhost:8080/",
          "height": 458
        },
        "id": "Ou0_bFIEo0ob",
        "outputId": "d2d6a8af-047e-446d-e898-1b5f9237cb4f"
      },
      "outputs": [
        {
          "data": {
            "text/plain": [
              "0       Alto\n",
              "1       Bajo\n",
              "2       Bajo\n",
              "3        NaN\n",
              "4      Medio\n",
              "       ...  \n",
              "995     Bajo\n",
              "996    Medio\n",
              "997     Bajo\n",
              "998     Bajo\n",
              "999    Medio\n",
              "Name: Nivel de Democratización Energética, Length: 1000, dtype: object"
            ]
          },
          "execution_count": 56,
          "metadata": {},
          "output_type": "execute_result"
        }
      ],
      "source": [
        "tde = df['Nivel de Democratización Energética']\n",
        "tde"
      ]
    },
    {
      "cell_type": "code",
      "execution_count": 57,
      "metadata": {
        "colab": {
          "base_uri": "https://localhost:8080/",
          "height": 423
        },
        "id": "zeY6PYEOptMu",
        "outputId": "48164bde-9f0b-4dcc-963c-e84a956e8363"
      },
      "outputs": [
        {
          "data": {
            "text/html": [
              "<div>\n",
              "<style scoped>\n",
              "    .dataframe tbody tr th:only-of-type {\n",
              "        vertical-align: middle;\n",
              "    }\n",
              "\n",
              "    .dataframe tbody tr th {\n",
              "        vertical-align: top;\n",
              "    }\n",
              "\n",
              "    .dataframe thead th {\n",
              "        text-align: right;\n",
              "    }\n",
              "</style>\n",
              "<table border=\"1\" class=\"dataframe\">\n",
              "  <thead>\n",
              "    <tr style=\"text-align: right;\">\n",
              "      <th></th>\n",
              "      <th>Eólica</th>\n",
              "      <th>Geotérmica</th>\n",
              "      <th>Hidráulica</th>\n",
              "      <th>Hidrógeno verde</th>\n",
              "      <th>Solar</th>\n",
              "      <th>error</th>\n",
              "    </tr>\n",
              "  </thead>\n",
              "  <tbody>\n",
              "    <tr>\n",
              "      <th>0</th>\n",
              "      <td>0.0</td>\n",
              "      <td>0.0</td>\n",
              "      <td>0.0</td>\n",
              "      <td>0.0</td>\n",
              "      <td>1.0</td>\n",
              "      <td>0.0</td>\n",
              "    </tr>\n",
              "    <tr>\n",
              "      <th>1</th>\n",
              "      <td>0.0</td>\n",
              "      <td>0.0</td>\n",
              "      <td>0.0</td>\n",
              "      <td>0.0</td>\n",
              "      <td>1.0</td>\n",
              "      <td>0.0</td>\n",
              "    </tr>\n",
              "    <tr>\n",
              "      <th>2</th>\n",
              "      <td>0.0</td>\n",
              "      <td>0.0</td>\n",
              "      <td>0.0</td>\n",
              "      <td>0.0</td>\n",
              "      <td>0.0</td>\n",
              "      <td>0.0</td>\n",
              "    </tr>\n",
              "    <tr>\n",
              "      <th>3</th>\n",
              "      <td>0.0</td>\n",
              "      <td>1.0</td>\n",
              "      <td>0.0</td>\n",
              "      <td>0.0</td>\n",
              "      <td>0.0</td>\n",
              "      <td>0.0</td>\n",
              "    </tr>\n",
              "    <tr>\n",
              "      <th>4</th>\n",
              "      <td>0.0</td>\n",
              "      <td>0.0</td>\n",
              "      <td>0.0</td>\n",
              "      <td>1.0</td>\n",
              "      <td>0.0</td>\n",
              "      <td>0.0</td>\n",
              "    </tr>\n",
              "    <tr>\n",
              "      <th>...</th>\n",
              "      <td>...</td>\n",
              "      <td>...</td>\n",
              "      <td>...</td>\n",
              "      <td>...</td>\n",
              "      <td>...</td>\n",
              "      <td>...</td>\n",
              "    </tr>\n",
              "    <tr>\n",
              "      <th>995</th>\n",
              "      <td>0.0</td>\n",
              "      <td>0.0</td>\n",
              "      <td>0.0</td>\n",
              "      <td>1.0</td>\n",
              "      <td>0.0</td>\n",
              "      <td>0.0</td>\n",
              "    </tr>\n",
              "    <tr>\n",
              "      <th>996</th>\n",
              "      <td>1.0</td>\n",
              "      <td>0.0</td>\n",
              "      <td>0.0</td>\n",
              "      <td>0.0</td>\n",
              "      <td>0.0</td>\n",
              "      <td>0.0</td>\n",
              "    </tr>\n",
              "    <tr>\n",
              "      <th>997</th>\n",
              "      <td>1.0</td>\n",
              "      <td>0.0</td>\n",
              "      <td>0.0</td>\n",
              "      <td>0.0</td>\n",
              "      <td>0.0</td>\n",
              "      <td>0.0</td>\n",
              "    </tr>\n",
              "    <tr>\n",
              "      <th>998</th>\n",
              "      <td>1.0</td>\n",
              "      <td>0.0</td>\n",
              "      <td>0.0</td>\n",
              "      <td>0.0</td>\n",
              "      <td>0.0</td>\n",
              "      <td>0.0</td>\n",
              "    </tr>\n",
              "    <tr>\n",
              "      <th>999</th>\n",
              "      <td>1.0</td>\n",
              "      <td>0.0</td>\n",
              "      <td>0.0</td>\n",
              "      <td>0.0</td>\n",
              "      <td>0.0</td>\n",
              "      <td>0.0</td>\n",
              "    </tr>\n",
              "  </tbody>\n",
              "</table>\n",
              "<p>1000 rows × 6 columns</p>\n",
              "</div>"
            ],
            "text/plain": [
              "     Eólica  Geotérmica  Hidráulica  Hidrógeno verde  Solar  error\n",
              "0       0.0         0.0         0.0              0.0    1.0    0.0\n",
              "1       0.0         0.0         0.0              0.0    1.0    0.0\n",
              "2       0.0         0.0         0.0              0.0    0.0    0.0\n",
              "3       0.0         1.0         0.0              0.0    0.0    0.0\n",
              "4       0.0         0.0         0.0              1.0    0.0    0.0\n",
              "..      ...         ...         ...              ...    ...    ...\n",
              "995     0.0         0.0         0.0              1.0    0.0    0.0\n",
              "996     1.0         0.0         0.0              0.0    0.0    0.0\n",
              "997     1.0         0.0         0.0              0.0    0.0    0.0\n",
              "998     1.0         0.0         0.0              0.0    0.0    0.0\n",
              "999     1.0         0.0         0.0              0.0    0.0    0.0\n",
              "\n",
              "[1000 rows x 6 columns]"
            ]
          },
          "execution_count": 57,
          "metadata": {},
          "output_type": "execute_result"
        }
      ],
      "source": [
        "tipo_de_energia_num = pd.get_dummies(df['Tipo de Energía'], columns=['Tipo de Energía'], dtype=float)\n",
        "tipo_de_energia_num"
      ]
    },
    {
      "cell_type": "code",
      "execution_count": 58,
      "metadata": {
        "colab": {
          "base_uri": "https://localhost:8080/",
          "height": 423
        },
        "id": "gBqb8p1yOXBa",
        "outputId": "4cc901a4-d8a5-4fac-f156-13c8fdf9c033"
      },
      "outputs": [
        {
          "data": {
            "text/html": [
              "<div>\n",
              "<style scoped>\n",
              "    .dataframe tbody tr th:only-of-type {\n",
              "        vertical-align: middle;\n",
              "    }\n",
              "\n",
              "    .dataframe tbody tr th {\n",
              "        vertical-align: top;\n",
              "    }\n",
              "\n",
              "    .dataframe thead th {\n",
              "        text-align: right;\n",
              "    }\n",
              "</style>\n",
              "<table border=\"1\" class=\"dataframe\">\n",
              "  <thead>\n",
              "    <tr style=\"text-align: right;\">\n",
              "      <th></th>\n",
              "      <th>Alto</th>\n",
              "      <th>Bajo</th>\n",
              "      <th>Medio</th>\n",
              "      <th>error</th>\n",
              "    </tr>\n",
              "  </thead>\n",
              "  <tbody>\n",
              "    <tr>\n",
              "      <th>0</th>\n",
              "      <td>1.0</td>\n",
              "      <td>0.0</td>\n",
              "      <td>0.0</td>\n",
              "      <td>0.0</td>\n",
              "    </tr>\n",
              "    <tr>\n",
              "      <th>1</th>\n",
              "      <td>0.0</td>\n",
              "      <td>1.0</td>\n",
              "      <td>0.0</td>\n",
              "      <td>0.0</td>\n",
              "    </tr>\n",
              "    <tr>\n",
              "      <th>2</th>\n",
              "      <td>0.0</td>\n",
              "      <td>1.0</td>\n",
              "      <td>0.0</td>\n",
              "      <td>0.0</td>\n",
              "    </tr>\n",
              "    <tr>\n",
              "      <th>3</th>\n",
              "      <td>0.0</td>\n",
              "      <td>0.0</td>\n",
              "      <td>0.0</td>\n",
              "      <td>0.0</td>\n",
              "    </tr>\n",
              "    <tr>\n",
              "      <th>4</th>\n",
              "      <td>0.0</td>\n",
              "      <td>0.0</td>\n",
              "      <td>1.0</td>\n",
              "      <td>0.0</td>\n",
              "    </tr>\n",
              "    <tr>\n",
              "      <th>...</th>\n",
              "      <td>...</td>\n",
              "      <td>...</td>\n",
              "      <td>...</td>\n",
              "      <td>...</td>\n",
              "    </tr>\n",
              "    <tr>\n",
              "      <th>995</th>\n",
              "      <td>0.0</td>\n",
              "      <td>1.0</td>\n",
              "      <td>0.0</td>\n",
              "      <td>0.0</td>\n",
              "    </tr>\n",
              "    <tr>\n",
              "      <th>996</th>\n",
              "      <td>0.0</td>\n",
              "      <td>0.0</td>\n",
              "      <td>1.0</td>\n",
              "      <td>0.0</td>\n",
              "    </tr>\n",
              "    <tr>\n",
              "      <th>997</th>\n",
              "      <td>0.0</td>\n",
              "      <td>1.0</td>\n",
              "      <td>0.0</td>\n",
              "      <td>0.0</td>\n",
              "    </tr>\n",
              "    <tr>\n",
              "      <th>998</th>\n",
              "      <td>0.0</td>\n",
              "      <td>1.0</td>\n",
              "      <td>0.0</td>\n",
              "      <td>0.0</td>\n",
              "    </tr>\n",
              "    <tr>\n",
              "      <th>999</th>\n",
              "      <td>0.0</td>\n",
              "      <td>0.0</td>\n",
              "      <td>1.0</td>\n",
              "      <td>0.0</td>\n",
              "    </tr>\n",
              "  </tbody>\n",
              "</table>\n",
              "<p>1000 rows × 4 columns</p>\n",
              "</div>"
            ],
            "text/plain": [
              "     Alto  Bajo  Medio  error\n",
              "0     1.0   0.0    0.0    0.0\n",
              "1     0.0   1.0    0.0    0.0\n",
              "2     0.0   1.0    0.0    0.0\n",
              "3     0.0   0.0    0.0    0.0\n",
              "4     0.0   0.0    1.0    0.0\n",
              "..    ...   ...    ...    ...\n",
              "995   0.0   1.0    0.0    0.0\n",
              "996   0.0   0.0    1.0    0.0\n",
              "997   0.0   1.0    0.0    0.0\n",
              "998   0.0   1.0    0.0    0.0\n",
              "999   0.0   0.0    1.0    0.0\n",
              "\n",
              "[1000 rows x 4 columns]"
            ]
          },
          "execution_count": 58,
          "metadata": {},
          "output_type": "execute_result"
        }
      ],
      "source": [
        "nivel_de_demo_energetica_num = pd.get_dummies(df['Nivel de Democratización Energética'], columns=['Nivel de Democratización Energética'], dtype=float)\n",
        "nivel_de_demo_energetica_num"
      ]
    },
    {
      "cell_type": "code",
      "execution_count": 59,
      "metadata": {
        "colab": {
          "base_uri": "https://localhost:8080/",
          "height": 423
        },
        "id": "4ycbO2E_Niod",
        "outputId": "5a5027e0-9793-44d1-c9a8-2087931f445a"
      },
      "outputs": [
        {
          "data": {
            "text/html": [
              "<div>\n",
              "<style scoped>\n",
              "    .dataframe tbody tr th:only-of-type {\n",
              "        vertical-align: middle;\n",
              "    }\n",
              "\n",
              "    .dataframe tbody tr th {\n",
              "        vertical-align: top;\n",
              "    }\n",
              "\n",
              "    .dataframe thead th {\n",
              "        text-align: right;\n",
              "    }\n",
              "</style>\n",
              "<table border=\"1\" class=\"dataframe\">\n",
              "  <thead>\n",
              "    <tr style=\"text-align: right;\">\n",
              "      <th></th>\n",
              "      <th>Este</th>\n",
              "      <th>Norte</th>\n",
              "      <th>Oeste</th>\n",
              "      <th>Sur</th>\n",
              "    </tr>\n",
              "  </thead>\n",
              "  <tbody>\n",
              "    <tr>\n",
              "      <th>0</th>\n",
              "      <td>0.0</td>\n",
              "      <td>0.0</td>\n",
              "      <td>0.0</td>\n",
              "      <td>1.0</td>\n",
              "    </tr>\n",
              "    <tr>\n",
              "      <th>1</th>\n",
              "      <td>0.0</td>\n",
              "      <td>0.0</td>\n",
              "      <td>1.0</td>\n",
              "      <td>0.0</td>\n",
              "    </tr>\n",
              "    <tr>\n",
              "      <th>2</th>\n",
              "      <td>0.0</td>\n",
              "      <td>0.0</td>\n",
              "      <td>0.0</td>\n",
              "      <td>1.0</td>\n",
              "    </tr>\n",
              "    <tr>\n",
              "      <th>3</th>\n",
              "      <td>1.0</td>\n",
              "      <td>0.0</td>\n",
              "      <td>0.0</td>\n",
              "      <td>0.0</td>\n",
              "    </tr>\n",
              "    <tr>\n",
              "      <th>4</th>\n",
              "      <td>0.0</td>\n",
              "      <td>1.0</td>\n",
              "      <td>0.0</td>\n",
              "      <td>0.0</td>\n",
              "    </tr>\n",
              "    <tr>\n",
              "      <th>...</th>\n",
              "      <td>...</td>\n",
              "      <td>...</td>\n",
              "      <td>...</td>\n",
              "      <td>...</td>\n",
              "    </tr>\n",
              "    <tr>\n",
              "      <th>995</th>\n",
              "      <td>0.0</td>\n",
              "      <td>1.0</td>\n",
              "      <td>0.0</td>\n",
              "      <td>0.0</td>\n",
              "    </tr>\n",
              "    <tr>\n",
              "      <th>996</th>\n",
              "      <td>1.0</td>\n",
              "      <td>0.0</td>\n",
              "      <td>0.0</td>\n",
              "      <td>0.0</td>\n",
              "    </tr>\n",
              "    <tr>\n",
              "      <th>997</th>\n",
              "      <td>0.0</td>\n",
              "      <td>1.0</td>\n",
              "      <td>0.0</td>\n",
              "      <td>0.0</td>\n",
              "    </tr>\n",
              "    <tr>\n",
              "      <th>998</th>\n",
              "      <td>1.0</td>\n",
              "      <td>0.0</td>\n",
              "      <td>0.0</td>\n",
              "      <td>0.0</td>\n",
              "    </tr>\n",
              "    <tr>\n",
              "      <th>999</th>\n",
              "      <td>0.0</td>\n",
              "      <td>0.0</td>\n",
              "      <td>0.0</td>\n",
              "      <td>1.0</td>\n",
              "    </tr>\n",
              "  </tbody>\n",
              "</table>\n",
              "<p>1000 rows × 4 columns</p>\n",
              "</div>"
            ],
            "text/plain": [
              "     Este  Norte  Oeste  Sur\n",
              "0     0.0    0.0    0.0  1.0\n",
              "1     0.0    0.0    1.0  0.0\n",
              "2     0.0    0.0    0.0  1.0\n",
              "3     1.0    0.0    0.0  0.0\n",
              "4     0.0    1.0    0.0  0.0\n",
              "..    ...    ...    ...  ...\n",
              "995   0.0    1.0    0.0  0.0\n",
              "996   1.0    0.0    0.0  0.0\n",
              "997   0.0    1.0    0.0  0.0\n",
              "998   1.0    0.0    0.0  0.0\n",
              "999   0.0    0.0    0.0  1.0\n",
              "\n",
              "[1000 rows x 4 columns]"
            ]
          },
          "execution_count": 59,
          "metadata": {},
          "output_type": "execute_result"
        }
      ],
      "source": [
        "region_num = pd.get_dummies(df['Región'], columns=['Región'], dtype=float)\n",
        "region_num"
      ]
    },
    {
      "cell_type": "code",
      "execution_count": 60,
      "metadata": {
        "colab": {
          "base_uri": "https://localhost:8080/",
          "height": 423
        },
        "id": "S5CbFejDODto",
        "outputId": "d821613a-c8c0-4219-e842-cb9e10c0352d"
      },
      "outputs": [
        {
          "data": {
            "text/html": [
              "<div>\n",
              "<style scoped>\n",
              "    .dataframe tbody tr th:only-of-type {\n",
              "        vertical-align: middle;\n",
              "    }\n",
              "\n",
              "    .dataframe tbody tr th {\n",
              "        vertical-align: top;\n",
              "    }\n",
              "\n",
              "    .dataframe thead th {\n",
              "        text-align: right;\n",
              "    }\n",
              "</style>\n",
              "<table border=\"1\" class=\"dataframe\">\n",
              "  <thead>\n",
              "    <tr style=\"text-align: right;\">\n",
              "      <th></th>\n",
              "      <th>Eólica</th>\n",
              "      <th>Geotérmica</th>\n",
              "      <th>Hidráulica</th>\n",
              "      <th>Hidrógeno verde</th>\n",
              "      <th>Solar</th>\n",
              "      <th>error</th>\n",
              "      <th>Alto</th>\n",
              "      <th>Bajo</th>\n",
              "      <th>Medio</th>\n",
              "      <th>error</th>\n",
              "      <th>Este</th>\n",
              "      <th>Norte</th>\n",
              "      <th>Oeste</th>\n",
              "      <th>Sur</th>\n",
              "    </tr>\n",
              "  </thead>\n",
              "  <tbody>\n",
              "    <tr>\n",
              "      <th>0</th>\n",
              "      <td>0.0</td>\n",
              "      <td>0.0</td>\n",
              "      <td>0.0</td>\n",
              "      <td>0.0</td>\n",
              "      <td>1.0</td>\n",
              "      <td>0.0</td>\n",
              "      <td>1.0</td>\n",
              "      <td>0.0</td>\n",
              "      <td>0.0</td>\n",
              "      <td>0.0</td>\n",
              "      <td>0.0</td>\n",
              "      <td>0.0</td>\n",
              "      <td>0.0</td>\n",
              "      <td>1.0</td>\n",
              "    </tr>\n",
              "    <tr>\n",
              "      <th>1</th>\n",
              "      <td>0.0</td>\n",
              "      <td>0.0</td>\n",
              "      <td>0.0</td>\n",
              "      <td>0.0</td>\n",
              "      <td>1.0</td>\n",
              "      <td>0.0</td>\n",
              "      <td>0.0</td>\n",
              "      <td>1.0</td>\n",
              "      <td>0.0</td>\n",
              "      <td>0.0</td>\n",
              "      <td>0.0</td>\n",
              "      <td>0.0</td>\n",
              "      <td>1.0</td>\n",
              "      <td>0.0</td>\n",
              "    </tr>\n",
              "    <tr>\n",
              "      <th>2</th>\n",
              "      <td>0.0</td>\n",
              "      <td>0.0</td>\n",
              "      <td>0.0</td>\n",
              "      <td>0.0</td>\n",
              "      <td>0.0</td>\n",
              "      <td>0.0</td>\n",
              "      <td>0.0</td>\n",
              "      <td>1.0</td>\n",
              "      <td>0.0</td>\n",
              "      <td>0.0</td>\n",
              "      <td>0.0</td>\n",
              "      <td>0.0</td>\n",
              "      <td>0.0</td>\n",
              "      <td>1.0</td>\n",
              "    </tr>\n",
              "    <tr>\n",
              "      <th>3</th>\n",
              "      <td>0.0</td>\n",
              "      <td>1.0</td>\n",
              "      <td>0.0</td>\n",
              "      <td>0.0</td>\n",
              "      <td>0.0</td>\n",
              "      <td>0.0</td>\n",
              "      <td>0.0</td>\n",
              "      <td>0.0</td>\n",
              "      <td>0.0</td>\n",
              "      <td>0.0</td>\n",
              "      <td>1.0</td>\n",
              "      <td>0.0</td>\n",
              "      <td>0.0</td>\n",
              "      <td>0.0</td>\n",
              "    </tr>\n",
              "    <tr>\n",
              "      <th>4</th>\n",
              "      <td>0.0</td>\n",
              "      <td>0.0</td>\n",
              "      <td>0.0</td>\n",
              "      <td>1.0</td>\n",
              "      <td>0.0</td>\n",
              "      <td>0.0</td>\n",
              "      <td>0.0</td>\n",
              "      <td>0.0</td>\n",
              "      <td>1.0</td>\n",
              "      <td>0.0</td>\n",
              "      <td>0.0</td>\n",
              "      <td>1.0</td>\n",
              "      <td>0.0</td>\n",
              "      <td>0.0</td>\n",
              "    </tr>\n",
              "    <tr>\n",
              "      <th>...</th>\n",
              "      <td>...</td>\n",
              "      <td>...</td>\n",
              "      <td>...</td>\n",
              "      <td>...</td>\n",
              "      <td>...</td>\n",
              "      <td>...</td>\n",
              "      <td>...</td>\n",
              "      <td>...</td>\n",
              "      <td>...</td>\n",
              "      <td>...</td>\n",
              "      <td>...</td>\n",
              "      <td>...</td>\n",
              "      <td>...</td>\n",
              "      <td>...</td>\n",
              "    </tr>\n",
              "    <tr>\n",
              "      <th>995</th>\n",
              "      <td>0.0</td>\n",
              "      <td>0.0</td>\n",
              "      <td>0.0</td>\n",
              "      <td>1.0</td>\n",
              "      <td>0.0</td>\n",
              "      <td>0.0</td>\n",
              "      <td>0.0</td>\n",
              "      <td>1.0</td>\n",
              "      <td>0.0</td>\n",
              "      <td>0.0</td>\n",
              "      <td>0.0</td>\n",
              "      <td>1.0</td>\n",
              "      <td>0.0</td>\n",
              "      <td>0.0</td>\n",
              "    </tr>\n",
              "    <tr>\n",
              "      <th>996</th>\n",
              "      <td>1.0</td>\n",
              "      <td>0.0</td>\n",
              "      <td>0.0</td>\n",
              "      <td>0.0</td>\n",
              "      <td>0.0</td>\n",
              "      <td>0.0</td>\n",
              "      <td>0.0</td>\n",
              "      <td>0.0</td>\n",
              "      <td>1.0</td>\n",
              "      <td>0.0</td>\n",
              "      <td>1.0</td>\n",
              "      <td>0.0</td>\n",
              "      <td>0.0</td>\n",
              "      <td>0.0</td>\n",
              "    </tr>\n",
              "    <tr>\n",
              "      <th>997</th>\n",
              "      <td>1.0</td>\n",
              "      <td>0.0</td>\n",
              "      <td>0.0</td>\n",
              "      <td>0.0</td>\n",
              "      <td>0.0</td>\n",
              "      <td>0.0</td>\n",
              "      <td>0.0</td>\n",
              "      <td>1.0</td>\n",
              "      <td>0.0</td>\n",
              "      <td>0.0</td>\n",
              "      <td>0.0</td>\n",
              "      <td>1.0</td>\n",
              "      <td>0.0</td>\n",
              "      <td>0.0</td>\n",
              "    </tr>\n",
              "    <tr>\n",
              "      <th>998</th>\n",
              "      <td>1.0</td>\n",
              "      <td>0.0</td>\n",
              "      <td>0.0</td>\n",
              "      <td>0.0</td>\n",
              "      <td>0.0</td>\n",
              "      <td>0.0</td>\n",
              "      <td>0.0</td>\n",
              "      <td>1.0</td>\n",
              "      <td>0.0</td>\n",
              "      <td>0.0</td>\n",
              "      <td>1.0</td>\n",
              "      <td>0.0</td>\n",
              "      <td>0.0</td>\n",
              "      <td>0.0</td>\n",
              "    </tr>\n",
              "    <tr>\n",
              "      <th>999</th>\n",
              "      <td>1.0</td>\n",
              "      <td>0.0</td>\n",
              "      <td>0.0</td>\n",
              "      <td>0.0</td>\n",
              "      <td>0.0</td>\n",
              "      <td>0.0</td>\n",
              "      <td>0.0</td>\n",
              "      <td>0.0</td>\n",
              "      <td>1.0</td>\n",
              "      <td>0.0</td>\n",
              "      <td>0.0</td>\n",
              "      <td>0.0</td>\n",
              "      <td>0.0</td>\n",
              "      <td>1.0</td>\n",
              "    </tr>\n",
              "  </tbody>\n",
              "</table>\n",
              "<p>1000 rows × 14 columns</p>\n",
              "</div>"
            ],
            "text/plain": [
              "     Eólica  Geotérmica  Hidráulica  Hidrógeno verde  Solar  error  Alto  \\\n",
              "0       0.0         0.0         0.0              0.0    1.0    0.0   1.0   \n",
              "1       0.0         0.0         0.0              0.0    1.0    0.0   0.0   \n",
              "2       0.0         0.0         0.0              0.0    0.0    0.0   0.0   \n",
              "3       0.0         1.0         0.0              0.0    0.0    0.0   0.0   \n",
              "4       0.0         0.0         0.0              1.0    0.0    0.0   0.0   \n",
              "..      ...         ...         ...              ...    ...    ...   ...   \n",
              "995     0.0         0.0         0.0              1.0    0.0    0.0   0.0   \n",
              "996     1.0         0.0         0.0              0.0    0.0    0.0   0.0   \n",
              "997     1.0         0.0         0.0              0.0    0.0    0.0   0.0   \n",
              "998     1.0         0.0         0.0              0.0    0.0    0.0   0.0   \n",
              "999     1.0         0.0         0.0              0.0    0.0    0.0   0.0   \n",
              "\n",
              "     Bajo  Medio  error  Este  Norte  Oeste  Sur  \n",
              "0     0.0    0.0    0.0   0.0    0.0    0.0  1.0  \n",
              "1     1.0    0.0    0.0   0.0    0.0    1.0  0.0  \n",
              "2     1.0    0.0    0.0   0.0    0.0    0.0  1.0  \n",
              "3     0.0    0.0    0.0   1.0    0.0    0.0  0.0  \n",
              "4     0.0    1.0    0.0   0.0    1.0    0.0  0.0  \n",
              "..    ...    ...    ...   ...    ...    ...  ...  \n",
              "995   1.0    0.0    0.0   0.0    1.0    0.0  0.0  \n",
              "996   0.0    1.0    0.0   1.0    0.0    0.0  0.0  \n",
              "997   1.0    0.0    0.0   0.0    1.0    0.0  0.0  \n",
              "998   1.0    0.0    0.0   1.0    0.0    0.0  0.0  \n",
              "999   0.0    1.0    0.0   0.0    0.0    0.0  1.0  \n",
              "\n",
              "[1000 rows x 14 columns]"
            ]
          },
          "execution_count": 60,
          "metadata": {},
          "output_type": "execute_result"
        }
      ],
      "source": [
        "nominaul_num = pd.concat([tipo_de_energia_num, nivel_de_demo_energetica_num, region_num], axis=1)\n",
        "nominaul_num"
      ]
    },
    {
      "cell_type": "code",
      "execution_count": 61,
      "metadata": {
        "colab": {
          "base_uri": "https://localhost:8080/",
          "height": 476
        },
        "id": "Ns7xzhAFXlT7",
        "outputId": "a4a77169-2049-45ec-8499-70d1877cbb1d"
      },
      "outputs": [
        {
          "data": {
            "text/html": [
              "<div>\n",
              "<style scoped>\n",
              "    .dataframe tbody tr th:only-of-type {\n",
              "        vertical-align: middle;\n",
              "    }\n",
              "\n",
              "    .dataframe tbody tr th {\n",
              "        vertical-align: top;\n",
              "    }\n",
              "\n",
              "    .dataframe thead th {\n",
              "        text-align: right;\n",
              "    }\n",
              "</style>\n",
              "<table border=\"1\" class=\"dataframe\">\n",
              "  <thead>\n",
              "    <tr style=\"text-align: right;\">\n",
              "      <th></th>\n",
              "      <th>Número de Comunidades Energéticas</th>\n",
              "      <th>Número de Proyectos en Marcha</th>\n",
              "      <th>Capacidad Generada (MW)</th>\n",
              "      <th>Reducción de CO2 (toneladas)</th>\n",
              "      <th>Costo de Producción ($/MW)</th>\n",
              "      <th>Rentabilidad en 10 años (Rentable=1, No Rentable=0)</th>\n",
              "      <th>Eólica</th>\n",
              "      <th>Geotérmica</th>\n",
              "      <th>Hidráulica</th>\n",
              "      <th>Hidrógeno verde</th>\n",
              "      <th>Solar</th>\n",
              "      <th>error</th>\n",
              "      <th>Alto</th>\n",
              "      <th>Bajo</th>\n",
              "      <th>Medio</th>\n",
              "      <th>error</th>\n",
              "      <th>Este</th>\n",
              "      <th>Norte</th>\n",
              "      <th>Oeste</th>\n",
              "      <th>Sur</th>\n",
              "    </tr>\n",
              "  </thead>\n",
              "  <tbody>\n",
              "    <tr>\n",
              "      <th>0</th>\n",
              "      <td>42.0</td>\n",
              "      <td>1.000000</td>\n",
              "      <td>100.460000</td>\n",
              "      <td>48910.593731</td>\n",
              "      <td>1893.656170</td>\n",
              "      <td>1</td>\n",
              "      <td>0.0</td>\n",
              "      <td>0.0</td>\n",
              "      <td>0.0</td>\n",
              "      <td>0.0</td>\n",
              "      <td>1.0</td>\n",
              "      <td>0.0</td>\n",
              "      <td>1.0</td>\n",
              "      <td>0.0</td>\n",
              "      <td>0.0</td>\n",
              "      <td>0.0</td>\n",
              "      <td>0.0</td>\n",
              "      <td>0.0</td>\n",
              "      <td>0.0</td>\n",
              "      <td>1.0</td>\n",
              "    </tr>\n",
              "    <tr>\n",
              "      <th>1</th>\n",
              "      <td>12.0</td>\n",
              "      <td>17.000000</td>\n",
              "      <td>494.468248</td>\n",
              "      <td>156615.168141</td>\n",
              "      <td>3398.187477</td>\n",
              "      <td>0</td>\n",
              "      <td>0.0</td>\n",
              "      <td>0.0</td>\n",
              "      <td>0.0</td>\n",
              "      <td>0.0</td>\n",
              "      <td>1.0</td>\n",
              "      <td>0.0</td>\n",
              "      <td>0.0</td>\n",
              "      <td>1.0</td>\n",
              "      <td>0.0</td>\n",
              "      <td>0.0</td>\n",
              "      <td>0.0</td>\n",
              "      <td>0.0</td>\n",
              "      <td>1.0</td>\n",
              "      <td>0.0</td>\n",
              "    </tr>\n",
              "    <tr>\n",
              "      <th>2</th>\n",
              "      <td>47.0</td>\n",
              "      <td>10.262963</td>\n",
              "      <td>52.620000</td>\n",
              "      <td>25618.907447</td>\n",
              "      <td>1642.900952</td>\n",
              "      <td>0</td>\n",
              "      <td>0.0</td>\n",
              "      <td>0.0</td>\n",
              "      <td>0.0</td>\n",
              "      <td>0.0</td>\n",
              "      <td>0.0</td>\n",
              "      <td>0.0</td>\n",
              "      <td>0.0</td>\n",
              "      <td>1.0</td>\n",
              "      <td>0.0</td>\n",
              "      <td>0.0</td>\n",
              "      <td>0.0</td>\n",
              "      <td>0.0</td>\n",
              "      <td>0.0</td>\n",
              "      <td>1.0</td>\n",
              "    </tr>\n",
              "    <tr>\n",
              "      <th>3</th>\n",
              "      <td>24.0</td>\n",
              "      <td>11.000000</td>\n",
              "      <td>494.468248</td>\n",
              "      <td>381289.383642</td>\n",
              "      <td>2796.374954</td>\n",
              "      <td>1</td>\n",
              "      <td>0.0</td>\n",
              "      <td>1.0</td>\n",
              "      <td>0.0</td>\n",
              "      <td>0.0</td>\n",
              "      <td>0.0</td>\n",
              "      <td>0.0</td>\n",
              "      <td>0.0</td>\n",
              "      <td>0.0</td>\n",
              "      <td>0.0</td>\n",
              "      <td>0.0</td>\n",
              "      <td>1.0</td>\n",
              "      <td>0.0</td>\n",
              "      <td>0.0</td>\n",
              "      <td>0.0</td>\n",
              "    </tr>\n",
              "    <tr>\n",
              "      <th>4</th>\n",
              "      <td>37.0</td>\n",
              "      <td>5.000000</td>\n",
              "      <td>404.250000</td>\n",
              "      <td>196815.722834</td>\n",
              "      <td>2144.411388</td>\n",
              "      <td>1</td>\n",
              "      <td>0.0</td>\n",
              "      <td>0.0</td>\n",
              "      <td>0.0</td>\n",
              "      <td>1.0</td>\n",
              "      <td>0.0</td>\n",
              "      <td>0.0</td>\n",
              "      <td>0.0</td>\n",
              "      <td>0.0</td>\n",
              "      <td>1.0</td>\n",
              "      <td>0.0</td>\n",
              "      <td>0.0</td>\n",
              "      <td>1.0</td>\n",
              "      <td>0.0</td>\n",
              "      <td>0.0</td>\n",
              "    </tr>\n",
              "    <tr>\n",
              "      <th>...</th>\n",
              "      <td>...</td>\n",
              "      <td>...</td>\n",
              "      <td>...</td>\n",
              "      <td>...</td>\n",
              "      <td>...</td>\n",
              "      <td>...</td>\n",
              "      <td>...</td>\n",
              "      <td>...</td>\n",
              "      <td>...</td>\n",
              "      <td>...</td>\n",
              "      <td>...</td>\n",
              "      <td>...</td>\n",
              "      <td>...</td>\n",
              "      <td>...</td>\n",
              "      <td>...</td>\n",
              "      <td>...</td>\n",
              "      <td>...</td>\n",
              "      <td>...</td>\n",
              "      <td>...</td>\n",
              "      <td>...</td>\n",
              "    </tr>\n",
              "    <tr>\n",
              "      <th>995</th>\n",
              "      <td>20.0</td>\n",
              "      <td>10.262963</td>\n",
              "      <td>522.120000</td>\n",
              "      <td>254202.659755</td>\n",
              "      <td>2996.979129</td>\n",
              "      <td>1</td>\n",
              "      <td>0.0</td>\n",
              "      <td>0.0</td>\n",
              "      <td>0.0</td>\n",
              "      <td>1.0</td>\n",
              "      <td>0.0</td>\n",
              "      <td>0.0</td>\n",
              "      <td>0.0</td>\n",
              "      <td>1.0</td>\n",
              "      <td>0.0</td>\n",
              "      <td>0.0</td>\n",
              "      <td>0.0</td>\n",
              "      <td>1.0</td>\n",
              "      <td>0.0</td>\n",
              "      <td>0.0</td>\n",
              "    </tr>\n",
              "    <tr>\n",
              "      <th>996</th>\n",
              "      <td>23.0</td>\n",
              "      <td>7.000000</td>\n",
              "      <td>494.468248</td>\n",
              "      <td>203987.264200</td>\n",
              "      <td>2846.525998</td>\n",
              "      <td>1</td>\n",
              "      <td>1.0</td>\n",
              "      <td>0.0</td>\n",
              "      <td>0.0</td>\n",
              "      <td>0.0</td>\n",
              "      <td>0.0</td>\n",
              "      <td>0.0</td>\n",
              "      <td>0.0</td>\n",
              "      <td>0.0</td>\n",
              "      <td>1.0</td>\n",
              "      <td>0.0</td>\n",
              "      <td>1.0</td>\n",
              "      <td>0.0</td>\n",
              "      <td>0.0</td>\n",
              "      <td>0.0</td>\n",
              "    </tr>\n",
              "    <tr>\n",
              "      <th>997</th>\n",
              "      <td>22.0</td>\n",
              "      <td>10.262963</td>\n",
              "      <td>207.350000</td>\n",
              "      <td>100951.738107</td>\n",
              "      <td>2896.677042</td>\n",
              "      <td>0</td>\n",
              "      <td>1.0</td>\n",
              "      <td>0.0</td>\n",
              "      <td>0.0</td>\n",
              "      <td>0.0</td>\n",
              "      <td>0.0</td>\n",
              "      <td>0.0</td>\n",
              "      <td>0.0</td>\n",
              "      <td>1.0</td>\n",
              "      <td>0.0</td>\n",
              "      <td>0.0</td>\n",
              "      <td>0.0</td>\n",
              "      <td>1.0</td>\n",
              "      <td>0.0</td>\n",
              "      <td>0.0</td>\n",
              "    </tr>\n",
              "    <tr>\n",
              "      <th>998</th>\n",
              "      <td>20.0</td>\n",
              "      <td>16.000000</td>\n",
              "      <td>418.240000</td>\n",
              "      <td>240099.515545</td>\n",
              "      <td>2996.979129</td>\n",
              "      <td>1</td>\n",
              "      <td>1.0</td>\n",
              "      <td>0.0</td>\n",
              "      <td>0.0</td>\n",
              "      <td>0.0</td>\n",
              "      <td>0.0</td>\n",
              "      <td>0.0</td>\n",
              "      <td>0.0</td>\n",
              "      <td>1.0</td>\n",
              "      <td>0.0</td>\n",
              "      <td>0.0</td>\n",
              "      <td>1.0</td>\n",
              "      <td>0.0</td>\n",
              "      <td>0.0</td>\n",
              "      <td>0.0</td>\n",
              "    </tr>\n",
              "    <tr>\n",
              "      <th>999</th>\n",
              "      <td>12.0</td>\n",
              "      <td>3.000000</td>\n",
              "      <td>494.468248</td>\n",
              "      <td>39703.951013</td>\n",
              "      <td>3398.187477</td>\n",
              "      <td>1</td>\n",
              "      <td>1.0</td>\n",
              "      <td>0.0</td>\n",
              "      <td>0.0</td>\n",
              "      <td>0.0</td>\n",
              "      <td>0.0</td>\n",
              "      <td>0.0</td>\n",
              "      <td>0.0</td>\n",
              "      <td>0.0</td>\n",
              "      <td>1.0</td>\n",
              "      <td>0.0</td>\n",
              "      <td>0.0</td>\n",
              "      <td>0.0</td>\n",
              "      <td>0.0</td>\n",
              "      <td>1.0</td>\n",
              "    </tr>\n",
              "  </tbody>\n",
              "</table>\n",
              "<p>1000 rows × 20 columns</p>\n",
              "</div>"
            ],
            "text/plain": [
              "     Número de Comunidades Energéticas  Número de Proyectos en Marcha  \\\n",
              "0                                 42.0                       1.000000   \n",
              "1                                 12.0                      17.000000   \n",
              "2                                 47.0                      10.262963   \n",
              "3                                 24.0                      11.000000   \n",
              "4                                 37.0                       5.000000   \n",
              "..                                 ...                            ...   \n",
              "995                               20.0                      10.262963   \n",
              "996                               23.0                       7.000000   \n",
              "997                               22.0                      10.262963   \n",
              "998                               20.0                      16.000000   \n",
              "999                               12.0                       3.000000   \n",
              "\n",
              "     Capacidad Generada (MW)  Reducción de CO2 (toneladas)  \\\n",
              "0                 100.460000                  48910.593731   \n",
              "1                 494.468248                 156615.168141   \n",
              "2                  52.620000                  25618.907447   \n",
              "3                 494.468248                 381289.383642   \n",
              "4                 404.250000                 196815.722834   \n",
              "..                       ...                           ...   \n",
              "995               522.120000                 254202.659755   \n",
              "996               494.468248                 203987.264200   \n",
              "997               207.350000                 100951.738107   \n",
              "998               418.240000                 240099.515545   \n",
              "999               494.468248                  39703.951013   \n",
              "\n",
              "     Costo de Producción ($/MW)  \\\n",
              "0                   1893.656170   \n",
              "1                   3398.187477   \n",
              "2                   1642.900952   \n",
              "3                   2796.374954   \n",
              "4                   2144.411388   \n",
              "..                          ...   \n",
              "995                 2996.979129   \n",
              "996                 2846.525998   \n",
              "997                 2896.677042   \n",
              "998                 2996.979129   \n",
              "999                 3398.187477   \n",
              "\n",
              "     Rentabilidad en 10 años (Rentable=1, No Rentable=0)  Eólica  Geotérmica  \\\n",
              "0                                                    1       0.0         0.0   \n",
              "1                                                    0       0.0         0.0   \n",
              "2                                                    0       0.0         0.0   \n",
              "3                                                    1       0.0         1.0   \n",
              "4                                                    1       0.0         0.0   \n",
              "..                                                 ...       ...         ...   \n",
              "995                                                  1       0.0         0.0   \n",
              "996                                                  1       1.0         0.0   \n",
              "997                                                  0       1.0         0.0   \n",
              "998                                                  1       1.0         0.0   \n",
              "999                                                  1       1.0         0.0   \n",
              "\n",
              "     Hidráulica  Hidrógeno verde  Solar  error  Alto  Bajo  Medio  error  \\\n",
              "0           0.0              0.0    1.0    0.0   1.0   0.0    0.0    0.0   \n",
              "1           0.0              0.0    1.0    0.0   0.0   1.0    0.0    0.0   \n",
              "2           0.0              0.0    0.0    0.0   0.0   1.0    0.0    0.0   \n",
              "3           0.0              0.0    0.0    0.0   0.0   0.0    0.0    0.0   \n",
              "4           0.0              1.0    0.0    0.0   0.0   0.0    1.0    0.0   \n",
              "..          ...              ...    ...    ...   ...   ...    ...    ...   \n",
              "995         0.0              1.0    0.0    0.0   0.0   1.0    0.0    0.0   \n",
              "996         0.0              0.0    0.0    0.0   0.0   0.0    1.0    0.0   \n",
              "997         0.0              0.0    0.0    0.0   0.0   1.0    0.0    0.0   \n",
              "998         0.0              0.0    0.0    0.0   0.0   1.0    0.0    0.0   \n",
              "999         0.0              0.0    0.0    0.0   0.0   0.0    1.0    0.0   \n",
              "\n",
              "     Este  Norte  Oeste  Sur  \n",
              "0     0.0    0.0    0.0  1.0  \n",
              "1     0.0    0.0    1.0  0.0  \n",
              "2     0.0    0.0    0.0  1.0  \n",
              "3     1.0    0.0    0.0  0.0  \n",
              "4     0.0    1.0    0.0  0.0  \n",
              "..    ...    ...    ...  ...  \n",
              "995   0.0    1.0    0.0  0.0  \n",
              "996   1.0    0.0    0.0  0.0  \n",
              "997   0.0    1.0    0.0  0.0  \n",
              "998   1.0    0.0    0.0  0.0  \n",
              "999   0.0    0.0    0.0  1.0  \n",
              "\n",
              "[1000 rows x 20 columns]"
            ]
          },
          "execution_count": 61,
          "metadata": {},
          "output_type": "execute_result"
        }
      ],
      "source": [
        "df_num = pd.concat([df[['Número de Comunidades Energéticas','Número de Proyectos en Marcha','Capacidad Generada (MW)','Reducción de CO2 (toneladas)','Costo de Producción ($/MW)', 'Rentabilidad en 10 años (Rentable=1, No Rentable=0)']], nominaul_num], axis=1)\n",
        "df_num"
      ]
    },
    {
      "cell_type": "code",
      "execution_count": 62,
      "metadata": {
        "colab": {
          "base_uri": "https://localhost:8080/",
          "height": 711
        },
        "id": "f8YWHuwNahYn",
        "outputId": "6055b846-dfdc-4f53-b8d6-462811e6950f"
      },
      "outputs": [
        {
          "data": {
            "text/plain": [
              "Número de Comunidades Energéticas                      float64\n",
              "Número de Proyectos en Marcha                          float64\n",
              "Capacidad Generada (MW)                                float64\n",
              "Reducción de CO2 (toneladas)                           float64\n",
              "Costo de Producción ($/MW)                             float64\n",
              "Rentabilidad en 10 años (Rentable=1, No Rentable=0)      int64\n",
              "Eólica                                                 float64\n",
              "Geotérmica                                             float64\n",
              "Hidráulica                                             float64\n",
              "Hidrógeno verde                                        float64\n",
              "Solar                                                  float64\n",
              "error                                                  float64\n",
              "Alto                                                   float64\n",
              "Bajo                                                   float64\n",
              "Medio                                                  float64\n",
              "error                                                  float64\n",
              "Este                                                   float64\n",
              "Norte                                                  float64\n",
              "Oeste                                                  float64\n",
              "Sur                                                    float64\n",
              "dtype: object"
            ]
          },
          "execution_count": 62,
          "metadata": {},
          "output_type": "execute_result"
        }
      ],
      "source": [
        "df_num.dtypes"
      ]
    },
    {
      "cell_type": "code",
      "execution_count": 63,
      "metadata": {
        "colab": {
          "base_uri": "https://localhost:8080/",
          "height": 711
        },
        "id": "mHwk4Ghlao-J",
        "outputId": "22a56ea8-e40b-4159-9958-21171260daff"
      },
      "outputs": [
        {
          "data": {
            "text/plain": [
              "Número de Comunidades Energéticas                      0\n",
              "Número de Proyectos en Marcha                          0\n",
              "Capacidad Generada (MW)                                0\n",
              "Reducción de CO2 (toneladas)                           0\n",
              "Costo de Producción ($/MW)                             0\n",
              "Rentabilidad en 10 años (Rentable=1, No Rentable=0)    0\n",
              "Eólica                                                 0\n",
              "Geotérmica                                             0\n",
              "Hidráulica                                             0\n",
              "Hidrógeno verde                                        0\n",
              "Solar                                                  0\n",
              "error                                                  0\n",
              "Alto                                                   0\n",
              "Bajo                                                   0\n",
              "Medio                                                  0\n",
              "error                                                  0\n",
              "Este                                                   0\n",
              "Norte                                                  0\n",
              "Oeste                                                  0\n",
              "Sur                                                    0\n",
              "dtype: int64"
            ]
          },
          "execution_count": 63,
          "metadata": {},
          "output_type": "execute_result"
        }
      ],
      "source": [
        "df_num.isnull().sum()"
      ]
    }
  ],
  "metadata": {
    "colab": {
      "provenance": []
    },
    "kernelspec": {
      "display_name": "Python 3",
      "name": "python3"
    },
    "language_info": {
      "codemirror_mode": {
        "name": "ipython",
        "version": 3
      },
      "file_extension": ".py",
      "mimetype": "text/x-python",
      "name": "python",
      "nbconvert_exporter": "python",
      "pygments_lexer": "ipython3",
      "version": "3.12.3"
    }
  },
  "nbformat": 4,
  "nbformat_minor": 0
}
